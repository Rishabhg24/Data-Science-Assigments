{
  "nbformat": 4,
  "nbformat_minor": 0,
  "metadata": {
    "colab": {
      "provenance": []
    },
    "kernelspec": {
      "name": "python3",
      "display_name": "Python 3"
    },
    "language_info": {
      "name": "python"
    }
  },
  "cells": [
    {
      "cell_type": "markdown",
      "source": [
        "#Statistics Basics"
      ],
      "metadata": {
        "id": "dh59bTpkf73N"
      }
    },
    {
      "cell_type": "markdown",
      "source": [
        "1. What is statistics, and why is it important?\n",
        "   - Statistics is the branch of mathematics that deals with collecting, organizing, analyzing, interpreting, and presenting data. It helps us understand patterns, relationships, and trends from data, often with the goal of making informed decisions.\n",
        "   \n",
        "   Why is Statistics Important?\n",
        "   \n",
        "    + Informed Decision-Making: Businesses, governments, and individuals use statistics to make smart choices (e.g., market research, policy decisions).\n",
        "\n",
        "   + Scientific Research: Almost all scientific fields use statistics to test hypotheses and validate findings.\n",
        "\n",
        "   + Understanding Risk and Uncertainty: It helps us assess the likelihood of outcomes, such as in insurance, weather forecasting, or finance.\n",
        "\n",
        "   + Improves Quality: Used in industries to monitor and improve product quality and efficiency.\n",
        "\n",
        "   + Data-Driven World: With the rise of big data and AI, understanding statistics is crucial for working with data effectively.\n"
      ],
      "metadata": {
        "id": "E-8l0VzhgIaP"
      }
    },
    {
      "cell_type": "markdown",
      "source": [
        "2. What are the two main types of statistics?\n",
        "   - The two main types of statistics are:\n",
        "    \n",
        "     + Descriptive Statistics:-\n",
        "These are methods for summarizing and organizing data so it can be easily understood.\n",
        "\n",
        "      Purpose: To describe the main features of a dataset.\n",
        "\n",
        "      Examples:\n",
        "\n",
        "      + Measures of central tendency: mean, median, mode\n",
        "      + Measures of spread: range, variance, standard deviation\n",
        "      + Data visualization: bar charts, histograms, pie charts\n",
        "\n",
        "    + Inferential Statistics:-\n",
        "These methods are used to make predictions or inferences about a population based on data from a sample.\n",
        "\n",
        "       Purpose:- To draw conclusions beyond the immediate data.\n",
        "\n",
        "       Examples:\n",
        "\n",
        "        + Hypothesis testing\n",
        "        + Confidence intervals\n",
        "        + Regression analysis\n",
        "        + Probability distributions"
      ],
      "metadata": {
        "id": "8ER1aNoug3Ge"
      }
    },
    {
      "cell_type": "markdown",
      "source": [
        "3. What are descriptive statistics?\n",
        "   - Descriptive statistics are tools and techniques used to summarize, organize, and present data in a meaningful way. They help you understand the main features of a dataset without making conclusions beyond it."
      ],
      "metadata": {
        "id": "y4jXlCwGh4Cm"
      }
    },
    {
      "cell_type": "markdown",
      "source": [
        "4. What is inferential statistics?\n",
        "   - Inferential statistics is the branch of statistics that allows you to make predictions, generalizations, or decisions about a larger population based on data collected from a sample."
      ],
      "metadata": {
        "id": "gJfN_dw6iDWs"
      }
    },
    {
      "cell_type": "markdown",
      "source": [
        "5. What is sampling in statistics?\n",
        "   - Sampling in statistics is the process of selecting a subset (called a sample) from a larger group (called the population) to analyze and draw conclusions about the whole population."
      ],
      "metadata": {
        "id": "n50qH30YiNm9"
      }
    },
    {
      "cell_type": "markdown",
      "source": [
        "6. What are the different types of sampling methods?\n",
        "   - There are several types of sampling methods in statistics, broadly categorized into probability and non-probability sampling. Each method serves different research goals and situations.\n",
        "\n",
        "+ Probability Sampling:-\n",
        "Each member of the population has a known, non-zero chance of being selected.\n",
        "\n",
        "    + Simple Random Sampling:- Every individual has an equal chance.\n",
        "          Example: Picking names from a hat.\n",
        "    + Systematic Sampling:- Select every kth item from a list after a random start.\n",
        "          Example: Every 10th person in a list of employees.\n",
        "    + Stratified Sampling:- Divide population into strata (groups) based on characteristics, then randomly sample from each group.\n",
        "          Example: Splitting by gender or income level.\n",
        "    + Cluster Sampling:- Divide population into clusters (often by geography), then randomly select entire clusters.\n",
        "          Example: Randomly selecting schools and surveying all students in them.\n",
        "\n",
        "+ Non-Probability Sampling:- Not all members have a known or equal chance of being selected.\n",
        "\n",
        "  + Convenience Sampling:- Choose individuals who are easiest to reach.\n",
        "         Example: Surveying people at a mall.\n",
        "  + Judgmental (Purposive) Sampling:- Researcher selects subjects based on knowledge or purpose.\n",
        "         Example: Selecting experts for a technical interview.\n",
        "  + Snowball Sampling:- Existing participants recruit future participants.\n",
        "        Example: Used in hard-to-reach populations like drug users or niche professions.\n",
        "  + Quota Sampling:-Ensure the sample represents certain characteristics in the same proportion as the population, but selection isn’t random.\n",
        "\n"
      ],
      "metadata": {
        "id": "-bLYBMhNiVEy"
      }
    },
    {
      "cell_type": "markdown",
      "source": [
        "7. What is the difference between random and non-random sampling?\n",
        "   - The difference between **random** and **non-random sampling** lies in how individuals from a population are selected for a sample. In **random sampling**, each member of the population has a known and equal chance of being chosen. This method relies on chance and is considered unbiased, making it ideal for drawing conclusions that can be generalized to the entire population. Examples of random sampling include simple random sampling, stratified sampling, and cluster sampling. Although it is more accurate and statistically valid, random sampling often requires more time, effort, and resources because it usually involves a complete list of the population.\n",
        "\n",
        "    On the other hand, **non-random sampling**, also called **non-probability sampling**, does not give every individual an equal or known chance of selection. Instead, the researcher may select participants based on convenience, judgment, or accessibility. This approach is easier, faster, and more cost-effective, especially for exploratory or preliminary studies. However, it is more prone to bias, which can limit the ability to generalize results to the broader population. Common types of non-random sampling include convenience sampling, purposive sampling, quota sampling, and snowball sampling.\n",
        "\n"
      ],
      "metadata": {
        "id": "qqlm5v77kz5j"
      }
    },
    {
      "cell_type": "markdown",
      "source": [
        "8. Define and give examples of qualitative and quantitative data?\n",
        "   - Qualitative Data:-\n",
        "Qualitative data is descriptive and deals with qualities or characteristics that cannot be measured with numbers. It’s often expressed in words, labels, or categories.\n",
        "     Characteristics:\n",
        "     + Non-numerical\n",
        "     + Describes attributes or properties\n",
        "     + Often collected through observations, interviews, or surveys\n",
        "     \n",
        "     Examples:\n",
        "     + Eye color: brown, blue, green\n",
        "     + Feedback: “Excellent service”, “Poor experience”\n",
        "     + Gender: male, female, other\n",
        "     +Type of vehicle: sedan, SUV, truck\n",
        "\n",
        "  +  Quantitative Data:- Quantitative data is numerical and can be measured or counted. It represents quantities and allows for mathematical operations.\n",
        "      \n",
        "      Characteristics:\n",
        "      + Numerical\n",
        "      + Can be continuous or discrete\n",
        "      + Used for calculations, statistics, and graphs\n",
        "      \n",
        "      Examples:\n",
        "      + Height: 170 cm\n",
        "      + Age: 25 years\n",
        "      + Number of books: 12\n",
        "      + Temperature: 36.5°C"
      ],
      "metadata": {
        "id": "uzgdDMEglrBb"
      }
    },
    {
      "cell_type": "markdown",
      "source": [
        "9. What are the different types of data in statistics?\n",
        "   - In statistics, data is classified into different types based on its nature and level of measurement. Understanding these types helps determine which statistical methods and visualizations are appropriate.\n",
        "    \n",
        "    + Qualitative (Categorical) Data:- Describes qualities or categories; non-numerical in nature.\n",
        "       +  Nominal Data:- Categories with no logical order.\n",
        "             \n",
        "             Examples:\n",
        "                  Gender (Male, Female), Eye color (Blue, Brown), Religion\n",
        "\n",
        "      + Ordinal Data:- Categories with a meaningful order, but no fixed interval.\n",
        "          \n",
        "          Examples:\n",
        "                    Satisfaction rating (Poor, Fair, Good, Excellent), Education level (High school, College, Graduate)\n",
        "\n",
        "   + Quantitative (Numerical) Data:- Represents quantities; numerical in nature and can be measured.\n",
        "  \n",
        "    + Discrete Data\n",
        "Countable values, usually whole numbers.\n",
        "       \n",
        "       Examples:\n",
        "            Number of students, Number of cars, Test scores\n",
        "\n",
        "     + Continuous Data:- Can take any value within a range, including decimals and fractions.\n",
        "         Examples:\n",
        "               Height, Weight, Temperature, Time"
      ],
      "metadata": {
        "id": "84rFYZwbnIK6"
      }
    },
    {
      "cell_type": "markdown",
      "source": [
        "10. Explain nominal, ordinal, interval, and ratio levels of measurement?\n",
        " - In statistics, data can be classified into four levels of measurement: nominal, ordinal, interval, and ratio, each with increasing levels of detail and mathematical applicability.\n",
        "\n",
        "      + Nominal level is the most basic, used for labeling variables without any quantitative value or order. It categorizes data into distinct groups, such as blood type (A, B, AB, O) or types of fruits (apple, mango, banana), where numbers or names are just labels and have no numerical meaning.\n",
        "     \n",
        "     + Ordinal level adds a sense of order or ranking to the categories, but the differences between ranks are not measurable. For instance, customer satisfaction ratings like \"poor,\" \"average,\" and \"excellent\" indicate order, but the gap between them is not consistent or measurable.\n",
        "     \n",
        "     + Interval level goes further by providing both order and measurable differences between values, but it lacks a true zero point. A classic example is temperature in Celsius or Fahrenheit—20°C is hotter than 10°C, and the difference is meaningful, but 0°C doesn't mean 'no temperature'. Finally, the ratio level includes all the features of interval data but also has a true, meaningful zero, which allows for meaningful comparisons using multiplication or division. Examples include height, weight, age, and income—where 0 means the absence of the quantity, and it makes sense to say that someone earning ₹40,000 earns twice as much as someone earning ₹20,000."
      ],
      "metadata": {
        "id": "eJfjKCjuot_h"
      }
    },
    {
      "cell_type": "markdown",
      "source": [
        "11. What is the measure of central tendency?\n",
        "    - A measure of central tendency is a statistical tool used to identify a single value that best represents the center or average of a set of data. It gives an idea of where the majority of data points lie, making it easier to understand and interpret large datasets.\n",
        "    \n",
        "      The three main measures are the mean, median, and mode.\n",
        "         + The mean is calculated by adding all the values and dividing by the number of observations, making it sensitive to extreme values or outliers.  \n",
        "         + The median is the middle value when the data is arranged in order, providing a better central value when data is skewed.\n",
        "         + The mode represents the value that occurs most frequently in the dataset and is especially useful for categorical data. Together, these measures help summarize data in a meaningful way and are widely used in areas like economics, education, business, and social sciences."
      ],
      "metadata": {
        "id": "EjYhSNbJpTm5"
      }
    },
    {
      "cell_type": "markdown",
      "source": [
        "12. Define mean, median, and mode?\n",
        "    - The mean is calculated by adding all the values and dividing by the number of observations, making it sensitive to extreme values or outliers.\n",
        "     \n",
        "     The median is the middle value when the data is arranged in order, providing a better central value when data is skewed.\n",
        "\n",
        "       The mode represents the value that occurs most frequently in the dataset and is especially useful for categorical data. Together, these measures help summarize data in a meaningful way and are widely used in areas like economics, education, business, and social sciences."
      ],
      "metadata": {
        "id": "wZzs2OPzp0Zw"
      }
    },
    {
      "cell_type": "markdown",
      "source": [
        "13. What is the significance of the measure of central tendency?\n",
        "    - The significance of the measure of central tendency lies in its ability to simplify complex data by providing a single representative value that reflects the overall trend or typical case within a dataset. It helps in understanding the general pattern of the data, making comparisons between different datasets easier, and forming the basis for further statistical analysis. In fields like education, it can be used to determine the average performance of students; in business, to analyze average sales or customer preferences; and in healthcare, to assess average recovery times or patient statistics. By summarizing large amounts of data into a manageable figure—such as the mean, median, or mode—researchers, analysts, and decision-makers can make informed judgments, detect patterns, and guide planning or policy-making effectively."
      ],
      "metadata": {
        "id": "B98BqxFPqJOQ"
      }
    },
    {
      "cell_type": "markdown",
      "source": [
        "14. What is variance, and how is it calculated?\n",
        "    - Variance is a statistical measure that indicates how spread out the values in a dataset are around the mean (average). It shows the degree of variability or dispersion—the higher the variance, the more the data points differ from the mean; the lower the variance, the closer they are to it.\n",
        "\n",
        "🔹 Formula for Variance\n",
        "There are two types:\n",
        "\n",
        "1. Population Variance (σ²):\n",
        "𝜎\n",
        "2\n",
        "=\n",
        "∑\n",
        "(\n",
        "𝑥\n",
        "𝑖\n",
        "−\n",
        "𝜇\n",
        ")\n",
        "2\n",
        "𝑁\n",
        "σ\n",
        "2\n",
        " =\n",
        "N\n",
        "∑(x\n",
        "i\n",
        "​\n",
        " −μ)\n",
        "2\n",
        "\n",
        "​\n",
        "\n",
        "2. Sample Variance (s²):\n",
        "𝑠\n",
        "2\n",
        "=\n",
        "∑\n",
        "(\n",
        "𝑥\n",
        "𝑖\n",
        "−\n",
        "𝑥\n",
        "ˉ\n",
        ")\n",
        "2\n",
        "𝑛\n",
        "−\n",
        "1\n",
        "s\n",
        "2\n",
        " =\n",
        "n−1\n",
        "∑(x\n",
        "i\n",
        "​\n",
        " −\n",
        "x\n",
        "ˉ\n",
        " )\n",
        "2\n",
        "\n",
        "​\n",
        "\n",
        "Where:\n",
        "\n",
        "𝑥\n",
        "𝑖\n",
        "x\n",
        "i\n",
        "​\n",
        "  = each data point\n",
        "\n",
        "𝜇\n",
        "μ = population mean\n",
        "\n",
        "𝑥\n",
        "ˉ\n",
        "x\n",
        "ˉ\n",
        "  = sample mean\n",
        "\n",
        "𝑁\n",
        "N = number of data points in the population\n",
        "\n",
        "𝑛\n",
        "n = number of data points in the sample\n",
        "\n",
        "Steps to Calculate Variance:\n",
        "Find the mean of the dataset.\n",
        "\n",
        "Subtract the mean from each value to get the deviation.\n",
        "\n",
        "Square each deviation.\n",
        "\n",
        "Sum all the squared deviations.\n",
        "\n",
        "Divide the total by:\n",
        "\n",
        "𝑁\n",
        "N for population variance\n",
        "\n",
        "𝑛\n",
        "−\n",
        "1\n",
        "n−1 for sample variance\n",
        "\n",
        "📌 Example:\n",
        "For sample data: 4, 8, 6\n",
        "\n",
        "Mean =\n",
        "(\n",
        "4\n",
        "+\n",
        "8\n",
        "+\n",
        "6\n",
        ")\n",
        "/\n",
        "3\n",
        "=\n",
        "6\n",
        "(4+8+6)/3=6\n",
        "\n",
        "Deviations = -2, 2, 0\n",
        "\n",
        "Squared deviations = 4, 4, 0\n",
        "\n",
        "Sum = 8\n",
        "\n",
        "Variance =\n",
        "8\n",
        "/\n",
        "(\n",
        "3\n",
        "−\n",
        "1\n",
        ")\n",
        "=\n",
        "4\n",
        "8/(3−1)=4\n",
        "\n",
        "So, sample variance = 4"
      ],
      "metadata": {
        "id": "DirRJB5JqVjA"
      }
    },
    {
      "cell_type": "markdown",
      "source": [
        "15. What is standard deviation, and why is it important?\n",
        "    - Standard deviation is a statistical measure that tells you how much the values in a dataset deviate from the mean (average). It is the square root of the variance, and it provides a more interpretable measure of spread because it’s in the same units as the original data.\n",
        "    \n",
        "     Why It’s Important:\n",
        "     + It shows how consistent or variable your data is.\n",
        "     + A small standard deviation means data points are close to the mean (low variability).\n",
        "     + A large standard deviation means data points are more spread out (high variability).\n",
        "     + It helps compare the spread of two or more datasets, even if their means are different.\n",
        "     + Crucial in many fields like quality control, finance (measuring risk), and scientific research."
      ],
      "metadata": {
        "id": "FH8T83vtqq7n"
      }
    },
    {
      "cell_type": "markdown",
      "source": [
        "16. Define and explain the term range in statistics?\n",
        "    - In statistics, the range is a simple measure of dispersion that shows the difference between the highest and lowest values in a dataset. It gives an idea of how spread out the data is.\n",
        "    The range helps describe the extent of variation within a dataset. It’s easy to calculate and gives a quick sense of how wide or narrow the data values are. However, it's highly sensitive to outliers—a single very high or low value can greatly affect the range. Because of this, it’s often used in combination with other measures like standard deviation or interquartile range for a more accurate picture of data variability."
      ],
      "metadata": {
        "id": "qEDyM85wrDbR"
      }
    },
    {
      "cell_type": "markdown",
      "source": [
        "17. What is the difference between variance and standard deviation?\n",
        "    - The difference between variance and standard deviation lies in how they express the spread of data around the mean.\n",
        "    \n",
        "     + Variance measures the average of the squared differences from the mean, which gives a sense of how much the values in a dataset vary, but it is expressed in squared units, making it less intuitive to interpret directly.\n",
        "     \n",
        "     + Standard deviation is the square root of the variance, which converts the spread back into the same units as the original data, making it more practical and easier to understand. While both describe variability, standard deviation is more commonly used because it relates more directly to the actual values being measured. In short, variance tells us how data points deviate in a squared sense, while standard deviation tells us how they deviate in real, meaningful units."
      ],
      "metadata": {
        "id": "doLPaGGArUPP"
      }
    },
    {
      "cell_type": "markdown",
      "source": [
        "18. What is skewness in a dataset?\n",
        "    - Skewness in a dataset refers to the asymmetry or distortion of the distribution of data values around the mean. It tells us whether the data is symmetrically distributed or tilted more toward one side."
      ],
      "metadata": {
        "id": "RjxkEbSxrtnf"
      }
    },
    {
      "cell_type": "markdown",
      "source": [
        "19. What does it mean if a dataset is positively or negatively skewed?\n",
        "    - If a dataset is positively or negatively skewed, it means the data is not symmetrically distributed around the mean, and instead shows a tilt or \"tail\" in one direction. A positively skewed (or right-skewed) distribution has a long tail on the right side, meaning that most of the data values are concentrated on the lower end, while a few very high values pull the mean upward. In this case, the mean is greater than the median. Common examples include income or house prices, where most people fall within a lower range, but a few have extremely high values. In contrast, a negatively skewed (or left-skewed) distribution has a long tail on the left, indicating that most values are higher with a few low outliers dragging the mean down. Here, the mean is less than the median. An example might be test scores where most students score high but a few perform poorly. Recognizing skewness helps in choosing the right statistical tools and interpreting the data accurately."
      ],
      "metadata": {
        "id": "Y4ZePx6Mr4Av"
      }
    },
    {
      "cell_type": "markdown",
      "source": [
        "20. Define and explain kurtosis?\n",
        "    - Kurtosis is a statistical measure that describes the \"tailedness\" or peakness of a data distribution compared to a normal (bell-shaped) distribution. It tells us how heavily the tails of a distribution differ from the tails of a normal distribution, which helps us understand the likelihood of outliers or extreme values."
      ],
      "metadata": {
        "id": "6LMDeiKjsHPo"
      }
    },
    {
      "cell_type": "markdown",
      "source": [
        "21. What is the purpose of covariance?\n",
        "    - The purpose of covariance is to measure the direction of the linear relationship between two variables. It indicates whether an increase in one variable tends to be associated with an increase or decrease in another."
      ],
      "metadata": {
        "id": "EQ200cPTsQc3"
      }
    },
    {
      "cell_type": "markdown",
      "source": [
        "22. What does correlation measure in statistics?\n",
        "    - Correlation in statistics measures the strength and direction of the linear relationship between two variables. It tells us how closely the values of one variable are related to the values of another."
      ],
      "metadata": {
        "id": "o92VDq3usaKY"
      }
    },
    {
      "cell_type": "markdown",
      "source": [
        "23. What is the difference between covariance and correlation?\n",
        "    - The difference between covariance and correlation lies in how they measure and express the relationship between two variables. Covariance indicates the direction of the relationship—whether the variables increase or decrease together—but it does not provide the strength of the relationship, and its value is influenced by the scale of the variables. In contrast, correlation measures both the strength and direction of the linear relationship between variables, and it is standardized, meaning it always ranges between –1 and +1, regardless of the units used. While covariance can be difficult to interpret due to its unbounded and unit-dependent values, correlation provides a more intuitive and comparable measure, making it more useful in practice for analyzing data relationships."
      ],
      "metadata": {
        "id": "FC5tuIhZsjKP"
      }
    },
    {
      "cell_type": "markdown",
      "source": [
        "24. What are some real-world applications of statistics?\n",
        "    - Statistics plays a vital role in many real-world fields by helping to analyze data, make predictions, and support decision-making. In healthcare, statistics are used to evaluate the effectiveness of treatments, track disease outbreaks, and design clinical trials. In business, companies use statistics for market research, customer behavior analysis, quality control, and financial forecasting. Government agencies rely on statistics to conduct censuses, develop policies, allocate resources, and monitor economic indicators like inflation and unemployment rates. In education, statistics help assess student performance, compare school outcomes, and guide curriculum improvements. Meanwhile, in sports, teams and analysts use statistical models to assess player performance, predict outcomes, and make strategic decisions. Overall, statistics is a fundamental tool in any field that involves data-driven decisions."
      ],
      "metadata": {
        "id": "fw7AKmovsu0H"
      }
    },
    {
      "cell_type": "markdown",
      "source": [
        "# Practical Questions"
      ],
      "metadata": {
        "id": "_jQptAavs4gn"
      }
    },
    {
      "cell_type": "markdown",
      "source": [
        "1. How do you calculate the mean, median, and mode of a dataset?\n"
      ],
      "metadata": {
        "id": "CYifdYN2s71W"
      }
    },
    {
      "cell_type": "code",
      "source": [
        "import numpy as np\n",
        "import pandas as pd\n",
        "from scipy import stats\n",
        "\n",
        "# Sample dataset (can be list or pandas Series)\n",
        "data = [2, 4, 4, 4, 5, 5, 7, 9, 9, 9, 10]\n",
        "\n",
        "# Using NumPy for mean and median\n",
        "mean_val = np.mean(data)\n",
        "median_val = np.median(data)\n",
        "\n",
        "# Using scipy.stats for mode (returns ModeResult object)\n",
        "mode_result = stats.mode(data, keepdims=True)\n",
        "mode_val = mode_result.mode[0]  # Most frequent value\n",
        "mode_count = mode_result.count[0]  # Frequency of mode\n",
        "\n",
        "print(f\"Mean: {mean_val}\")\n",
        "print(f\"Median: {median_val}\")\n",
        "print(f\"Mode: {mode_val} (appears {mode_count} times)\")\n",
        "\n",
        "# Alternatively, using pandas\n",
        "series = pd.Series(data)\n",
        "print(\"\\nUsing pandas:\")\n",
        "print(f\"Mean: {series.mean()}\")\n",
        "print(f\"Median: {series.median()}\")\n",
        "print(f\"Mode(s): {list(series.mode())}\")  # pandas mode can return multiple modes\n"
      ],
      "metadata": {
        "colab": {
          "base_uri": "https://localhost:8080/"
        },
        "id": "hOrC1Fd159I_",
        "outputId": "fb8b3271-bac8-4526-8282-e1a0f000b7c1"
      },
      "execution_count": null,
      "outputs": [
        {
          "output_type": "stream",
          "name": "stdout",
          "text": [
            "Mean: 6.181818181818182\n",
            "Median: 5.0\n",
            "Mode: 4 (appears 3 times)\n",
            "\n",
            "Using pandas:\n",
            "Mean: 6.181818181818182\n",
            "Median: 5.0\n",
            "Mode(s): [4, 9]\n"
          ]
        }
      ]
    },
    {
      "cell_type": "markdown",
      "source": [
        "2. Write a Python program to compute the variance and standard deviation of a dataset"
      ],
      "metadata": {
        "id": "M5_knuOptd2n"
      }
    },
    {
      "cell_type": "code",
      "source": [
        "import statistics\n",
        "\n",
        "# Sample dataset\n",
        "data = [10, 12, 23, 23, 16, 23, 21, 16]\n",
        "\n",
        "# --- Manual Calculation ---\n",
        "# Step 1: Calculate the mean\n",
        "mean = sum(data) / len(data)\n",
        "\n",
        "# Step 2: Calculate variance\n",
        "variance = sum((x - mean) ** 2 for x in data) / (len(data) - 1)  # Sample variance\n",
        "\n",
        "# Step 3: Calculate standard deviation\n",
        "std_deviation = variance ** 0.5\n",
        "\n",
        "print(\"Manual Calculation:\")\n",
        "print(f\"Mean = {mean:.2f}\")\n",
        "print(f\"Variance = {variance:.2f}\")\n",
        "print(f\"Standard Deviation = {std_deviation:.2f}\")\n",
        "\n",
        "# --- Using statistics module ---\n",
        "variance_builtin = statistics.variance(data)\n",
        "std_deviation_builtin = statistics.stdev(data)\n",
        "\n",
        "print(\"\\nUsing statistics module:\")\n",
        "print(f\"Variance = {variance_builtin:.2f}\")\n",
        "print(f\"Standard Deviation = {std_deviation_builtin:.2f}\")\n"
      ],
      "metadata": {
        "colab": {
          "base_uri": "https://localhost:8080/"
        },
        "id": "RvFXvlH4tiel",
        "outputId": "f9a33453-5e83-4742-8af2-441b0319ef47"
      },
      "execution_count": null,
      "outputs": [
        {
          "output_type": "stream",
          "name": "stdout",
          "text": [
            "Manual Calculation:\n",
            "Mean = 18.00\n",
            "Variance = 27.43\n",
            "Standard Deviation = 5.24\n",
            "\n",
            "Using statistics module:\n",
            "Variance = 27.43\n",
            "Standard Deviation = 5.24\n"
          ]
        }
      ]
    },
    {
      "cell_type": "markdown",
      "source": [
        "3. Create a dataset and classify it into nominal, ordinal, interval, and ratio types?\n",
        "\n"
      ],
      "metadata": {
        "id": "yh-w1bRXtog4"
      }
    },
    {
      "cell_type": "code",
      "source": [
        "import pandas as pd\n",
        "\n",
        "# Create sample data\n",
        "data = {\n",
        "    'ID': range(1, 11),\n",
        "\n",
        "    # Nominal: No order, just categories\n",
        "    'Favorite_Color': ['Red', 'Blue', 'Green', 'Blue', 'Red', 'Green', 'Yellow', 'Blue', 'Red', 'Yellow'],\n",
        "\n",
        "    # Ordinal: Categories with order\n",
        "    'Education_Level': ['High School', 'Bachelor', 'Master', 'PhD', 'Bachelor',\n",
        "                        'High School', 'Master', 'PhD', 'Bachelor', 'High School'],\n",
        "\n",
        "    # Interval: Numeric with meaningful intervals, no true zero (Temperature in Celsius)\n",
        "    'Temperature_C': [23, 25, 22, 20, 24, 21, 19, 26, 22, 23],\n",
        "\n",
        "    # Ratio: Numeric with true zero (e.g., Income in dollars)\n",
        "    'Annual_Income': [45000, 54000, 60000, 72000, 58000, 47000, 35000, 67000, 49000, 51000]\n",
        "}\n",
        "\n",
        "df = pd.DataFrame(data)\n",
        "\n",
        "# To illustrate ordinal data properly, convert to categorical with order\n",
        "education_order = ['High School', 'Bachelor', 'Master', 'PhD']\n",
        "df['Education_Level'] = pd.Categorical(df['Education_Level'], categories=education_order, ordered=True)\n",
        "\n",
        "# Display dataset and data types\n",
        "print(\"Dataset:\")\n",
        "print(df)\n",
        "\n",
        "print(\"\\nData Types:\")\n",
        "print(df.dtypes)\n"
      ],
      "metadata": {
        "colab": {
          "base_uri": "https://localhost:8080/"
        },
        "id": "FCUoOsB76KaX",
        "outputId": "1aece192-d296-40e4-831c-cd01e320234b"
      },
      "execution_count": null,
      "outputs": [
        {
          "output_type": "stream",
          "name": "stdout",
          "text": [
            "Dataset:\n",
            "   ID Favorite_Color Education_Level  Temperature_C  Annual_Income\n",
            "0   1            Red     High School             23          45000\n",
            "1   2           Blue        Bachelor             25          54000\n",
            "2   3          Green          Master             22          60000\n",
            "3   4           Blue             PhD             20          72000\n",
            "4   5            Red        Bachelor             24          58000\n",
            "5   6          Green     High School             21          47000\n",
            "6   7         Yellow          Master             19          35000\n",
            "7   8           Blue             PhD             26          67000\n",
            "8   9            Red        Bachelor             22          49000\n",
            "9  10         Yellow     High School             23          51000\n",
            "\n",
            "Data Types:\n",
            "ID                    int64\n",
            "Favorite_Color       object\n",
            "Education_Level    category\n",
            "Temperature_C         int64\n",
            "Annual_Income         int64\n",
            "dtype: object\n"
          ]
        }
      ]
    },
    {
      "cell_type": "markdown",
      "source": [
        "4. Implement sampling techniques like random sampling and stratified sampling"
      ],
      "metadata": {
        "id": "FJHmhmZkuTbw"
      }
    },
    {
      "cell_type": "code",
      "source": [
        "#random Sampling\n",
        "\n",
        "import random\n",
        "\n",
        "# Full population dataset\n",
        "population = ['A', 'B', 'C', 'D', 'E', 'F', 'G', 'H', 'I', 'J']\n",
        "\n",
        "# Randomly sample 4 elements\n",
        "sample = random.sample(population, 4)\n",
        "\n",
        "print(\"Random Sample:\", sample)\n"
      ],
      "metadata": {
        "colab": {
          "base_uri": "https://localhost:8080/"
        },
        "id": "ADSv4licupGa",
        "outputId": "d6b41f43-79f0-413e-f257-d162b548fefa"
      },
      "execution_count": null,
      "outputs": [
        {
          "output_type": "stream",
          "name": "stdout",
          "text": [
            "Random Sample: ['B', 'I', 'D', 'C']\n"
          ]
        }
      ]
    },
    {
      "cell_type": "code",
      "source": [
        "#stratified sampling\n",
        "\n",
        "import pandas as pd\n",
        "from sklearn.model_selection import train_test_split\n",
        "\n",
        "# Sample dataset with categories (strata)\n",
        "data = pd.DataFrame({\n",
        "    'Student': ['A', 'B', 'C', 'D', 'E', 'F', 'G', 'H'],\n",
        "    'Gender': ['Male', 'Female', 'Female', 'Male', 'Female', 'Male', 'Female', 'Male']\n",
        "})\n",
        "\n",
        "# Stratified sampling: split into train sample with stratification based on 'Gender'\n",
        "train, _ = train_test_split(data, test_size=0.5, stratify=data['Gender'], random_state=42)\n",
        "\n",
        "print(\"Stratified Sample:\\n\", train)\n"
      ],
      "metadata": {
        "colab": {
          "base_uri": "https://localhost:8080/"
        },
        "id": "gS4F_j8Auw6R",
        "outputId": "cb7c7050-74e8-40e9-e731-aa41a0efb13b"
      },
      "execution_count": null,
      "outputs": [
        {
          "output_type": "stream",
          "name": "stdout",
          "text": [
            "Stratified Sample:\n",
            "   Student  Gender\n",
            "7       H    Male\n",
            "2       C  Female\n",
            "6       G  Female\n",
            "3       D    Male\n"
          ]
        }
      ]
    },
    {
      "cell_type": "markdown",
      "source": [
        "5. Write a Python function to calculate the range of a dataset."
      ],
      "metadata": {
        "id": "cx0L4xNwvIbP"
      }
    },
    {
      "cell_type": "code",
      "source": [
        "def calculate_range(data):\n",
        "    if not data:\n",
        "        return None  # Handle empty list\n",
        "    return max(data) - min(data)\n",
        "\n",
        "# Example usage\n",
        "dataset = [12, 7, 22, 17, 5, 15]\n",
        "data_range = calculate_range(dataset)\n",
        "print(f\"Range of the dataset: {data_range}\")\n"
      ],
      "metadata": {
        "colab": {
          "base_uri": "https://localhost:8080/"
        },
        "id": "x8oZKQMUvPkr",
        "outputId": "ec6b2f3f-578b-4d76-f8aa-37923c97d420"
      },
      "execution_count": null,
      "outputs": [
        {
          "output_type": "stream",
          "name": "stdout",
          "text": [
            "Range of the dataset: 17\n"
          ]
        }
      ]
    },
    {
      "cell_type": "markdown",
      "source": [
        "6. Create a dataset and plot its histogram to visualize skewness."
      ],
      "metadata": {
        "id": "iJQqFDAovWMg"
      }
    },
    {
      "cell_type": "code",
      "source": [
        "import numpy as np\n",
        "import matplotlib.pyplot as plt\n",
        "\n",
        "# Create a positively skewed dataset (right-skewed)\n",
        "data = np.random.exponential(scale=2.0, size=1000)\n",
        "\n",
        "# Plot histogram\n",
        "plt.figure(figsize=(8, 5))\n",
        "plt.hist(data, bins=30, color='skyblue', edgecolor='black')\n",
        "plt.title('Histogram to Visualize Skewness')\n",
        "plt.xlabel('Value')\n",
        "plt.ylabel('Frequency')\n",
        "plt.grid(True)\n",
        "plt.show()\n"
      ],
      "metadata": {
        "colab": {
          "base_uri": "https://localhost:8080/",
          "height": 487
        },
        "id": "y9gWsGPLvb7Y",
        "outputId": "1d16583d-e3f2-4506-d7ba-a3502ffcba68"
      },
      "execution_count": null,
      "outputs": [
        {
          "output_type": "display_data",
          "data": {
            "text/plain": [
              "<Figure size 800x500 with 1 Axes>"
            ],
            "image/png": "[encoded data removed]"
          },
          "metadata": {}
        }
      ]
    },
    {
      "cell_type": "markdown",
      "source": [
        "7. Calculate skewness and kurtosis of a dataset using Python libraries."
      ],
      "metadata": {
        "id": "DIxq3wG6vi_o"
      }
    },
    {
      "cell_type": "code",
      "source": [
        "import numpy as np\n",
        "import pandas as pd\n",
        "from scipy.stats import skew, kurtosis\n",
        "\n",
        "# Create a sample dataset\n",
        "data = np.random.normal(loc=50, scale=10, size=1000)  # Normally distributed\n",
        "\n",
        "# Convert to DataFrame (optional)\n",
        "df = pd.DataFrame(data, columns=['Value'])\n",
        "\n",
        "# Calculate skewness and kurtosis\n",
        "data_skewness = skew(df['Value'])\n",
        "data_kurtosis = kurtosis(df['Value'])  # By default, this gives excess kurtosis\n",
        "\n",
        "print(f\"Skewness: {data_skewness:.3f}\")\n",
        "print(f\"Kurtosis: {data_kurtosis:.3f}\")  # If ~0, it's mesokurtic (normal-like)\n"
      ],
      "metadata": {
        "colab": {
          "base_uri": "https://localhost:8080/"
        },
        "id": "WG0AI6wsvpqx",
        "outputId": "c302b61a-d59b-49cf-b058-c7b71e1b2bb0"
      },
      "execution_count": null,
      "outputs": [
        {
          "output_type": "stream",
          "name": "stdout",
          "text": [
            "Skewness: 0.083\n",
            "Kurtosis: 0.069\n"
          ]
        }
      ]
    },
    {
      "cell_type": "markdown",
      "source": [
        "8. Generate a dataset and demonstrate positive and negative skewness."
      ],
      "metadata": {
        "id": "2X4duDCuvw34"
      }
    },
    {
      "cell_type": "code",
      "source": [
        "import numpy as np\n",
        "import matplotlib.pyplot as plt\n",
        "from scipy.stats import skew\n",
        "\n",
        "# Generate datasets\n",
        "positive_skew = np.random.exponential(scale=2.0, size=1000)          # Right-skewed\n",
        "negative_skew = -np.random.exponential(scale=2.0, size=1000) + 10     # Left-skewed\n",
        "\n",
        "# Calculate skewness\n",
        "print(f\"Positive skewness: {skew(positive_skew):.3f}\")\n",
        "print(f\"Negative skewness: {skew(negative_skew):.3f}\")\n",
        "\n",
        "# Plotting both\n",
        "fig, axs = plt.subplots(1, 2, figsize=(12, 5))\n",
        "\n",
        "# Positive skew\n",
        "axs[0].hist(positive_skew, bins=30, color='skyblue', edgecolor='black')\n",
        "axs[0].set_title(\"Positively Skewed\")\n",
        "axs[0].set_xlabel(\"Value\")\n",
        "axs[0].set_ylabel(\"Frequency\")\n",
        "\n",
        "# Negative skew\n",
        "axs[1].hist(negative_skew, bins=30, color='salmon', edgecolor='black')\n",
        "axs[1].set_title(\"Negatively Skewed\")\n",
        "axs[1].set_xlabel(\"Value\")\n",
        "axs[1].set_ylabel(\"Frequency\")\n",
        "\n",
        "plt.tight_layout()\n",
        "plt.show()\n"
      ],
      "metadata": {
        "colab": {
          "base_uri": "https://localhost:8080/",
          "height": 542
        },
        "id": "-lU7qo9dv3Ve",
        "outputId": "e0ebbd15-de87-4e8e-acea-29ab059ff6ad"
      },
      "execution_count": null,
      "outputs": [
        {
          "output_type": "stream",
          "name": "stdout",
          "text": [
            "Positive skewness: 1.918\n",
            "Negative skewness: -2.315\n"
          ]
        },
        {
          "output_type": "display_data",
          "data": {
            "text/plain": [
              "<Figure size 1200x500 with 2 Axes>"
            ],
            "image/png": "[encoded data removed]"
          },
          "metadata": {}
        }
      ]
    },
    {
      "cell_type": "markdown",
      "source": [
        "9. Write a Python script to calculate covariance between two datasets."
      ],
      "metadata": {
        "id": "zdEUclsdv-l1"
      }
    },
    {
      "cell_type": "code",
      "source": [
        "import numpy as np\n",
        "\n",
        "# Sample datasets\n",
        "x = [2, 4, 6, 8, 10]\n",
        "y = [1, 3, 2, 5, 7]\n",
        "\n",
        "# --- Manual Calculation ---\n",
        "def calculate_covariance(x, y):\n",
        "    if len(x) != len(y):\n",
        "        raise ValueError(\"Datasets must have the same length.\")\n",
        "\n",
        "    n = len(x)\n",
        "    mean_x = sum(x) / n\n",
        "    mean_y = sum(y) / n\n",
        "\n",
        "    covariance = sum((x[i] - mean_x) * (y[i] - mean_y) for i in range(n)) / (n - 1)\n",
        "    return covariance\n",
        "\n",
        "manual_cov = calculate_covariance(x, y)\n",
        "print(f\"Manual Covariance: {manual_cov:.2f}\")\n",
        "\n",
        "# --- Using numpy ---\n",
        "cov_matrix = np.cov(x, y, bias=False)\n",
        "print(f\"NumPy Covariance: {cov_matrix[0, 1]:.2f}\")\n"
      ],
      "metadata": {
        "colab": {
          "base_uri": "https://localhost:8080/"
        },
        "id": "_4O9IpzawIrG",
        "outputId": "9a8335c0-05b1-4a12-806f-9047fd0aaa4f"
      },
      "execution_count": null,
      "outputs": [
        {
          "output_type": "stream",
          "name": "stdout",
          "text": [
            "Manual Covariance: 7.00\n",
            "NumPy Covariance: 7.00\n"
          ]
        }
      ]
    },
    {
      "cell_type": "markdown",
      "source": [
        "10. Write a Python script to calculate the correlation coefficient between two datasets."
      ],
      "metadata": {
        "id": "7KBr59-dwKTH"
      }
    },
    {
      "cell_type": "code",
      "source": [
        "import numpy as np\n",
        "\n",
        "# Sample datasets\n",
        "x = [2, 4, 6, 8, 10]\n",
        "y = [1, 3, 2, 5, 7]\n",
        "\n",
        "# --- Manual Calculation ---\n",
        "def calculate_correlation(x, y):\n",
        "    if len(x) != len(y):\n",
        "        raise ValueError(\"Datasets must be the same length.\")\n",
        "\n",
        "    n = len(x)\n",
        "    mean_x = sum(x) / n\n",
        "    mean_y = sum(y) / n\n",
        "\n",
        "    # Calculate numerator and denominator\n",
        "    numerator = sum((x[i] - mean_x) * (y[i] - mean_y) for i in range(n))\n",
        "    denominator = (sum((x[i] - mean_x)**2 for i in range(n)) *\n",
        "                   sum((y[i] - mean_y)**2 for i in range(n))) ** 0.5\n",
        "\n",
        "    return numerator / denominator\n",
        "\n",
        "manual_corr = calculate_correlation(x, y)\n",
        "print(f\"Manual Correlation Coefficient: {manual_corr:.2f}\")\n",
        "\n",
        "# --- Using numpy ---\n",
        "numpy_corr = np.corrcoef(x, y)[0, 1]\n",
        "print(f\"NumPy Correlation Coefficient: {numpy_corr:.2f}\")\n"
      ],
      "metadata": {
        "colab": {
          "base_uri": "https://localhost:8080/"
        },
        "id": "HbV1VwlmwO1_",
        "outputId": "31f4f99f-84dd-4a4f-d0c4-271799b54ce0"
      },
      "execution_count": null,
      "outputs": [
        {
          "output_type": "stream",
          "name": "stdout",
          "text": [
            "Manual Correlation Coefficient: 0.92\n",
            "NumPy Correlation Coefficient: 0.92\n"
          ]
        }
      ]
    },
    {
      "cell_type": "markdown",
      "source": [
        "11. Create a scatter plot to visualize the relationship between two variables."
      ],
      "metadata": {
        "id": "U3jcqrUQwVNX"
      }
    },
    {
      "cell_type": "code",
      "source": [
        "import matplotlib.pyplot as plt\n",
        "\n",
        "# Sample data\n",
        "x = [2, 4, 6, 8, 10]\n",
        "y = [1, 3, 2, 5, 7]\n",
        "\n",
        "# Create scatter plot\n",
        "plt.figure(figsize=(6, 4))\n",
        "plt.scatter(x, y, color='blue', edgecolors='black')\n",
        "\n",
        "# Add labels and title\n",
        "plt.title(\"Scatter Plot: X vs Y\")\n",
        "plt.xlabel(\"X values\")\n",
        "plt.ylabel(\"Y values\")\n",
        "plt.grid(True)\n",
        "\n",
        "# Show plot\n",
        "plt.show()\n"
      ],
      "metadata": {
        "colab": {
          "base_uri": "https://localhost:8080/",
          "height": 410
        },
        "id": "1QvH52YrwboT",
        "outputId": "5dd8b955-7d4b-4afe-f2d6-46506df94b55"
      },
      "execution_count": null,
      "outputs": [
        {
          "output_type": "display_data",
          "data": {
            "text/plain": [
              "<Figure size 600x400 with 1 Axes>"
            ],
            "image/png": "[encoded data removed]"
          },
          "metadata": {}
        }
      ]
    },
    {
      "cell_type": "markdown",
      "source": [
        "12. Implement and compare simple random sampling and systematic sampling."
      ],
      "metadata": {
        "id": "1T1rl9Ddwg1X"
      }
    },
    {
      "cell_type": "code",
      "source": [
        "import numpy as np\n",
        "import pandas as pd\n",
        "import matplotlib.pyplot as plt\n",
        "\n",
        "# Set seed for reproducibility\n",
        "np.random.seed(42)\n",
        "\n",
        "# Create a synthetic population of 1000 elements\n",
        "population_size = 1000\n",
        "population = np.random.normal(loc=50, scale=10, size=population_size)  # Normal distribution\n",
        "\n",
        "# Sampling parameters\n",
        "sample_size = 100\n",
        "\n",
        "# --- Simple Random Sampling ---\n",
        "srs_sample = np.random.choice(population, size=sample_size, replace=False)\n",
        "\n",
        "# --- Systematic Sampling ---\n",
        "k = population_size // sample_size\n",
        "start = np.random.randint(0, k)\n",
        "systematic_sample = population[start::k][:sample_size]  # start + every k-th element\n",
        "\n",
        "# Summary stats\n",
        "def summarize(sample, method):\n",
        "    return {\n",
        "        \"Method\": method,\n",
        "        \"Mean\": np.mean(sample),\n",
        "        \"Std Dev\": np.std(sample),\n",
        "        \"Min\": np.min(sample),\n",
        "        \"Max\": np.max(sample)\n",
        "    }\n",
        "\n",
        "summary_df = pd.DataFrame([\n",
        "    summarize(population, \"Population\"),\n",
        "    summarize(srs_sample, \"Simple Random\"),\n",
        "    summarize(systematic_sample, \"Systematic\")\n",
        "])\n",
        "\n",
        "print(summary_df)\n"
      ],
      "metadata": {
        "id": "hwLrWEU8wlHD",
        "colab": {
          "base_uri": "https://localhost:8080/"
        },
        "outputId": "cdd8ab11-68f2-40df-f214-87a46d016051"
      },
      "execution_count": null,
      "outputs": [
        {
          "output_type": "stream",
          "name": "stdout",
          "text": [
            "          Method       Mean    Std Dev        Min        Max\n",
            "0     Population  50.193321   9.787262  17.587327  88.527315\n",
            "1  Simple Random  51.384706  10.384381  26.980788  80.788808\n",
            "2     Systematic  49.522282   9.498663  23.031134  68.861859\n"
          ]
        }
      ]
    },
    {
      "cell_type": "markdown",
      "source": [
        "13. Calculate the mean, median, and mode of grouped data\n"
      ],
      "metadata": {
        "id": "QtbkaLxm2mLJ"
      }
    },
    {
      "cell_type": "code",
      "source": [
        "import numpy as np\n",
        "from scipy import stats\n",
        "\n",
        "# Given data: midpoints of class intervals and corresponding frequencies\n",
        "midpoints = np.array([15, 25, 35, 45, 55])  # Midpoints of class intervals\n",
        "frequencies = np.array([5, 10, 15, 20, 25])  # Frequencies of each class\n",
        "\n",
        "# Calculate the mean\n",
        "mean = np.sum(midpoints * frequencies) / np.sum(frequencies)\n",
        "\n",
        "# Calculate the median\n",
        "# First, calculate cumulative frequencies\n",
        "cumulative_frequencies = np.cumsum(frequencies)\n",
        "total_frequency = np.sum(frequencies)\n",
        "median_class_index = np.where(cumulative_frequencies >= total_frequency / 2)[0][0]\n",
        "L = midpoints[median_class_index]  # Lower boundary of the median class\n",
        "F = cumulative_frequencies[median_class_index - 1] if median_class_index > 0 else 0  # Cumulative frequency before the median class\n",
        "f = frequencies[median_class_index]  # Frequency of the median class\n",
        "h = 10  # Class width (assuming uniform class width)\n",
        "\n",
        "median = L + ((total_frequency / 2 - F) / f) * h\n",
        "\n",
        "# Calculate the mode\n",
        "# First, find the modal class (the class with the highest frequency)\n",
        "modal_class_index = np.argmax(frequencies)\n",
        "L = midpoints[modal_class_index]  # Lower boundary of the modal class\n",
        "F0 = cumulative_frequencies[modal_class_index - 1] if modal_class_index > 0 else 0  # Cumulative frequency before the modal class\n",
        "f0 = frequencies[modal_class_index]  # Frequency of the modal class\n",
        "f1 = frequencies[modal_class_index + 1] if modal_class_index + 1 < len(frequencies) else 0  # Frequency of the next class\n",
        "h = 10  # Class width (assuming uniform class width)\n",
        "\n",
        "mode = L + ((f0 - F0) / ((f0 - F0) + (f0 - f1))) * h\n",
        "\n",
        "# Output the results\n",
        "print(f\"Mean: {mean:.2f}\")\n",
        "print(f\"Median: {median:.2f}\")\n",
        "print(f\"Mode: {mode:.2f}\")\n"
      ],
      "metadata": {
        "colab": {
          "base_uri": "https://localhost:8080/"
        },
        "id": "NfEcn-6Y3OMI",
        "outputId": "94de7d0d-f4a1-410c-8593-22f347f86074"
      },
      "execution_count": null,
      "outputs": [
        {
          "output_type": "stream",
          "name": "stdout",
          "text": [
            "Mean: 41.67\n",
            "Median: 48.75\n",
            "Mode: -inf\n"
          ]
        },
        {
          "output_type": "stream",
          "name": "stderr",
          "text": [
            "<ipython-input-17-3315706454>:32: RuntimeWarning: divide by zero encountered in scalar divide\n",
            "  mode = L + ((f0 - F0) / ((f0 - F0) + (f0 - f1))) * h\n"
          ]
        }
      ]
    },
    {
      "cell_type": "markdown",
      "source": [
        "14. Simulate data using Python and calculate its central tendency and dispersion"
      ],
      "metadata": {
        "id": "0R_aQ8YS3djv"
      }
    },
    {
      "cell_type": "code",
      "source": [
        "import numpy as np\n",
        "import pandas as pd\n",
        "import matplotlib.pyplot as plt\n",
        "from scipy import stats\n",
        "\n",
        "# Step 1: Simulate Data\n",
        "np.random.seed(42)  # For reproducibility\n",
        "mean = 50\n",
        "std_dev = 10\n",
        "sample_size = 1000\n",
        "\n",
        "# Generate random data following a normal distribution\n",
        "data = np.random.normal(loc=mean, scale=std_dev, size=sample_size)\n",
        "\n",
        "# Convert to a pandas DataFrame for easier handling\n",
        "df = pd.DataFrame(data, columns=['Value'])\n",
        "\n",
        "# Step 2: Central Tendency\n",
        "mean_value = df['Value'].mean()\n",
        "median_value = df['Value'].median()\n",
        "mode_value = df['Value'].mode()[0]  # mode() returns a Series\n",
        "\n",
        "# Step 3: Dispersion\n",
        "data_range = df['Value'].max() - df['Value'].min()\n",
        "variance = df['Value'].var()\n",
        "std_deviation = df['Value'].std()\n",
        "iqr = stats.iqr(df['Value'])\n",
        "\n",
        "# Step 4: Visualization\n",
        "plt.figure(figsize=(10, 6))\n",
        "plt.hist(df['Value'], bins=30, edgecolor='black', alpha=0.7)\n",
        "plt.axvline(mean_value, color='r', linestyle='dashed', linewidth=2, label=f'Mean: {mean_value:.2f}')\n",
        "plt.axvline(median_value, color='g', linestyle='dashed', linewidth=2, label=f'Median: {median_value:.2f}')\n",
        "plt.axvline(mode_value, color='b', linestyle='dashed', linewidth=2, label=f'Mode: {mode_value:.2f}')\n",
        "plt.title('Histogram of Simulated Data')\n",
        "plt.xlabel('Value')\n",
        "plt.ylabel('Frequency')\n",
        "plt.legend()\n",
        "plt.grid(True)\n",
        "plt.show()\n",
        "\n",
        "# Output the calculated statistics\n",
        "print(f\"Mean: {mean_value:.2f}\")\n",
        "print(f\"Median: {median_value:.2f}\")\n",
        "print(f\"Mode: {mode_value:.2f}\")\n",
        "print(f\"Range: {data_range:.2f}\")\n",
        "print(f\"Variance: {variance:.2f}\")\n",
        "print(f\"Standard Deviation: {std_deviation:.2f}\")\n",
        "print(f\"Interquartile Range (IQR): {iqr:.2f}\")\n"
      ],
      "metadata": {
        "colab": {
          "base_uri": "https://localhost:8080/",
          "height": 685
        },
        "id": "rqFUevL73ive",
        "outputId": "ba0d125f-1173-40ad-938b-caf9f1ce09b3"
      },
      "execution_count": null,
      "outputs": [
        {
          "output_type": "display_data",
          "data": {
            "text/plain": [
              "<Figure size 1000x600 with 1 Axes>"
            ],
            "image/png": "[encoded data removed]"
          },
          "metadata": {}
        },
        {
          "output_type": "stream",
          "name": "stdout",
          "text": [
            "Mean: 50.19\n",
            "Median: 50.25\n",
            "Mode: 17.59\n",
            "Range: 70.94\n",
            "Variance: 95.89\n",
            "Standard Deviation: 9.79\n",
            "Interquartile Range (IQR): 12.96\n"
          ]
        }
      ]
    },
    {
      "cell_type": "markdown",
      "source": [
        "15. Use NumPy or pandas to summarize a dataset’s descriptive statistics"
      ],
      "metadata": {
        "id": "i6CAaxO83t-_"
      }
    },
    {
      "cell_type": "code",
      "source": [
        "import numpy as np\n",
        "import pandas as pd\n",
        "\n",
        "# Create a sample DataFrame with synthetic data\n",
        "np.random.seed(42)\n",
        "data = {\n",
        "    'Age': np.random.randint(18, 70, size=100),\n",
        "    'Income': np.random.normal(50000, 15000, size=100),\n",
        "    'Score': np.random.uniform(0, 100, size=100)\n",
        "}\n",
        "\n",
        "df = pd.DataFrame(data)\n",
        "\n",
        "# Display first few rows\n",
        "print(\"Sample data:\\n\", df.head(), \"\\n\")\n",
        "\n",
        "# --- Descriptive Statistics ---\n",
        "summary = df.describe().T  # Transpose for better readability\n",
        "summary['median'] = df.median()\n",
        "summary['missing'] = df.isnull().sum()\n",
        "\n",
        "# Reorder columns\n",
        "summary = summary[['count', 'mean', 'std', 'min', '25%', 'median', '50%', '75%', 'max', 'missing']]\n",
        "\n",
        "print(\"Descriptive Statistics Summary:\\n\")\n",
        "print(summary)\n"
      ],
      "metadata": {
        "colab": {
          "base_uri": "https://localhost:8080/"
        },
        "id": "F4gzGAjV30Eg",
        "outputId": "ae934549-49a4-4649-f9f9-df4a751ebc64"
      },
      "execution_count": null,
      "outputs": [
        {
          "output_type": "stream",
          "name": "stdout",
          "text": [
            "Sample data:\n",
            "    Age        Income      Score\n",
            "0   56  21864.848417  69.578440\n",
            "1   69  29498.267917  22.855002\n",
            "2   46  59544.576625  17.495493\n",
            "3   32  36399.189971  98.216834\n",
            "4   60  57140.638811  51.663589 \n",
            "\n",
            "Descriptive Statistics Summary:\n",
            "\n",
            "        count          mean           std           min           25%  \\\n",
            "Age     100.0     43.350000     14.904663     19.000000     31.750000   \n",
            "Income  100.0  50584.244853  15273.856641  20901.331721  38368.134977   \n",
            "Score   100.0     51.596984     29.111232      0.518486     27.938809   \n",
            "\n",
            "              median           50%           75%           max  missing  \n",
            "Age        42.000000     42.000000     57.000000     69.000000        0  \n",
            "Income  49051.087929  49051.087929  61242.649463  94154.951247        0  \n",
            "Score      49.654355     49.654355     75.292758     99.625370        0  \n"
          ]
        }
      ]
    },
    {
      "cell_type": "markdown",
      "source": [
        "16. Plot a boxplot to understand the spread and identify outliers"
      ],
      "metadata": {
        "id": "I7I06B0T38mH"
      }
    },
    {
      "cell_type": "code",
      "source": [
        "import numpy as np\n",
        "import pandas as pd\n",
        "import matplotlib.pyplot as plt\n",
        "import seaborn as sns\n",
        "\n",
        "# Set random seed for reproducibility\n",
        "np.random.seed(42)\n",
        "\n",
        "# Create synthetic data\n",
        "data = {\n",
        "    'Age': np.random.randint(18, 70, size=100),\n",
        "    'Income': np.random.normal(50000, 15000, size=100),\n",
        "    'Score': np.random.uniform(0, 100, size=100)\n",
        "}\n",
        "\n",
        "# Load into a DataFrame\n",
        "df = pd.DataFrame(data)\n",
        "\n",
        "# --- Boxplot ---\n",
        "plt.figure(figsize=(12, 6))\n",
        "sns.boxplot(data=df)\n",
        "plt.title('Boxplot of Numerical Columns')\n",
        "plt.xlabel('Variables')\n",
        "plt.ylabel('Values')\n",
        "plt.grid(True)\n",
        "plt.tight_layout()\n",
        "plt.show()\n"
      ],
      "metadata": {
        "colab": {
          "base_uri": "https://localhost:8080/",
          "height": 591
        },
        "id": "vNPs6EHj4BDW",
        "outputId": "08cc642c-e331-482d-ceb0-d96d35f6682f"
      },
      "execution_count": null,
      "outputs": [
        {
          "output_type": "display_data",
          "data": {
            "text/plain": [
              "<Figure size 1200x600 with 1 Axes>"
            ],
            "image/png": "[encoded data removed]"
          },
          "metadata": {}
        }
      ]
    },
    {
      "cell_type": "markdown",
      "source": [
        "17. Calculate the interquartile range (IQR) of a dataset."
      ],
      "metadata": {
        "id": "FPjT5dlD4IOf"
      }
    },
    {
      "cell_type": "code",
      "source": [
        "import numpy as np\n",
        "import pandas as pd\n",
        "\n",
        "# Create a sample dataset\n",
        "np.random.seed(42)\n",
        "data = {\n",
        "    'Age': np.random.randint(18, 70, size=100),\n",
        "    'Income': np.random.normal(50000, 15000, size=100),\n",
        "    'Score': np.random.uniform(0, 100, size=100)\n",
        "}\n",
        "\n",
        "df = pd.DataFrame(data)\n",
        "\n",
        "# --- Calculate IQR ---\n",
        "iqr = df.quantile(0.75) - df.quantile(0.25)\n",
        "\n",
        "print(\"Interquartile Range (IQR) for each column:\")\n",
        "print(iqr)\n"
      ],
      "metadata": {
        "colab": {
          "base_uri": "https://localhost:8080/"
        },
        "id": "hfFLOiGR4Nuj",
        "outputId": "3d09860e-97bc-417f-8268-8e8d61ca5d76"
      },
      "execution_count": null,
      "outputs": [
        {
          "output_type": "stream",
          "name": "stdout",
          "text": [
            "Interquartile Range (IQR) for each column:\n",
            "Age          25.250000\n",
            "Income    22874.514486\n",
            "Score        47.353949\n",
            "dtype: float64\n"
          ]
        }
      ]
    },
    {
      "cell_type": "markdown",
      "source": [
        "18. Implement Z-score normalization and explain its significance."
      ],
      "metadata": {
        "id": "aB70O3BV4Uj2"
      }
    },
    {
      "cell_type": "code",
      "source": [
        "import pandas as pd\n",
        "import numpy as np\n",
        "\n",
        "# Generate a sample dataset\n",
        "np.random.seed(42)\n",
        "data = {\n",
        "    'Age': np.random.randint(18, 70, size=100),\n",
        "    'Income': np.random.normal(50000, 15000, size=100),\n",
        "    'Score': np.random.uniform(0, 100, size=100)\n",
        "}\n",
        "\n",
        "df = pd.DataFrame(data)\n",
        "\n",
        "# --- Z-Score Normalization ---\n",
        "z_normalized_df = (df - df.mean()) / df.std()\n",
        "\n",
        "# Display original and normalized data\n",
        "print(\"Original Data (first 5 rows):\")\n",
        "print(df.head())\n",
        "\n",
        "print(\"\\nZ-Score Normalized Data (first 5 rows):\")\n",
        "print(z_normalized_df.head())\n",
        "\n",
        "# Optionally, check means and stds after normalization\n",
        "print(\"\\nMeans after normalization (should be ~0):\")\n",
        "print(z_normalized_df.mean())\n",
        "\n",
        "print(\"\\nStandard deviations after normalization (should be ~1):\")\n",
        "print(z_normalized_df.std())\n"
      ],
      "metadata": {
        "colab": {
          "base_uri": "https://localhost:8080/"
        },
        "id": "85OMNqHa4aN2",
        "outputId": "b13e70d4-6dd0-4347-951a-0f6518d45b49"
      },
      "execution_count": null,
      "outputs": [
        {
          "output_type": "stream",
          "name": "stdout",
          "text": [
            "Original Data (first 5 rows):\n",
            "   Age        Income      Score\n",
            "0   56  21864.848417  69.578440\n",
            "1   69  29498.267917  22.855002\n",
            "2   46  59544.576625  17.495493\n",
            "3   32  36399.189971  98.216834\n",
            "4   60  57140.638811  51.663589\n",
            "\n",
            "Z-Score Normalized Data (first 5 rows):\n",
            "        Age    Income     Score\n",
            "0  0.848728 -1.880298  0.617681\n",
            "1  1.720938 -1.380527 -0.987316\n",
            "2  0.177797  0.586645 -1.171420\n",
            "3 -0.761507 -0.928715  1.601439\n",
            "4  1.117100  0.429256  0.002288\n",
            "\n",
            "Means after normalization (should be ~0):\n",
            "Age      -9.103829e-17\n",
            "Income   -7.149836e-16\n",
            "Score    -1.273981e-16\n",
            "dtype: float64\n",
            "\n",
            "Standard deviations after normalization (should be ~1):\n",
            "Age       1.0\n",
            "Income    1.0\n",
            "Score     1.0\n",
            "dtype: float64\n"
          ]
        }
      ]
    },
    {
      "cell_type": "markdown",
      "source": [
        "19. Compare two datasets using their standard deviations."
      ],
      "metadata": {
        "id": "Rxxq3FpQ4kmP"
      }
    },
    {
      "cell_type": "code",
      "source": [
        "import numpy as np\n",
        "import pandas as pd\n",
        "\n",
        "# Set seed for reproducibility\n",
        "np.random.seed(42)\n",
        "\n",
        "# Create two synthetic datasets\n",
        "dataset_A = np.random.normal(loc=50, scale=5, size=100)    # Small spread\n",
        "dataset_B = np.random.normal(loc=50, scale=15, size=100)   # Larger spread\n",
        "\n",
        "# Combine into a DataFrame\n",
        "df = pd.DataFrame({\n",
        "    'Dataset_A': dataset_A,\n",
        "    'Dataset_B': dataset_B\n",
        "})\n",
        "\n",
        "# Calculate standard deviations\n",
        "std_A = df['Dataset_A'].std()\n",
        "std_B = df['Dataset_B'].std()\n",
        "\n",
        "print(\"Standard Deviations:\")\n",
        "print(f\"Dataset A: {std_A:.2f}\")\n",
        "print(f\"Dataset B: {std_B:.2f}\")\n",
        "\n",
        "# Optional: Visual comparison using boxplots\n",
        "import matplotlib.pyplot as plt\n",
        "import seaborn as sns\n",
        "\n",
        "plt.figure(figsize=(8, 5))\n",
        "sns.boxplot(data=df)\n",
        "plt.title(\"Boxplot Comparison of Dataset A and B\")\n",
        "plt.ylabel(\"Values\")\n",
        "plt.grid(True)\n",
        "plt.show()\n"
      ],
      "metadata": {
        "colab": {
          "base_uri": "https://localhost:8080/",
          "height": 520
        },
        "id": "O3D9n4l94xC3",
        "outputId": "6645c6ec-a90b-4f65-ad37-525e41f5aebf"
      },
      "execution_count": null,
      "outputs": [
        {
          "output_type": "stream",
          "name": "stdout",
          "text": [
            "Standard Deviations:\n",
            "Dataset A: 4.54\n",
            "Dataset B: 14.31\n"
          ]
        },
        {
          "output_type": "display_data",
          "data": {
            "text/plain": [
              "<Figure size 800x500 with 1 Axes>"
            ],
            "image/png": "[encoded data removed]"
          },
          "metadata": {}
        }
      ]
    },
    {
      "cell_type": "markdown",
      "source": [
        "20. Write a Python program to visualize covariance using a heatmap."
      ],
      "metadata": {
        "id": "M5MR5Dkj4zGH"
      }
    },
    {
      "cell_type": "code",
      "source": [
        "import numpy as np\n",
        "import pandas as pd\n",
        "import seaborn as sns\n",
        "import matplotlib.pyplot as plt\n",
        "\n",
        "# Set seed for reproducibility\n",
        "np.random.seed(42)\n",
        "\n",
        "# Create synthetic dataset with correlated features\n",
        "data = {\n",
        "    'X': np.random.normal(0, 1, 100),\n",
        "}\n",
        "data['Y'] = 2 * data['X'] + np.random.normal(0, 1, 100)   # Strong positive correlation with X\n",
        "data['Z'] = np.random.normal(5, 2, 100)                  # Unrelated to X and Y\n",
        "\n",
        "df = pd.DataFrame(data)\n",
        "\n",
        "# Compute covariance matrix\n",
        "cov_matrix = df.cov()\n",
        "\n",
        "# Plot covariance heatmap\n",
        "plt.figure(figsize=(8, 6))\n",
        "sns.heatmap(cov_matrix, annot=True, fmt=\".2f\", cmap='coolwarm')\n",
        "plt.title('Covariance Matrix Heatmap')\n",
        "plt.show()\n"
      ],
      "metadata": {
        "colab": {
          "base_uri": "https://localhost:8080/",
          "height": 545
        },
        "id": "q3aLdZIa42q1",
        "outputId": "462a9cdd-a168-4bee-8711-eb07f8c530fa"
      },
      "execution_count": null,
      "outputs": [
        {
          "output_type": "display_data",
          "data": {
            "text/plain": [
              "<Figure size 800x600 with 2 Axes>"
            ],
            "image/png": "[encoded data removed]"
          },
          "metadata": {}
        }
      ]
    },
    {
      "cell_type": "markdown",
      "source": [
        "21. Use seaborn to create a correlation matrix for a dataset."
      ],
      "metadata": {
        "id": "PAUyR3b147k_"
      }
    },
    {
      "cell_type": "code",
      "source": [
        "import numpy as np\n",
        "import pandas as pd\n",
        "import seaborn as sns\n",
        "import matplotlib.pyplot as plt\n",
        "\n",
        "# Set seed for reproducibility\n",
        "np.random.seed(42)\n",
        "\n",
        "# Create a sample dataset\n",
        "data = {\n",
        "    'Height': np.random.normal(170, 10, 100),\n",
        "    'Weight': np.random.normal(65, 15, 100),\n",
        "    'Age': np.random.randint(18, 70, 100),\n",
        "    'Income': np.random.normal(50000, 15000, 100)\n",
        "}\n",
        "\n",
        "df = pd.DataFrame(data)\n",
        "\n",
        "# Calculate correlation matrix\n",
        "corr_matrix = df.corr()\n",
        "\n",
        "# Plot correlation heatmap\n",
        "plt.figure(figsize=(8, 6))\n",
        "sns.heatmap(corr_matrix, annot=True, cmap='coolwarm', fmt=\".2f\", square=True, linewidths=0.5)\n",
        "plt.title(\"Correlation Matrix Heatmap\")\n",
        "plt.show()\n"
      ],
      "metadata": {
        "colab": {
          "base_uri": "https://localhost:8080/",
          "height": 545
        },
        "id": "76uBVzNP5Ber",
        "outputId": "9661d7be-1f39-4511-bc63-8d889000a407"
      },
      "execution_count": null,
      "outputs": [
        {
          "output_type": "display_data",
          "data": {
            "text/plain": [
              "<Figure size 800x600 with 2 Axes>"
            ],
            "image/png": "[encoded data removed]"
          },
          "metadata": {}
        }
      ]
    },
    {
      "cell_type": "markdown",
      "source": [
        "22.  Generate a dataset and implement both variance and standard deviation computations."
      ],
      "metadata": {
        "id": "meGZfeii5D4m"
      }
    },
    {
      "cell_type": "code",
      "source": [
        "import numpy as np\n",
        "import pandas as pd\n",
        "\n",
        "# Generate synthetic dataset\n",
        "np.random.seed(42)\n",
        "data = np.random.normal(loc=100, scale=15, size=50)  # 50 data points, mean=100, std=15\n",
        "\n",
        "# Convert to pandas Series for convenience\n",
        "series = pd.Series(data)\n",
        "\n",
        "# 1) Using NumPy functions\n",
        "variance_np = np.var(data, ddof=1)  # sample variance (ddof=1)\n",
        "std_dev_np = np.std(data, ddof=1)   # sample std deviation\n",
        "\n",
        "# 2) Using pandas methods (also sample statistics by default)\n",
        "variance_pd = series.var()\n",
        "std_dev_pd = series.std()\n",
        "\n",
        "# 3) Manual calculation\n",
        "mean_val = series.mean()\n",
        "manual_variance = sum((x - mean_val)**2 for x in series) / (len(series) - 1)\n",
        "manual_std_dev = manual_variance ** 0.5\n",
        "\n",
        "# Display results\n",
        "print(f\"NumPy Variance: {variance_np:.4f}\")\n",
        "print(f\"Pandas Variance: {variance_pd:.4f}\")\n",
        "print(f\"Manual Variance: {manual_variance:.4f}\\n\")\n",
        "\n",
        "print(f\"NumPy Std Dev: {std_dev_np:.4f}\")\n",
        "print(f\"Pandas Std Dev: {std_dev_pd:.4f}\")\n",
        "print(f\"Manual Std Dev: {manual_std_dev:.4f}\")\n"
      ],
      "metadata": {
        "colab": {
          "base_uri": "https://localhost:8080/"
        },
        "id": "MPB_a7zj5HIU",
        "outputId": "c5d63b1c-7558-4d8e-a9b4-f30b3d21ccca"
      },
      "execution_count": null,
      "outputs": [
        {
          "output_type": "stream",
          "name": "stdout",
          "text": [
            "NumPy Variance: 196.1409\n",
            "Pandas Variance: 196.1409\n",
            "Manual Variance: 196.1409\n",
            "\n",
            "NumPy Std Dev: 14.0050\n",
            "Pandas Std Dev: 14.0050\n",
            "Manual Std Dev: 14.0050\n"
          ]
        }
      ]
    },
    {
      "cell_type": "markdown",
      "source": [
        "23. Visualize skewness and kurtosis using Python libraries like matplotlib or seaborn."
      ],
      "metadata": {
        "id": "G1Qcuv-e5Mcv"
      }
    },
    {
      "cell_type": "code",
      "source": [
        "import numpy as np\n",
        "import pandas as pd\n",
        "import matplotlib.pyplot as plt\n",
        "import seaborn as sns\n",
        "from scipy.stats import skew, kurtosis\n",
        "\n",
        "# Generate synthetic dataset\n",
        "np.random.seed(42)\n",
        "data = np.random.normal(loc=0, scale=1, size=1000)  # Normal distribution (skew~0, kurt~3)\n",
        "\n",
        "# Let's create a skewed distribution to compare\n",
        "data_skewed = np.random.exponential(scale=1, size=1000)  # Positively skewed\n",
        "\n",
        "# Function to plot and annotate skewness and kurtosis\n",
        "def plot_distribution(data, title):\n",
        "    plt.figure(figsize=(8, 5))\n",
        "    sns.histplot(data, kde=True, bins=30, color='skyblue')\n",
        "\n",
        "    # Calculate skewness and kurtosis\n",
        "    data_skewness = skew(data)\n",
        "    data_kurtosis = kurtosis(data, fisher=False)  # fisher=False gives Pearson's kurtosis (normal=3)\n",
        "\n",
        "    # Annotate text\n",
        "    plt.title(title)\n",
        "    plt.xlabel('Value')\n",
        "    plt.ylabel('Frequency')\n",
        "    plt.text(min(data), plt.gca().get_ylim()[1]*0.9, f'Skewness: {data_skewness:.2f}', fontsize=12)\n",
        "    plt.text(min(data), plt.gca().get_ylim()[1]*0.8, f'Kurtosis: {data_kurtosis:.2f}', fontsize=12)\n",
        "\n",
        "    plt.show()\n",
        "\n",
        "# Plot Normal Distribution\n",
        "plot_distribution(data, \"Normal Distribution (Skewness & Kurtosis)\")\n",
        "\n",
        "# Plot Skewed Distribution\n",
        "plot_distribution(data_skewed, \"Positively Skewed Distribution (Skewness & Kurtosis)\")\n"
      ],
      "metadata": {
        "colab": {
          "base_uri": "https://localhost:8080/",
          "height": 957
        },
        "id": "BRbsuQKz5Pwn",
        "outputId": "f255690e-c448-499d-9c20-21030bdf8d00"
      },
      "execution_count": null,
      "outputs": [
        {
          "output_type": "display_data",
          "data": {
            "text/plain": [
              "<Figure size 800x500 with 1 Axes>"
            ],
            "image/png": "[encoded data removed]"
          },
          "metadata": {}
        },
        {
          "output_type": "display_data",
          "data": {
            "text/plain": [
              "<Figure size 800x500 with 1 Axes>"
            ],
            "image/png": "[encoded data removed]"
          },
          "metadata": {}
        }
      ]
    },
    {
      "cell_type": "markdown",
      "source": [
        "24. Implement the Pearson and Spearman correlation coefficients for a dataset."
      ],
      "metadata": {
        "id": "7c7j79dP5V52"
      }
    },
    {
      "cell_type": "code",
      "source": [
        "import numpy as np\n",
        "import pandas as pd\n",
        "from scipy.stats import pearsonr, spearmanr\n",
        "\n",
        "# Generate synthetic dataset\n",
        "np.random.seed(42)\n",
        "data = {\n",
        "    'X': np.random.normal(0, 1, 100),\n",
        "}\n",
        "# Y is correlated with X plus some noise\n",
        "data['Y'] = 2 * data['X'] + np.random.normal(0, 1, 100)\n",
        "# Z is not correlated with X or Y\n",
        "data['Z'] = np.random.normal(0, 1, 100)\n",
        "\n",
        "df = pd.DataFrame(data)\n",
        "\n",
        "# --- 1) Using scipy.stats functions ---\n",
        "pearson_corr_XY, p_val_pearson = pearsonr(df['X'], df['Y'])\n",
        "spearman_corr_XY, p_val_spearman = spearmanr(df['X'], df['Y'])\n",
        "\n",
        "print(f\"Pearson correlation between X and Y: {pearson_corr_XY:.4f} (p-value={p_val_pearson:.4g})\")\n",
        "print(f\"Spearman correlation between X and Y: {spearman_corr_XY:.4f} (p-value={p_val_spearman:.4g})\\n\")\n",
        "\n",
        "# --- 2) Using pandas built-in methods ---\n",
        "pearson_corr_pd = df['X'].corr(df['Y'], method='pearson')\n",
        "spearman_corr_pd = df['X'].corr(df['Y'], method='spearman')\n",
        "\n",
        "print(f\"Pandas Pearson correlation: {pearson_corr_pd:.4f}\")\n",
        "print(f\"Pandas Spearman correlation: {spearman_corr_pd:.4f}\\n\")\n",
        "\n",
        "# --- 3) Manual implementation (Pearson only) ---\n",
        "def manual_pearson(x, y):\n",
        "    x_mean = np.mean(x)\n",
        "    y_mean = np.mean(y)\n",
        "    numerator = np.sum((x - x_mean)*(y - y_mean))\n",
        "    denominator = np.sqrt(np.sum((x - x_mean)**2) * np.sum((y - y_mean)**2))\n",
        "    return numerator / denominator\n",
        "\n",
        "manual_pearson_corr = manual_pearson(df['X'], df['Y'])\n",
        "print(f\"Manual Pearson correlation: {manual_pearson_corr:.4f}\")\n"
      ],
      "metadata": {
        "colab": {
          "base_uri": "https://localhost:8080/"
        },
        "id": "Bm3wazte5bSk",
        "outputId": "c8871902-389f-4b71-9558-3d4c6dd53475"
      },
      "execution_count": null,
      "outputs": [
        {
          "output_type": "stream",
          "name": "stdout",
          "text": [
            "Pearson correlation between X and Y: 0.8724 (p-value=3.138e-32)\n",
            "Spearman correlation between X and Y: 0.8686 (p-value=1.204e-31)\n",
            "\n",
            "Pandas Pearson correlation: 0.8724\n",
            "Pandas Spearman correlation: 0.8686\n",
            "\n",
            "Manual Pearson correlation: 0.8724\n"
          ]
        }
      ]
    }
  ]
}