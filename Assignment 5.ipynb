{
  "nbformat": 4,
  "nbformat_minor": 0,
  "metadata": {
    "colab": {
      "provenance": []
    },
    "kernelspec": {
      "name": "python3",
      "display_name": "Python 3"
    },
    "language_info": {
      "name": "python"
    }
  },
  "cells": [
    {
      "cell_type": "markdown",
      "source": [
        "#Theory Questions"
      ],
      "metadata": {
        "id": "vY8VmZAH1cGO"
      }
    },
    {
      "cell_type": "markdown",
      "source": [
        "1. What is the difference between interpreted and compiled languages?\n",
        "   - The difference between an interpreted and a compiled language is in how the program is translated into machine code and executed. A compiled language is processed by a compiler, which translates the entire source code into machine code before the program is run. This makes execution faster, as the computer runs the pre-compiled code directly. Examples include C, C++, and Rust.\n",
        "   \n",
        "   On the other hand, an interpreted language is executed line by line by an interpreter at runtime, without being fully translated beforehand. This allows for easier debugging and quicker changes, but it usually results in slower performance. Examples include Python, JavaScript, and PHP."
      ],
      "metadata": {
        "id": "ulFJOrEc2NQj"
      }
    },
    {
      "cell_type": "markdown",
      "source": [
        "2. What is exception handling in Python?\n",
        "   - Exception handling in Python is a way to manage errors that occur during the execution of a program, so the program doesn’t crash unexpectedly. It allows you to anticipate and respond to problems like dividing by zero, accessing a missing file, or using a variable that hasn’t been defined."
      ],
      "metadata": {
        "id": "SbiostmL2UZ0"
      }
    },
    {
      "cell_type": "markdown",
      "source": [
        "3. What is the purpose of the finally block in exception handling?\n",
        "   - The purpose of the finally block in Python exception handling is to define a section of code that will always execute, regardless of whether an exception was raised or not."
      ],
      "metadata": {
        "id": "DxzGef4E2dx2"
      }
    },
    {
      "cell_type": "markdown",
      "source": [
        "4. What is logging in Python?\n",
        "   - Logging in Python is the process of recording messages about a program’s execution, such as errors, warnings, or informational events. It is especially useful for debugging, monitoring, and tracking the flow of a program, especially in production environments."
      ],
      "metadata": {
        "id": "9ORwwpsQ2vHQ"
      }
    },
    {
      "cell_type": "markdown",
      "source": [
        "5. What is the significance of the __del__ method in Python?\n",
        "   - The __del__ method in Python is a special method known as a destructor. It is called automatically when an object is about to be destroyed, typically when there are no more references to it.\n",
        "\n"
      ],
      "metadata": {
        "id": "p77VApr1278m"
      }
    },
    {
      "cell_type": "markdown",
      "source": [
        "6. What is the difference between import and from ... import in Python?\n",
        "   - The difference between import and from ... import in Python lies in how you access the functions, classes, or variables from a module.\n",
        "\n",
        " import module:-\n",
        "  Imports the entire module.\n",
        "  You need to use the module name as a prefix when accessing its contents.\n",
        "\n",
        " from module import name\n",
        "  Imports specific parts (e.g. functions, classes, variables) directly.\n",
        "  You can use them without the module prefix."
      ],
      "metadata": {
        "id": "WeZNI_zF3Hd4"
      }
    },
    {
      "cell_type": "markdown",
      "source": [
        "7. How can you handle multiple exceptions in Python?\n",
        "   - You can handle multiple exceptions in Python by using a single except block that catches multiple exception types, or by writing multiple except blocks—one for each exception type.\n",
        "\n"
      ],
      "metadata": {
        "id": "V1QH1_4q3zEh"
      }
    },
    {
      "cell_type": "markdown",
      "source": [
        "8. What is the purpose of the with statement when handling files in Python?\n",
        "   - he purpose of the with statement when handling files in Python is to automatically manage resources, specifically to ensure that a file is properly opened and closed without needing to explicitly call close().\n",
        "\n"
      ],
      "metadata": {
        "id": "UmJvhG1-4DKs"
      }
    },
    {
      "cell_type": "markdown",
      "source": [
        "9. What is the difference between multithreading and multiprocessing?\n",
        "\n",
        " The difference between multithreading and multiprocessing lies in how they achieve concurrency and utilize system resources:\n",
        "\n",
        "Multithreading\n",
        "Runs multiple threads within the same process.\n",
        "Threads share the same memory space and resources.\n",
        "Useful for I/O-bound tasks (like waiting for network or file operations).\n",
        "In Python, due to the Global Interpreter Lock (GIL), true parallel execution of threads is limited for CPU-bound tasks.\n",
        "Threads are lighter and quicker to create than processes.\n",
        "\n",
        "Multiprocessing\n",
        "Runs multiple processes, each with its own memory space.\n",
        "Processes don’t share memory directly; communication requires inter-process communication (IPC).\n",
        "Suitable for CPU-bound tasks since processes can run in parallel on multiple CPU cores.\n",
        "More overhead to create and manage compared to threads but can fully utilize multiple CPUs.\n",
        "\n"
      ],
      "metadata": {
        "id": "7Ql74r4K4R_s"
      }
    },
    {
      "cell_type": "markdown",
      "source": [
        "10. What are the advantages of using logging in a program?\n",
        "    - Using logging in a program offers several important advantages:\n",
        "\n",
        "Debugging Made Easier:-\n",
        "Logging records detailed information about program execution, helping developers trace and diagnose problems more efficiently than using simple print statements.\n",
        "\n",
        "Persistent Records:-\n",
        "Logs can be saved to files, creating a permanent history of events, errors, and system behavior that can be reviewed later, even after the program has stopped running.\n",
        "\n",
        "Better Error Tracking:-\n",
        "Logs provide context about when and where errors occur, making it easier to identify patterns or recurring issues.\n",
        "\n",
        "Different Levels of Severity:-\n",
        "Logging supports multiple levels (DEBUG, INFO, WARNING, ERROR, CRITICAL), so you can filter messages based on importance and avoid information overload.\n",
        "\n",
        "Improved Monitoring and Maintenance:-\n",
        "Logs help monitor application health and performance in real-time or through analysis, enabling proactive maintenance and quicker response to issues.\n",
        "\n",
        "Supports Complex Applications:-\n",
        "Logging is essential for larger or production systems where print statements are impractical, providing a structured and configurable way to handle messages.\n",
        "\n",
        "Flexibility in Output:-\n",
        "Logs can be directed to different destinations such as console, files, or remote servers, making it adaptable to various needs.\n",
        "\n"
      ],
      "metadata": {
        "id": "m2KnLUat41uU"
      }
    },
    {
      "cell_type": "markdown",
      "source": [
        "11.What is memory management in Python?\n",
        "   - Memory management in Python refers to how Python handles the allocation, use, and release of memory for objects during a program’s execution. Python manages memory automatically, so programmers don’t usually need to worry about low-level memory details."
      ],
      "metadata": {
        "id": "QyP729kr5Mi3"
      }
    },
    {
      "cell_type": "markdown",
      "source": [
        "12. What are the basic steps involved in exception handling in Python?\n",
        "    - The basic steps involved in exception handling in Python are:\n",
        "\n",
        "        Identify the code that might cause an exception and place it inside a try block.This is where you put the code that could potentially raise an error.\n",
        "\n",
        "        Handle exceptions with one or more except blocks.\n",
        "Each except block specifies the type of exception it can catch and contains code to respond to that error.\n",
        "\n",
        "      (Optional) Use an else block to execute code if no exceptions occur.\n",
        "This block runs only when the try block succeeds without errors.\n",
        "\n",
        "      (Optional) Use a finally block to execute code regardless of whether an exception was raised or not.\n",
        "This is often used for cleanup actions like closing files or releasing resources."
      ],
      "metadata": {
        "id": "A-AZ9mSC5hao"
      }
    },
    {
      "cell_type": "markdown",
      "source": [
        "13. Why is memory management important in Python?\n",
        "    - Memory management is important in Python because it ensures that the program uses system memory efficiently, preventing issues like memory leaks and excessive memory consumption that can slow down or crash applications. Proper memory management helps Python automatically allocate memory when creating objects and free it when those objects are no longer needed, which optimizes performance and resource usage. This is especially critical in long-running programs or applications handling large amounts of data, where unmanaged memory could lead to degraded system performance or failures. Overall, effective memory management makes Python programs more reliable, faster, and easier to maintain."
      ],
      "metadata": {
        "id": "G4rOi5Cu54Rx"
      }
    },
    {
      "cell_type": "markdown",
      "source": [
        "14. What is the role of try and except in exception handling?\n",
        "    - The try and except blocks are fundamental to exception handling in Python:\n",
        "\n",
        "     The try block contains the code that might raise an exception. It’s where you place any operation that could potentially cause an error during execution.\n",
        "\n",
        "     The except block follows the try block and specifies how to handle specific exceptions if they occur. If an error happens inside the try block, Python looks for a matching except block to catch that exception and run the corresponding error-handling code.\n",
        "\n",
        "     Together, try and except allow your program to gracefully handle errors without crashing, providing a way to respond to unexpected situations."
      ],
      "metadata": {
        "id": "OLgHfhk46IwS"
      }
    },
    {
      "cell_type": "markdown",
      "source": [
        "15. How does Python's garbage collection system work?\n",
        "    - Python’s garbage collection system works mainly through reference counting combined with a cyclic garbage collector to manage memory automatically.\n",
        "\n",
        "    Reference Counting\n",
        "\n",
        "       Every object in Python keeps track of how many references point to it.\n",
        "       When you create an object, its reference count increases.\n",
        "       When a reference to that object is deleted or goes out of scope, the count decreases.\n",
        "       Once the reference count drops to zero (meaning no part of the program is using the object), Python immediately frees the memory allocated to that object.\n",
        "\n",
        " Cyclic Garbage Collector\n",
        "\n",
        "       Reference counting alone can’t handle reference cycles (e.g., objects referencing each other).\n",
        "       Python’s cyclic garbage collector periodically looks for groups of objects involved in reference cycles that are no longer reachable from the program.\n",
        "       It then frees the memory used by these unreachable cyclic references"
      ],
      "metadata": {
        "id": "p7xStmZL6gZV"
      }
    },
    {
      "cell_type": "markdown",
      "source": [
        "16. What is the purpose of the else block in exception handling?\n",
        "    - Purpose of the else block:\n",
        "      * It helps separate the normal execution code from the exception handling code.\n",
        "      * It runs after the try block succeeds without raising any exceptions.\n",
        "      * It’s useful for code that should run only when everything in the try block worked correctly, keeping your code cleaner and easier to read."
      ],
      "metadata": {
        "id": "x8zaicmJ7o49"
      }
    },
    {
      "cell_type": "markdown",
      "source": [
        "17. What are the common logging levels in Python?\n",
        "    - The common logging levels in Python, defined in the logging module, represent the severity of events and help you control which messages get recorded. Here are the main levels from lowest to highest severity:\n",
        "\n",
        "      * DEBUG:-Detailed information, useful for diagnosing problems and debugging.\n",
        "\n",
        "      * INFO:- General informational messages that highlight the progress of the application.\n",
        "\n",
        "      * WARNING:-\n",
        "Indicates something unexpected happened or a potential problem, but the program can continue.\n",
        "\n",
        "      * ERROR:-\n",
        "A more serious problem that caused a part of the program to fail.\n",
        "\n",
        "      * CRITICAL\n",
        "Very serious errors that may cause the program to stop running."
      ],
      "metadata": {
        "id": "k_mKLCtW8SHI"
      }
    },
    {
      "cell_type": "markdown",
      "source": [
        "18. What is the difference between os.fork() and multiprocessing in Python?\n",
        "   - The difference between os.fork() and the multiprocessing module in Python lies in how they create new processes and manage them:\n",
        "\n",
        "      * os.fork()\n",
        "        Low-level system call available on Unix-like systems.\n",
        "\n",
        "        Creates a child process by duplicating the current process.\n",
        "        \n",
        "        The child process is almost an exact copy of the parent, including memory.\n",
        "\n",
        "        After fork(), both processes run independently.\n",
        "\n",
        "        You need to manually manage process synchronization, communication, and cleanup.\n",
        "\n",
        "        Not available on Windows.\n",
        "\n",
        "     * multiprocessing Module\n",
        "       A high-level Python API for creating and managing processes.\n",
        "\n",
        "       Works on multiple platforms (Unix and Windows).\n",
        "\n",
        "       Provides abstractions like Process, Pool, Queue, and Pipe to handle process creation, communication, and synchronization more easily.\n",
        "\n",
        "       Handles starting, stopping, and joining processes cleanly.\n",
        "\n",
        "       Helps avoid many low-level pitfalls of using os.fork() directly.\n",
        "\n"
      ],
      "metadata": {
        "id": "IzofhWYL9Epa"
      }
    },
    {
      "cell_type": "markdown",
      "source": [
        "19. What is the importance of closing a file in Python?\n",
        "    - The importance of closing a file in Python lies in properly releasing system resources and ensuring data integrity:\n",
        "\n",
        "Frees System Resources:\n",
        "Open files consume system resources like file descriptors. If files aren’t closed, these resources remain tied up, which can lead to resource exhaustion, especially in programs that open many files.\n",
        "\n",
        "Ensures Data is Written:\n",
        "When writing to a file, Python buffers the output for efficiency. Closing the file forces any buffered data to be flushed (written) to the disk, preventing data loss or corruption.\n",
        "\n",
        "Prevents Data Corruption:\n",
        "Properly closing files ensures that other programs or processes can access the file safely without conflicts or partial writes.\n",
        "\n",
        "Avoids Unexpected Behavior:\n",
        "Leaving files open can cause unpredictable behavior or errors later in the program or system.\n",
        "\n",
        "Best Practice:"
      ],
      "metadata": {
        "id": "ra8iaxAZ-IBR"
      }
    },
    {
      "cell_type": "markdown",
      "source": [
        "20. What is the difference between file.read() and file.readline() in Python?\n",
        "    - The difference between file.read() and file.readline() in Python lies in how much data they read from a file and how they handle the file pointer:\n",
        "\n",
        "file.read()\n",
        "Reads the entire content of the file (or up to a specified number of bytes if given).\n",
        "Returns a string containing everything read.\n",
        "Moves the file pointer to the end of the file after reading.\n",
        "Useful when you want to get all the data at once.\n",
        "\n",
        "Example:\n",
        "       \n",
        "       with open(\"file.txt\", \"r\") as file:\n",
        "       content = file.read()  # Reads whole file\n",
        "       \n",
        "file.readline() Reads one line at a time from the file.\n",
        "Returns a string containing the next line, including the newline character (\\n).\n",
        "Moves the file pointer to the start of the next line.\n",
        "Useful for reading a file line-by-line, especially for large files.\n",
        "\n",
        "Example:\n",
        "\n",
        "         with open(\"file.txt\", \"r\") as file:\n",
        "          line = file.readline()  # Reads one line"
      ],
      "metadata": {
        "id": "MI_6zrQY-TpU"
      }
    },
    {
      "cell_type": "markdown",
      "source": [],
      "metadata": {
        "id": "d2kZXyQ473XR"
      }
    },
    {
      "cell_type": "code",
      "source": [],
      "metadata": {
        "id": "SPxdJTU61fAI"
      },
      "execution_count": null,
      "outputs": []
    },
    {
      "cell_type": "markdown",
      "source": [
        "21. What is the logging module in Python used for?\n",
        "    - The logging module in Python is used for tracking and recording events that happen while a program runs. It helps developers capture important information about a program’s execution, such as errors, warnings, informational messages, or debugging details."
      ],
      "metadata": {
        "id": "SPhMAALR_HAS"
      }
    },
    {
      "cell_type": "markdown",
      "source": [
        "22. What is the os module in Python used for in file handling?\n",
        "    -The os module in Python is a built-in library that provides a way to interact with the operating system. When it comes to file handling, the os module is especially useful for tasks like:\n",
        "\n",
        "* Navigating directories: Create, change, or remove directories (os.mkdir(), os.chdir(), os.rmdir()).\n",
        "\n",
        "* Listing directory contents: Get the list of files and folders in a directory (os.listdir()).\n",
        "\n",
        "* Checking file/directory properties: Check if a file or directory exists (os.path.exists()), check if it’s a file or directory (os.path.isfile(), os.path.isdir()).\n",
        "\n",
        "* Manipulating file paths: Join or split file paths in a way that works on any OS (os.path.join(), os.path.split()).\n",
        "\n",
        "* Renaming and deleting files: Rename (os.rename()) or delete files (os.remove()).\n",
        "\n",
        "* Getting file information: Access file stats like size, creation/modification time (os.stat())."
      ],
      "metadata": {
        "id": "uPOU3gjA_Rh9"
      }
    },
    {
      "cell_type": "markdown",
      "source": [
        "23. What are the challenges associated with memory management in Python?\n",
        "    - Memory management in Python is mostly automatic, thanks to its built-in garbage collector, but there are still some challenges and limitations that developers face:\n",
        "\n",
        "        * Garbage Collection Overhead\n",
        "Python uses reference counting along with a cyclic garbage collector.\n",
        "Managing cyclic references (objects referencing each other) can be tricky because reference counting alone can't free these.\n",
        "The cyclic GC adds overhead and sometimes causes unpredictable pauses.\n",
        "\n",
        "        * Memory Leaks\n",
        "Memory leaks can happen if references to objects are unintentionally kept, preventing garbage collection.\n",
        "\n",
        "        For example, global variables, caching, or circular references in certain cases can cause leaks.\n",
        "\n",
        "        Detecting and fixing leaks can be difficult.\n",
        "\n",
        "      * Fragmentation\n",
        "Memory fragmentation can occur, especially with long-running programs.\n",
        "Python’s allocator may end up with free memory scattered in small blocks, making it harder to allocate larger contiguous memory chunks.\n",
        "\n",
        "      * Inefficiency of Large Objects\n",
        "Python objects (including integers, lists, etc.) have overhead because of metadata stored for each object.\n",
        "For large data structures, this overhead can consume significant memory compared to raw data storage.\n",
        "\n",
        "     * Limited Control Over Memory\n",
        "Unlike languages like C/C++, Python doesn’t give you explicit control over when memory is allocated or freed.\n",
        "This limits optimization in memory-constrained environments.\n",
        "\n",
        "     * Multi-threading and Memory\n",
        "Python’s Global Interpreter Lock (GIL) affects multi-threaded programs, impacting how memory is managed in threads.\n",
        "Some memory-heavy multi-threaded applications might face inefficiencies."
      ],
      "metadata": {
        "id": "aZgMHeAN_tqs"
      }
    },
    {
      "cell_type": "markdown",
      "source": [
        "24. How do you raise an exception manually in Python?\n",
        "    - To raise an exception manually in Python, you use the raise statement followed by an exception instance or exception class.\n",
        "\n",
        "Basic syntax:\n",
        "              \n",
        "              raise ExceptionType(\"Error message\")\n",
        "Example:\n",
        "\n",
        "              raise ValueError(\"This is a manual error\")\n",
        "This will immediately stop the program (unless the exception is caught) and throw a ValueError with the message \"This is a manual error\"."
      ],
      "metadata": {
        "id": "1MiRYHO5AhNG"
      }
    },
    {
      "cell_type": "markdown",
      "source": [
        "25. Why is it important to use multithreading in certain applications?\n",
        "    - Multithreading is important in certain applications because it allows multiple tasks to run concurrently, improving performance and responsiveness. Here are some key reasons why multithreading matters:\n",
        "\n",
        "      * Improved Responsiveness\n",
        "         In user interfaces (like GUIs), multithreading keeps the app responsive by running long tasks in the background without freezing the interface.\n",
        "\n",
        "      * Better Resource Utilization\n",
        "         Multithreading can make better use of CPU resources by overlapping I/O-bound operations (like file reading, network calls) with other tasks.\n",
        "         While one thread waits for I/O, another can execute, so the program doesn’t just sit idle.\n",
        "\n",
        "      * Parallelism in I/O-bound Tasks\n",
        "          For programs that spend a lot of time waiting on input/output (disk, network), multithreading helps by doing multiple I/O operations simultaneously.\n",
        "\n",
        "      * Simplified Program Structure\n",
        "          Some problems naturally fit a multithreaded model (e.g., handling multiple client connections in a server).\n",
        "\n",
        "Using threads can simplify the logic compared to managing everything sequentially.\n",
        "\n"
      ],
      "metadata": {
        "id": "YOsd2vdkA8Kt"
      }
    },
    {
      "cell_type": "markdown",
      "source": [
        "# Practical Questions"
      ],
      "metadata": {
        "id": "fOSgC1VUBids"
      }
    },
    {
      "cell_type": "markdown",
      "source": [
        "1.  How can you open a file for writing in Python and write a string to it?"
      ],
      "metadata": {
        "id": "IkBzaQknBme9"
      }
    },
    {
      "cell_type": "code",
      "source": [
        "# Open the file in write mode\n",
        "with open('example.txt', 'w') as file:\n",
        "    # Write a string to the file\n",
        "    file.write(\"Hello, this is a string written to the file.\")\n"
      ],
      "metadata": {
        "id": "ctxSS-29Br5D"
      },
      "execution_count": 2,
      "outputs": []
    },
    {
      "cell_type": "markdown",
      "source": [
        "2. Write a Python program to read the contents of a file and print each line?\n"
      ],
      "metadata": {
        "id": "Ag3F0Cj6BxtD"
      }
    },
    {
      "cell_type": "code",
      "source": [
        "# Open the file in read mode\n",
        "with open('example.txt', 'r') as file:\n",
        "    # Iterate over each line in the file\n",
        "    for line in file:\n",
        "        # Print the line (strip to remove trailing newline)\n",
        "        print(line.strip())\n"
      ],
      "metadata": {
        "id": "TZ45JwjCB3Dv"
      },
      "execution_count": null,
      "outputs": []
    },
    {
      "cell_type": "markdown",
      "source": [
        "3. How would you handle a case where the file doesn't exist while trying to open it for reading?\n"
      ],
      "metadata": {
        "id": "2mM_W3S5B6Qn"
      }
    },
    {
      "cell_type": "code",
      "source": [
        "try:\n",
        "    with open('nonexistent_file.txt', 'r') as file:\n",
        "        for line in file:\n",
        "            print(line.strip())\n",
        "except FileNotFoundError:\n",
        "    print(\"Error: The file does not exist.\")\n"
      ],
      "metadata": {
        "id": "ScN0k7qfCB5T"
      },
      "execution_count": null,
      "outputs": []
    },
    {
      "cell_type": "markdown",
      "source": [
        "4. Write a Python script that reads from one file and writes its content to another file?"
      ],
      "metadata": {
        "id": "-tGEB2C4CDFs"
      }
    },
    {
      "cell_type": "code",
      "source": [
        "source_file = 'source.txt'\n",
        "destination_file = 'destination.txt'\n",
        "\n",
        "try:\n",
        "    with open(source_file, 'r') as src:\n",
        "        content = src.read()\n",
        "    with open(destination_file, 'w') as dest:\n",
        "        dest.write(content)\n",
        "    print(f\"Content copied from {source_file} to {destination_file}.\")\n",
        "except FileNotFoundError:\n",
        "    print(f\"Error: The file {source_file} does not exist.\")\n",
        "except Exception as e:\n",
        "    print(f\"An error occurred: {e}\")\n"
      ],
      "metadata": {
        "id": "xTTnIvrLCH1P"
      },
      "execution_count": null,
      "outputs": []
    },
    {
      "cell_type": "markdown",
      "source": [
        "5.  How would you catch and handle division by zero error in Python?"
      ],
      "metadata": {
        "id": "xeuT2RbJCLwG"
      }
    },
    {
      "cell_type": "code",
      "source": [
        "try:\n",
        "    result = 10 / 0\n",
        "except ZeroDivisionError:\n",
        "    print(\"Error: Cannot divide by zero.\")\n",
        "else:\n",
        "    print(\"Result is:\", result)\n"
      ],
      "metadata": {
        "id": "mAxXE_eqCP-6"
      },
      "execution_count": null,
      "outputs": []
    },
    {
      "cell_type": "markdown",
      "source": [
        "6. Write a Python program that logs an error message to a log file when a division by zero exception occurs?"
      ],
      "metadata": {
        "id": "X_fV45ujCTdU"
      }
    },
    {
      "cell_type": "code",
      "source": [
        "import logging\n",
        "\n",
        "# Configure logging to write to a file\n",
        "logging.basicConfig(filename='error.log', level=logging.ERROR,\n",
        "                    format='%(asctime)s - %(levelname)s - %(message)s')\n",
        "\n",
        "try:\n",
        "    result = 10 / 0\n",
        "except ZeroDivisionError as e:\n",
        "    logging.error(\"Division by zero error occurred: %s\", e)\n",
        "    print(\"An error occurred. Check the log file for details.\")\n",
        "else:\n",
        "    print(\"Result is:\", result)\n"
      ],
      "metadata": {
        "id": "XqX399XKCY13"
      },
      "execution_count": null,
      "outputs": []
    },
    {
      "cell_type": "markdown",
      "source": [
        "7.  How do you log information at different levels (INFO, ERROR, WARNING) in Python using the logging module?"
      ],
      "metadata": {
        "id": "iaoWRmPSCdV0"
      }
    },
    {
      "cell_type": "code",
      "source": [
        "import logging\n",
        "\n",
        "# Configure logging (e.g., to console)\n",
        "logging.basicConfig(level=logging.DEBUG,  # minimum level to capture\n",
        "                    format='%(levelname)s: %(message)s')\n",
        "\n",
        "logging.debug(\"This is a debug message\")       # Detailed info, typically for diagnosing problems\n",
        "logging.info(\"This is an info message\")        # General information about program execution\n",
        "logging.warning(\"This is a warning message\")   # Something unexpected, but the program continues\n",
        "logging.error(\"This is an error message\")      # Serious problem, usually an exception\n",
        "logging.critical(\"This is a critical message\") # Very serious error, program may stop\n"
      ],
      "metadata": {
        "id": "ifQuMC5nCiTL"
      },
      "execution_count": null,
      "outputs": []
    },
    {
      "cell_type": "markdown",
      "source": [
        "8. Write a program to handle a file opening error using exception handling?"
      ],
      "metadata": {
        "id": "5FLKr3PiCmOm"
      }
    },
    {
      "cell_type": "code",
      "source": [
        "filename = 'somefile.txt'\n",
        "\n",
        "try:\n",
        "    with open(filename, 'r') as file:\n",
        "        content = file.read()\n",
        "        print(content)\n",
        "except FileNotFoundError:\n",
        "    print(f\"Error: The file '{filename}' was not found.\")\n",
        "except IOError:\n",
        "    print(f\"Error: An I/O error occurred while trying to open '{filename}'.\")\n"
      ],
      "metadata": {
        "id": "VivxqVBQCt0l"
      },
      "execution_count": null,
      "outputs": []
    },
    {
      "cell_type": "markdown",
      "source": [
        "9. How can you read a file line by line and store its content in a list in Python?"
      ],
      "metadata": {
        "id": "lYXIStHQCx9R"
      }
    },
    {
      "cell_type": "code",
      "source": [
        "lines = []\n",
        "with open('example.txt', 'r') as file:\n",
        "    for line in file:\n",
        "        lines.append(line.rstrip('\\n'))  # Remove trailing newline\n",
        "print(lines)\n"
      ],
      "metadata": {
        "id": "XTjjGLANC1Nj"
      },
      "execution_count": null,
      "outputs": []
    },
    {
      "cell_type": "markdown",
      "source": [
        "10.  How can you append data to an existing file in Python?"
      ],
      "metadata": {
        "id": "FuW7gZ9wC-nZ"
      }
    },
    {
      "cell_type": "code",
      "source": [
        "with open('example.txt', 'a') as file:\n",
        "    file.write(\"This line will be added at the end of the file.\\n\")\n"
      ],
      "metadata": {
        "id": "__6OM14WDEA8"
      },
      "execution_count": null,
      "outputs": []
    },
    {
      "cell_type": "markdown",
      "source": [
        "11. Write a Python program that uses a try-except block to handle an error when attempting to access a dictionary key that doesn't exist."
      ],
      "metadata": {
        "id": "ZBtis_6wDOa5"
      }
    },
    {
      "cell_type": "code",
      "source": [
        "# Sample dictionary\n",
        "person = {\n",
        "    'name': 'Alice',\n",
        "    'age': 30\n",
        "}\n",
        "\n",
        "try:\n",
        "    # Try to access a key that may not exist\n",
        "    print(\"City:\", person['city'])\n",
        "except KeyError:\n",
        "    print(\"Error: The key 'city' does not exist in the dictionary.\")\n"
      ],
      "metadata": {
        "id": "Q9ZwoKzFDVEO"
      },
      "execution_count": null,
      "outputs": []
    },
    {
      "cell_type": "markdown",
      "source": [
        "12. Write a program that demonstrates using multiple except blocks to handle different types of exceptions"
      ],
      "metadata": {
        "id": "ODWTrGP1DZ37"
      }
    },
    {
      "cell_type": "code",
      "source": [
        "try:\n",
        "    # Example operations that may raise different exceptions\n",
        "    num = int(input(\"Enter a number: \"))\n",
        "    result = 10 / num\n",
        "    items = [1, 2, 3]\n",
        "    print(\"Item at index 5:\", items[5])\n",
        "\n",
        "except ValueError:\n",
        "    print(\"Error: You must enter a valid integer.\")\n",
        "\n",
        "except ZeroDivisionError:\n",
        "    print(\"Error: Division by zero is not allowed.\")\n",
        "\n",
        "except IndexError:\n",
        "    print(\"Error: List index is out of range.\")\n",
        "\n",
        "except Exception as e:\n",
        "    print(f\"An unexpected error occurred: {e}\")\n"
      ],
      "metadata": {
        "id": "AiRnvbAhDd2U"
      },
      "execution_count": null,
      "outputs": []
    },
    {
      "cell_type": "markdown",
      "source": [
        "13. How would you check if a file exists before attempting to read it in Python."
      ],
      "metadata": {
        "id": "1BO5C4yjDhvm"
      }
    },
    {
      "cell_type": "code",
      "source": [
        "import os\n",
        "\n",
        "filename = 'example.txt'\n",
        "\n",
        "if os.path.exists(filename):\n",
        "    with open(filename, 'r') as file:\n",
        "        content = file.read()\n",
        "        print(content)\n",
        "else:\n",
        "    print(f\"Error: The file '{filename}' does not exist.\")\n"
      ],
      "metadata": {
        "id": "AGtC2rfbDoRk"
      },
      "execution_count": null,
      "outputs": []
    },
    {
      "cell_type": "markdown",
      "source": [
        "14. Write a program that uses the logging module to log both informational and error messages."
      ],
      "metadata": {
        "id": "Cs-HZTpJDqfZ"
      }
    },
    {
      "cell_type": "code",
      "source": [
        "import logging\n",
        "\n",
        "# Configure logging to write messages to a file\n",
        "logging.basicConfig(filename='app.log',\n",
        "                    level=logging.INFO,  # Set to INFO to log info and higher-level messages\n",
        "                    format='%(asctime)s - %(levelname)s - %(message)s')\n",
        "\n",
        "# Log an informational message\n",
        "logging.info(\"Program started\")\n",
        "\n",
        "try:\n",
        "    # Simulate some operation\n",
        "    number = int(input(\"Enter a number: \"))\n",
        "    result = 10 / number\n",
        "    logging.info(f\"Division successful. Result: {result}\")\n",
        "except ValueError:\n",
        "    logging.error(\"Invalid input: Not a number.\")\n",
        "except ZeroDivisionError:\n",
        "    logging.error(\"Division by zero attempted.\")\n",
        "\n",
        "logging.info(\"Program ended\")\n"
      ],
      "metadata": {
        "id": "u1q8bO-zDw-9"
      },
      "execution_count": null,
      "outputs": []
    },
    {
      "cell_type": "markdown",
      "source": [
        "15. Write a Python program that prints the content of a file and handles the case when the file is empty."
      ],
      "metadata": {
        "id": "zY-HrBAJDyU0"
      }
    },
    {
      "cell_type": "code",
      "source": [
        "def read_and_print_file(filename):\n",
        "    try:\n",
        "        with open(filename, 'r') as file:\n",
        "            content = file.read()\n",
        "            if not content.strip():  # Checks for empty or whitespace-only content\n",
        "                print(f\"The file '{filename}' is empty.\")\n",
        "            else:\n",
        "                print(\"File content:\")\n",
        "                print(content)\n",
        "    except FileNotFoundError:\n",
        "        print(f\"Error: The file '{filename}' w\n"
      ],
      "metadata": {
        "id": "IFnUtZXkD5Y-"
      },
      "execution_count": null,
      "outputs": []
    },
    {
      "cell_type": "markdown",
      "source": [
        "16. Demonstrate how to use memory profiling to check the memory usage of a small program.\n",
        "\n"
      ],
      "metadata": {
        "id": "PNBepqYuD6wG"
      }
    },
    {
      "cell_type": "code",
      "source": [
        "pip install memory-profiler #1\n",
        " # memory_test.py\n",
        "\n",
        "@profile\n",
        "def create_list():\n",
        "    numbers = [i for i in range(100000)]  # This line uses a chunk of memory\n",
        "    return numbers\n",
        "\n",
        "if __name__ == \"__main__\":\n",
        "    create_list()\n",
        "\n",
        "python -m memory_profiler memory_test.py\n",
        "\n"
      ],
      "metadata": {
        "id": "oua0lz0OD_l9"
      },
      "execution_count": null,
      "outputs": []
    },
    {
      "cell_type": "markdown",
      "source": [
        "17. Write a Python program to create and write a list of numbers to a file, one number per line"
      ],
      "metadata": {
        "id": "PtxWMbn0EShj"
      }
    },
    {
      "cell_type": "code",
      "source": [
        "# List of numbers\n",
        "numbers = [1, 2, 3, 4, 5, 10, 15, 20]\n",
        "\n",
        "# File to write to\n",
        "filename = 'numbers.txt'\n",
        "\n",
        "try:\n",
        "    with open(filename, 'w') as file:\n",
        "        for number in numbers:\n",
        "            file.write(f\"{number}\\n\")  # Write each number on a new line\n",
        "    print(f\"Numbers written to '{filename}' successfully.\")\n",
        "except Exception as e:\n",
        "    print(f\"An error occurred: {e}\")\n"
      ],
      "metadata": {
        "id": "vhKkP9oWEZ_f"
      },
      "execution_count": null,
      "outputs": []
    },
    {
      "cell_type": "markdown",
      "source": [
        "18. F How would you implement a basic logging setup that logs to a file with rotation after 1MB."
      ],
      "metadata": {
        "id": "hiybbiWHEdzO"
      }
    },
    {
      "cell_type": "code",
      "source": [
        "import logging\n",
        "from logging.handlers import RotatingFileHandler\n",
        "\n",
        "# Create a rotating file handler\n",
        "log_handler = RotatingFileHandler(\n",
        "    'app.log',        # Log file name\n",
        "    maxBytes=1 * 1024 * 1024,  # 1 MB\n",
        "    backupCount=3              # Keep up to 3 old log files\n",
        ")\n",
        "\n",
        "# Set logging format\n",
        "formatter = logging.Formatter('%(asctime)s - %(levelname)s - %(message)s')\n",
        "log_handler.setFormatter(formatter)\n",
        "\n",
        "# Get the root logger and attach the handler\n",
        "logger = logging.getLogger()\n",
        "logger.setLevel(logging.INFO)  # Adjust as needed\n",
        "logger.addHandler(log_handler)\n",
        "\n",
        "# Example logging\n",
        "logger.info(\"This is an informational message.\")\n",
        "logger.error(\"This is an error message.\")\n"
      ],
      "metadata": {
        "id": "22x3UGQ0EhL3"
      },
      "execution_count": null,
      "outputs": []
    },
    {
      "cell_type": "markdown",
      "source": [
        "19. Write a program that handles both IndexError and KeyError using a try-except block"
      ],
      "metadata": {
        "id": "p-PBVTIXEmQE"
      }
    },
    {
      "cell_type": "code",
      "source": [
        "def demo_error_handling():\n",
        "    my_list = [10, 20, 30]\n",
        "    my_dict = {'a': 1, 'b': 2}\n",
        "\n",
        "    try:\n",
        "        # Attempt to access an invalid list index\n",
        "        print(\"List element:\", my_list[5])\n",
        "\n",
        "        # Attempt to access a missing dictionary key\n",
        "        print(\"Dictionary value:\", my_dict['z'])\n",
        "\n",
        "    except IndexError:\n",
        "        print(\"Error: List index is out of range.\")\n",
        "\n",
        "    except KeyError:\n",
        "        print(\"Error: Dictionary key not found.\")\n",
        "\n",
        "# Run the function\n",
        "demo_error_handling()\n"
      ],
      "metadata": {
        "id": "IhauIu7yEq-3"
      },
      "execution_count": null,
      "outputs": []
    },
    {
      "cell_type": "markdown",
      "source": [
        "20.  How would you open a file and read its contents using a context manager in Python."
      ],
      "metadata": {
        "id": "aQ_oDUo0EzHt"
      }
    },
    {
      "cell_type": "code",
      "source": [
        "filename = 'example.txt'\n",
        "\n",
        "try:\n",
        "    with open(filename, 'r') as file:\n",
        "        content = file.read()\n",
        "        print(\"File contents:\\n\", content)\n",
        "except FileNotFoundError:\n",
        "    print(f\"Error: The file '{filename}' was not found.\")\n",
        "except Exception as e:\n",
        "    print(f\"An unexpected error occurred: {e}\")\n"
      ],
      "metadata": {
        "id": "geAsJYtKE3by"
      },
      "execution_count": null,
      "outputs": []
    },
    {
      "cell_type": "markdown",
      "source": [
        "21. Write a Python program that reads a file and prints the number of occurrences of a specific word."
      ],
      "metadata": {
        "id": "GDFs4Xv2E9Dp"
      }
    },
    {
      "cell_type": "code",
      "source": [
        "def count_word_occurrences(filename, target_word):\n",
        "    try:\n",
        "        with open(filename, 'r') as file:\n",
        "            text = file.read().lower()  # Read entire file and convert to lowercase\n",
        "        words = text.split()             # Split text into words\n",
        "        count = words.count(target_word.lower())  # Count occurrences (case-insensitive)\n",
        "        print(f\"The word '{target_word}' occurs {count} time(s) in the file.\")\n",
        "    except FileNotFoundError:\n",
        "        print(f\"Error: The file '{filename}' was not found.\")\n",
        "    except Exception as e:\n",
        "        print(f\"An unexpected error occurred: {e}\")\n",
        "\n",
        "# Example usage\n",
        "count_word_occurrences('example.txt', 'python')\n"
      ],
      "metadata": {
        "id": "NSDlvFk9FBD1"
      },
      "execution_count": null,
      "outputs": []
    },
    {
      "cell_type": "markdown",
      "source": [
        "22. F How can you check if a file is empty before attempting to read its contents.\n"
      ],
      "metadata": {
        "id": "S3byJYbDFGWV"
      }
    },
    {
      "cell_type": "code",
      "source": [
        "import os\n",
        "\n",
        "filename = 'example.txt'\n",
        "\n",
        "if os.path.getsize(filename) > 0:\n",
        "    with open(filename, 'r') as file:\n",
        "        content = file.read()\n",
        "        print(content)\n",
        "else:\n",
        "    print(f\"The file '{filename}' is empty.\")\n"
      ],
      "metadata": {
        "id": "HeecwzsoFKmG"
      },
      "execution_count": null,
      "outputs": []
    },
    {
      "cell_type": "markdown",
      "source": [
        "23. Write a Python program that writes to a log file when an error occurs during file handling."
      ],
      "metadata": {
        "id": "vNjDfIx6FP06"
      }
    },
    {
      "cell_type": "code",
      "source": [
        "import logging\n",
        "\n",
        "# Configure logging to write errors to a file\n",
        "logging.basicConfig(filename='file_errors.log',\n",
        "                    level=logging.ERROR,\n",
        "                    format='%(asctime)s - %(levelname)s - %(message)s')\n",
        "\n",
        "def read_file(filename):\n",
        "    try:\n",
        "        with open(filename, 'r') as file:\n",
        "            content = file.read()\n",
        "            print(content)\n",
        "    except FileNotFoundError as e:\n",
        "        logging.error(f\"File not found: {filename} - {e}\")\n",
        "        print(f\"Error: The file '{filename}' was not found.\")\n",
        "    except IOError as e:\n",
        "        logging.error(f\"I/O error while handling file {filename} - {e}\")\n",
        "        print(f\"Error: An I/O error occurred while handling '{filename}'.\")\n",
        "    except Exception as e:\n",
        "        logging.error(f\"Unexpected error with file {filename} - {e}\")\n",
        "        print(\"An unexpected error occurred.\")\n",
        "\n",
        "# Example usage\n",
        "read_file('nonexistent.txt')\n"
      ],
      "metadata": {
        "id": "n3BW3j2HFTGt"
      },
      "execution_count": null,
      "outputs": []
    }
  ]
}