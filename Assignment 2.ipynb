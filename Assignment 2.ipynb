{
  "nbformat": 4,
  "nbformat_minor": 0,
  "metadata": {
    "colab": {
      "provenance": []
    },
    "kernelspec": {
      "name": "python3",
      "display_name": "Python 3"
    },
    "language_info": {
      "name": "python"
    }
  },
  "cells": [
    {
      "cell_type": "markdown",
      "source": [
        "#Data Types And Structure Questions"
      ],
      "metadata": {
        "id": "NF-kN0XjEy6w"
      }
    },
    {
      "cell_type": "markdown",
      "source": [
        "1. What are data structures, and why are they important?  \n",
        "   - Data structures are organized ways to store, manage, and organize data so that it can be used efficiently. Think of them as \"containers\" for data that are optimized for specific tasks, like searching, sorting, or modifying information. Some common examples of data structures include:\n",
        "     + Arrays (ordered collections of elements)\n",
        "     + Linked Lists (chains of elements connected by pointers)\n",
        "     + Stacks and Queues (structures that control the order of operations)\n",
        "     + Trees (hierarchical data, like file systems)\n",
        "     + Graphs (networks of nodes and connections)\n",
        "     + Hash Tables (fast lookup using keys)\n",
        "\n",
        "    Why data structures are important:\n",
        "       + Efficiency: Choosing the right structure can make programs run faster and use less memory.\n",
        "       + Organization: They help organize data logically and clearly.\n",
        "       + Scalability: Good structures handle growing amounts of data without breaking down.\n",
        "       + Problem-solving: Many real-world problems can be mapped onto specific data structures, making them easier to solve.\n",
        "       + Foundation for algorithms: Algorithms often rely heavily on data structures to work effectively."
      ],
      "metadata": {
        "id": "y9pPujXhE8Hf"
      }
    },
    {
      "cell_type": "markdown",
      "source": [
        "2.  Explain the difference between mutable and immutable data types with examples?\n",
        "   - Mutable data types are data types whose values can be changed after the object is created.        \n",
        "     Immutable data types are data types whose values cannot be changed once the object is created.   \n",
        "     Examples:  \n",
        "                my_list = [1, 2, 3]\n",
        "                my_list[0] = 100  # Changing the first element\n",
        "                print(my_list)    # Output: [100, 2, 3]\n",
        "                * Mutable data Type\n",
        "                \n",
        "                my_tuple = (1, 2, 3)\n",
        "                my_tuple[0] = 100  # Error: Tuples are immutable\n",
        "\n"
      ],
      "metadata": {
        "id": "xyXuRY1nFJI9"
      }
    },
    {
      "cell_type": "markdown",
      "source": [
        "3. What are the main differences between lists and tuples in Python?   \n",
        "   - The main differences between lists and tuples revolve around mutability, performance, and use cases. Lists are mutable, meaning their elements can be changed, added, or removed after the list is created. They are defined using square brackets, like [1, 2, 3], and provide many built-in methods such as .append(), .remove(), and .sort(). In contrast, tuples are immutable; once a tuple is created, its contents cannot be altered. Tuples use parentheses for their definition, like (1, 2, 3), and offer fewer methods because they are designed to be fixed collections of items.Because tuples are immutable, they are generally faster and consume less memory compared to lists, making them more efficient for situations where a constant set of values is needed. Lists are better suited for collections of data that may need to change during the program’s execution. Typically, if the data should stay constant (like coordinates, RGB color values, or database keys), a tuple is preferred. If the data needs to be dynamic and updated often, a list is the better choice."
      ],
      "metadata": {
        "id": "kXCrec0cLbKD"
      }
    },
    {
      "cell_type": "markdown",
      "source": [
        "4. Describe how dictionaries store data?\n",
        "   - Dictionaries in Python store data as key-value pairs. Each item in a dictionary is a pair where a key maps directly to a value. Keys must be unique and immutable types (like strings, numbers, or tuples), while values can be of any type and can be duplicated."
      ],
      "metadata": {
        "id": "by8TaQ95MBCj"
      }
    },
    {
      "cell_type": "markdown",
      "source": [
        "5. Why might you use a set instead of a list in Python?\n",
        "   - Use a set when you care about uniqueness and speed, and use a list when you care about order or allow duplicates.sets are unordered (they don't maintain the order of elements like lists do) and don't support indexing (you can't do my_set[0])."
      ],
      "metadata": {
        "id": "dytnAbPVMTKL"
      }
    },
    {
      "cell_type": "markdown",
      "source": [
        "6. What is a string in Python, and how is it different from a list?\n",
        "   - In Python, a string is a sequence of characters used to represent text. Strings are created by enclosing characters in quotes, like \"hello\" or 'world'. Each character in a string can be accessed by its position (index), similar to how you access items in a list.\n",
        "\n",
        "    However, there are important differences between a string and a list:\n",
        "\n",
        "      + Content type: A string only holds characters (letters, numbers, symbols), while a list can hold any type of object (integers, strings, other lists, etc.).\n",
        "      + Mutability: Strings are immutable, meaning once a string is created, you cannot change its characters directly. Lists are mutable, so you can change, add, or remove elements.\n",
        "      + Syntax: Strings are created using quotes (\"...\" or '...'), while lists use square brackets ([...]).\n"
      ],
      "metadata": {
        "id": "kaiL8UDWMyUe"
      }
    },
    {
      "cell_type": "markdown",
      "source": [
        "7. How do tuples ensure data integrity in Python?\n",
        "   - Tuples help ensure data integrity in Python 3 mainly through their immutability — once a tuple is created, it cannot be changed. This means:\n",
        "      \n",
        "       + You cannot add, remove, or modify elements inside a tuple.\n",
        "       + The data stored in a tuple stays fixed throughout the lifetime of the program (unless you create a new tuple)."
      ],
      "metadata": {
        "id": "ad5HFpSlNug7"
      }
    },
    {
      "cell_type": "markdown",
      "source": [
        "8. What is a hash table, and how does it relate to dictionaries in Python?\n",
        "   - A hash table is a special data structure that stores key-value pairs and allows very fast access to values based on their keys. It works by using a hash function to convert each key into a unique number (called a hash code), which determines where the value is stored in memory.\n",
        "        \n",
        "        In Python 3, dictionaries are built on top of hash tables. When you create a dictionary and add a key-value pair:\n",
        "      + Python calculates the hash of the key.\n",
        "      + It uses this hash to find an efficient location in memory to store the value.\n",
        "      + Later, when you look up the key, Python recomputes the hash and goes straight to the stored location — instead of searching through every item — making lookups extremely fast (typically O(1) time)."
      ],
      "metadata": {
        "id": "LHqZxMGzOWS3"
      }
    },
    {
      "cell_type": "markdown",
      "source": [
        "9. Can lists contain different data types in Python?\n",
        "   - Yes, lists in Python 3 can contain different data types all in the same list.Python lists are very flexible — you can mix integers, strings, floats, booleans, even other lists or objects together.  \n",
        "   Examples:\n",
        "            my_list = [42, \"hello\", 3.14, True, [1, 2, 3]]\n",
        "            print(my_list)\n",
        "            Output: [42, 'hello', 3.14, True, [1, 2, 3]]\n"
      ],
      "metadata": {
        "id": "k6CuiGt5O82l"
      }
    },
    {
      "cell_type": "markdown",
      "source": [
        "10. Explain why strings are immutable in Python?\n",
        "    - Strings are immutable in Python to enhance performance, ensure thread safety, maintain data integrity, and enable their use as hashable keys in dictionaries and sets."
      ],
      "metadata": {
        "id": "4DhJ5Ra4QUgr"
      }
    },
    {
      "cell_type": "markdown",
      "source": [
        "11. What advantages do dictionaries offer over lists for certain tasks?\n",
        "    - Dictionaries offer several advantages over lists are as follows:\n",
        "       +  Faster Lookups (O(1) Average Time Complexity.\n",
        "       +  Key-Value Mapping.\n",
        "       +  Handling Uniqueness of Keys.\n",
        "       + Efficient Membership Tests.\n",
        "       + No Indexing Needed.\n",
        "       + Flexible Data Types for Keys and Values."
      ],
      "metadata": {
        "id": "4APnLTICQqSC"
      }
    },
    {
      "cell_type": "markdown",
      "source": [
        "12. Describe a scenario where using a tuple would be preferable over a list?\n",
        "    - Imagine you're building a mapping or location-based application, and you need to store the geographic coordinates (latitude and longitude) of various places. These coordinates are fixed once established — they don't change. In this case, using a tuple ensures that the data remains unchanged throughout the program, preventing accidental modification."
      ],
      "metadata": {
        "id": "2Jpbg5DfR3Lr"
      }
    },
    {
      "cell_type": "markdown",
      "source": [
        "13. How do sets handle duplicate values in Python?\n",
        "    - In Python 3, sets automatically remove duplicate values. When you create a set or add items to it, only unique elements are kept — any duplicates are ignored.  \n",
        "    Example:\n",
        "             my_list = [1, 2, 2, 3, 4, 4, 5]\n",
        "             unique_items = set(my_list)\n",
        "             print(unique_items)\n",
        "             Output: {1, 2, 3, 4, 5}\n"
      ],
      "metadata": {
        "id": "i7XeqWRSSio7"
      }
    },
    {
      "cell_type": "markdown",
      "source": [
        "14. How does the “in” keyword work differently for lists and dictionaries?\n",
        "    - The \"in\" keyword is used in both lists and dictionaries in Python 3, but it works a little differently depending on the data structure:     \n",
        "    For List:\n",
        "              my_list = [1, 2, 3, 4, 5]\n",
        "              print(3 in my_list)  # Output: True\n",
        "              print(6 in my_list)  # Output: False\n",
        "\n",
        "     For Dict:  \n",
        "              my_dict = {\"apple\": 1, \"banana\": 2, \"cherry\": 3}\n",
        "              print(\"banana\" in my_dict)  # Output: True (checks keys)\n",
        "              print(2 in my_dict)         # Output: False (2 is a value, not a key)\n",
        "\n",
        "              # To check for a value:\n",
        "              print(2 in my_dict.values())  # Output: True\n",
        "\n",
        "                   \n",
        "\n"
      ],
      "metadata": {
        "id": "ZuHGCPgJh_DF"
      }
    },
    {
      "cell_type": "markdown",
      "source": [
        "15. Can you modify the elements of a tuple? Explain why or why not?\n",
        "    - No, you cannot modify the elements of a tuple in Python.This is because tuples are immutable, meaning once a tuple is created, its elements cannot be changed, added, or removed. If you try to modify an element inside a tuple, Python will raise a TypeError."
      ],
      "metadata": {
        "id": "PWCRMS3wixdM"
      }
    },
    {
      "cell_type": "markdown",
      "source": [
        "16. What is a nested dictionary, and give an example of its use case.\n",
        "    - A nested dictionary in Python is a dictionary inside another dictionary. It allows you to organize complex data structures by grouping related information together. Each key in the outer dictionary can map to another dictionary as its value.  \n",
        "    Example:-\n",
        "              students = {\n",
        "                            \"Alice\": {\"age\": 24, \"major\": \"Physics\"},\n",
        "                            \"Bob\": {\"age\": 22, \"major\": \"Mathematics\"},\n",
        "                            \"Charlie\": {\"age\": 23, \"major\": \"Computer Science\"}\n",
        "}\n",
        "\n",
        " UseCase:-  \n",
        " A nested dictionary is useful when you need to represent hierarchical or structured data.\n",
        "Example Use Case:\n",
        "Suppose you're building a university management system. You could use a nested dictionary to store student records, where:\n",
        "Each student has attributes like age, major, and grades.\n",
        "You want to easily look up all information about a student using their name.\n",
        "Example:\n",
        "         # Accessing Bob's major\n",
        "         print(students[\"Bob\"][\"major\"])  # Output: Mathematics\n",
        "\n",
        "\n",
        "              "
      ],
      "metadata": {
        "id": "JtOp-zRSjEFI"
      }
    },
    {
      "cell_type": "markdown",
      "source": [
        "17. Describe the time complexity of accessing elements in a dictionary  \n",
        "    - In Python, the time complexity of accessing elements in a dictionary is typically O(1) — meaning it takes constant time no matter how many elements are in the dictionary.\n",
        "    \n",
        "    Why is it O(1)?    \n",
        "    + Python dictionaries use a hash table behind the scenes.\n",
        "    + When you try to access an item with a key (like my_dict[\"key\"]), Python:\n",
        "      * Calculates the hash of the key.\n",
        "      * Directly jumps to the memory location where the value should be.\n",
        "    + This avoids searching through all the elements, making access very fast.\n",
        "\n",
        "\n"
      ],
      "metadata": {
        "id": "LLuMv-EykUOx"
      }
    },
    {
      "cell_type": "markdown",
      "source": [
        "18. In what situations are lists preferred over dictionaries?\n",
        "    - Lists are preferred over dictionaries in Python when:\n",
        "        + Order Matters\n",
        "        + Simple Collections\n",
        "        +  Index-based Access\n",
        "        + Ordered Iteration\n",
        "        + Memory Efficiency"
      ],
      "metadata": {
        "id": "-uilSIYYlW5S"
      }
    },
    {
      "cell_type": "markdown",
      "source": [
        "19. Why are dictionaries considered unordered, and how does that affect data retrieval?\n",
        "    - Dictionaries are considered unordered because data retrieval depends on keys, not the position or sequence of items. Even though modern Python versions preserve insertion order, you should think of dictionaries as mappings, not ordered sequences like lists."
      ],
      "metadata": {
        "id": "TrEAg9HVmlke"
      }
    },
    {
      "cell_type": "markdown",
      "source": [
        "20. Explain the difference between a list and a dictionary in terms of data retrieval.\n",
        "    - The main difference between a list and a dictionary in terms of data retrieval is how you access the data:\n",
        "      + List:\n",
        "           * You retrieve data by index — a numeric position starting from 0.\n",
        "           * Access is based on the element's position in the list.\n",
        "           Example:\n",
        "                    my_list = [\"apple\", \"banana\", \"cherry\"]\n",
        "                    print(my_list[1])  # Output: banana (position 1)\n",
        "\n",
        "      + Dictionary:\n",
        "           * You retrieve data by key — a unique identifier you assign to each value.\n",
        "           * Access is direct and fast because dictionaries use hash tables (average O(1) time complexity).  \n",
        "           Example:\n",
        "                   my_dict = {\"fruit1\": \"apple\", \"fruit2\": \"banana\", \"fruit3\": \"cherry\"}\n",
        "                   print(my_dict[\"fruit2\"])  # Output: banana (using the key \"fruit2\")\n",
        "\n",
        "                    \n"
      ],
      "metadata": {
        "id": "2vwZd0SVm-cp"
      }
    },
    {
      "cell_type": "markdown",
      "source": [
        "#Practical Questions"
      ],
      "metadata": {
        "id": "a3MYwR7nohOz"
      }
    },
    {
      "cell_type": "markdown",
      "source": [
        "1. Write a code to create a string with your name and print it."
      ],
      "metadata": {
        "id": "7GYDNoo6oz_k"
      }
    },
    {
      "cell_type": "code",
      "source": [
        "\n",
        "my_name = \"Rishabh\"\n",
        "print(my_name)\n"
      ],
      "metadata": {
        "colab": {
          "base_uri": "https://localhost:8080/"
        },
        "id": "LRKKrnpKovrE",
        "outputId": "6113cd2c-9f43-4f24-ebfd-0b34b87e3ca4"
      },
      "execution_count": 2,
      "outputs": [
        {
          "output_type": "stream",
          "name": "stdout",
          "text": [
            "Rishabh\n"
          ]
        }
      ]
    },
    {
      "cell_type": "markdown",
      "source": [
        "2. Write a code to find the length of the string \"Hello World\""
      ],
      "metadata": {
        "id": "fkSznBdPo_1-"
      }
    },
    {
      "cell_type": "code",
      "source": [
        "my_string = \"Hello World\"\n",
        "length_of_string = len(my_string)\n",
        "print(length_of_string)\n"
      ],
      "metadata": {
        "colab": {
          "base_uri": "https://localhost:8080/"
        },
        "id": "eoqzfu9WpHbf",
        "outputId": "dcb399bd-eeda-4acf-d9cb-75157ff6cf0c"
      },
      "execution_count": 3,
      "outputs": [
        {
          "output_type": "stream",
          "name": "stdout",
          "text": [
            "11\n"
          ]
        }
      ]
    },
    {
      "cell_type": "markdown",
      "source": [
        "3. Write a code to slice the first 3 characters from the string \"Python Programming\""
      ],
      "metadata": {
        "id": "FpenT0klpQOu"
      }
    },
    {
      "cell_type": "code",
      "source": [
        "my_string = \"Python Programming\"\n",
        "sliced_string = my_string[:3]\n",
        "print(sliced_string)\n"
      ],
      "metadata": {
        "colab": {
          "base_uri": "https://localhost:8080/"
        },
        "id": "dbwyWeDVpVyG",
        "outputId": "610d19fd-0bf5-4b9e-eb87-3752d1be24c6"
      },
      "execution_count": 4,
      "outputs": [
        {
          "output_type": "stream",
          "name": "stdout",
          "text": [
            "Pyt\n"
          ]
        }
      ]
    },
    {
      "cell_type": "markdown",
      "source": [
        "4. Write a code to convert the string \"hello\" to uppercase"
      ],
      "metadata": {
        "id": "Lrn_pGcVphPa"
      }
    },
    {
      "cell_type": "code",
      "source": [
        "my_string = \"hello\"\n",
        "uppercase_string = my_string.upper()\n",
        "print(uppercase_string)\n"
      ],
      "metadata": {
        "colab": {
          "base_uri": "https://localhost:8080/"
        },
        "id": "mhoGV65Apntl",
        "outputId": "4defbb08-1226-483d-b907-fffd8c9daa06"
      },
      "execution_count": 5,
      "outputs": [
        {
          "output_type": "stream",
          "name": "stdout",
          "text": [
            "HELLO\n"
          ]
        }
      ]
    },
    {
      "cell_type": "markdown",
      "source": [
        "5. Write a code to replace the word \"apple\" with \"orange\" in the string \"I like apple\""
      ],
      "metadata": {
        "id": "rk4Az9UvpyDi"
      }
    },
    {
      "cell_type": "code",
      "source": [
        "my_string = \"I like apple\"\n",
        "new_string = my_string.replace(\"apple\", \"orange\")\n",
        "print(new_string)\n"
      ],
      "metadata": {
        "colab": {
          "base_uri": "https://localhost:8080/"
        },
        "id": "49NDSxgxp8CZ",
        "outputId": "88f2cb3c-f053-4cda-b6e9-8e6b8e7221f2"
      },
      "execution_count": 6,
      "outputs": [
        {
          "output_type": "stream",
          "name": "stdout",
          "text": [
            "I like orange\n"
          ]
        }
      ]
    },
    {
      "cell_type": "markdown",
      "source": [
        "6. Write a code to create a list with numbers 1 to 5 and print it\n"
      ],
      "metadata": {
        "id": "LXUW7iJiqE7d"
      }
    },
    {
      "cell_type": "code",
      "source": [
        "my_list = [1, 2, 3, 4, 5]\n",
        "print(my_list)\n"
      ],
      "metadata": {
        "colab": {
          "base_uri": "https://localhost:8080/"
        },
        "id": "eYj30o7cqKC-",
        "outputId": "cdafea2c-c23a-4b0d-e062-ba8baa8b420e"
      },
      "execution_count": 7,
      "outputs": [
        {
          "output_type": "stream",
          "name": "stdout",
          "text": [
            "[1, 2, 3, 4, 5]\n"
          ]
        }
      ]
    },
    {
      "cell_type": "markdown",
      "source": [
        "7. Write a code to append the number 10 to the list [1, 2, 3, 4]"
      ],
      "metadata": {
        "id": "dyKQVD4pqUWF"
      }
    },
    {
      "cell_type": "code",
      "source": [
        "my_list = [1, 2, 3, 4]\n",
        "my_list.append(10)\n",
        "print(my_list)\n"
      ],
      "metadata": {
        "colab": {
          "base_uri": "https://localhost:8080/"
        },
        "id": "VoBHO92Nqdyp",
        "outputId": "2fa14bc7-9ba2-4ca3-9efc-d2d5b4c0d2eb"
      },
      "execution_count": 8,
      "outputs": [
        {
          "output_type": "stream",
          "name": "stdout",
          "text": [
            "[1, 2, 3, 4, 10]\n"
          ]
        }
      ]
    },
    {
      "cell_type": "markdown",
      "source": [
        "8. Write a code to remove the number 3 from the list [1, 2, 3, 4, 5]."
      ],
      "metadata": {
        "id": "qwyqcXNNqo2A"
      }
    },
    {
      "cell_type": "code",
      "source": [
        "my_list = [1, 2, 3, 4, 5]\n",
        "my_list.remove(3)\n",
        "print(my_list)\n"
      ],
      "metadata": {
        "colab": {
          "base_uri": "https://localhost:8080/"
        },
        "id": "dkVYmzKQqxrT",
        "outputId": "3ce6ca7e-57e4-449a-fb97-b63c78ba6e9e"
      },
      "execution_count": 9,
      "outputs": [
        {
          "output_type": "stream",
          "name": "stdout",
          "text": [
            "[1, 2, 4, 5]\n"
          ]
        }
      ]
    },
    {
      "cell_type": "markdown",
      "source": [
        "9. Write a code to access the second element in the list ['a', 'b', 'c', 'd']"
      ],
      "metadata": {
        "id": "O6aBSaOtq4Nu"
      }
    },
    {
      "cell_type": "code",
      "source": [
        "my_list = ['a', 'b', 'c', 'd']\n",
        "second_element = my_list[1]\n",
        "print(second_element)\n"
      ],
      "metadata": {
        "colab": {
          "base_uri": "https://localhost:8080/"
        },
        "id": "K3dOYrRIrAwQ",
        "outputId": "dd274186-2720-41de-ea8d-680cb5d824f5"
      },
      "execution_count": 10,
      "outputs": [
        {
          "output_type": "stream",
          "name": "stdout",
          "text": [
            "b\n"
          ]
        }
      ]
    },
    {
      "cell_type": "markdown",
      "source": [
        "10. Write a code to reverse the list [10, 20, 30, 40, 50]."
      ],
      "metadata": {
        "id": "jiHshdTtrLiM"
      }
    },
    {
      "cell_type": "code",
      "source": [
        "my_list = [10, 20, 30, 40, 50]\n",
        "my_list.reverse()\n",
        "print(my_list)\n"
      ],
      "metadata": {
        "colab": {
          "base_uri": "https://localhost:8080/"
        },
        "id": "LRB3R_yYrTmW",
        "outputId": "4b5d1496-1484-4e5c-a90d-036e4df60f9b"
      },
      "execution_count": 11,
      "outputs": [
        {
          "output_type": "stream",
          "name": "stdout",
          "text": [
            "[50, 40, 30, 20, 10]\n"
          ]
        }
      ]
    },
    {
      "cell_type": "markdown",
      "source": [
        "11. Write a code to create a tuple with the elements 100, 200, 300 and print it."
      ],
      "metadata": {
        "id": "Wq2epXiSrgDq"
      }
    },
    {
      "cell_type": "code",
      "source": [
        "my_tuple = (100, 200, 300)\n",
        "print(my_tuple)\n"
      ],
      "metadata": {
        "colab": {
          "base_uri": "https://localhost:8080/"
        },
        "id": "gS_wQwqArofR",
        "outputId": "af0c64a3-39ba-45b5-a403-be97a9e644af"
      },
      "execution_count": 12,
      "outputs": [
        {
          "output_type": "stream",
          "name": "stdout",
          "text": [
            "(100, 200, 300)\n"
          ]
        }
      ]
    },
    {
      "cell_type": "markdown",
      "source": [
        "12.  Write a code to access the second-to-last element of the tuple ('red', 'green', 'blue', 'yellow')."
      ],
      "metadata": {
        "id": "f_xCliKDrxO0"
      }
    },
    {
      "cell_type": "code",
      "source": [
        "my_tuple = ('red', 'green', 'blue', 'yellow')\n",
        "second_to_last = my_tuple[-2]\n",
        "print(second_to_last)\n"
      ],
      "metadata": {
        "colab": {
          "base_uri": "https://localhost:8080/"
        },
        "id": "QKg1Stf7r1Gs",
        "outputId": "c96fbc92-8f6a-468a-9187-8917d9fb6f5e"
      },
      "execution_count": 13,
      "outputs": [
        {
          "output_type": "stream",
          "name": "stdout",
          "text": [
            "blue\n"
          ]
        }
      ]
    },
    {
      "cell_type": "markdown",
      "source": [
        "13. Write a code to find the minimum number in the tuple (10, 20, 5, 15)."
      ],
      "metadata": {
        "id": "tPLztRqSr_Be"
      }
    },
    {
      "cell_type": "code",
      "source": [
        "my_tuple = (10, 20, 5, 15)\n",
        "min_value = min(my_tuple)\n",
        "print(min_value)\n"
      ],
      "metadata": {
        "colab": {
          "base_uri": "https://localhost:8080/"
        },
        "id": "zxpUQngZsDoQ",
        "outputId": "756b4daf-7e78-4ab9-f781-2b44115c6264"
      },
      "execution_count": 14,
      "outputs": [
        {
          "output_type": "stream",
          "name": "stdout",
          "text": [
            "5\n"
          ]
        }
      ]
    },
    {
      "cell_type": "markdown",
      "source": [
        "14.  Write a code to find the index of the element \"cat\" in the tuple ('dog', 'cat', 'rabbit')"
      ],
      "metadata": {
        "id": "FSdZu6CgsMS-"
      }
    },
    {
      "cell_type": "code",
      "source": [
        "my_tuple = ('dog', 'cat', 'rabbit')\n",
        "cat_index = my_tuple.index('cat')\n",
        "print(cat_index)\n"
      ],
      "metadata": {
        "colab": {
          "base_uri": "https://localhost:8080/"
        },
        "id": "oDaBUyeNvbjZ",
        "outputId": "9d3ae9ea-b30b-4245-eb81-01157211ca4e"
      },
      "execution_count": 15,
      "outputs": [
        {
          "output_type": "stream",
          "name": "stdout",
          "text": [
            "1\n"
          ]
        }
      ]
    },
    {
      "cell_type": "markdown",
      "source": [
        "15.  Write a code to create a tuple containing three different fruits and check if \"kiwi\" is in it."
      ],
      "metadata": {
        "id": "NCU_rv19vmi3"
      }
    },
    {
      "cell_type": "code",
      "source": [
        "fruits = ('apple', 'banana', 'cherry')\n",
        "is_kiwi_present = 'kiwi' in fruits\n",
        "print(is_kiwi_present)\n"
      ],
      "metadata": {
        "colab": {
          "base_uri": "https://localhost:8080/"
        },
        "id": "4l1geJelvvwU",
        "outputId": "1a35464c-e465-42bd-fdc3-76f1368db0c8"
      },
      "execution_count": 16,
      "outputs": [
        {
          "output_type": "stream",
          "name": "stdout",
          "text": [
            "False\n"
          ]
        }
      ]
    },
    {
      "cell_type": "markdown",
      "source": [
        "16. Write a code to create a set with the elements 'a', 'b', 'c' and print it."
      ],
      "metadata": {
        "id": "Z5VI0x33v_zO"
      }
    },
    {
      "cell_type": "code",
      "source": [
        "my_set = {'a', 'b', 'c'}\n",
        "print(my_set)\n"
      ],
      "metadata": {
        "colab": {
          "base_uri": "https://localhost:8080/"
        },
        "id": "0Zj6OvuswEk5",
        "outputId": "4800ad60-4f1d-4b30-81c7-62a4d5b6a3cb"
      },
      "execution_count": 17,
      "outputs": [
        {
          "output_type": "stream",
          "name": "stdout",
          "text": [
            "{'c', 'b', 'a'}\n"
          ]
        }
      ]
    },
    {
      "cell_type": "markdown",
      "source": [
        "17. Write a code to clear all elements from the set {1, 2, 3, 4, 5}"
      ],
      "metadata": {
        "id": "62fbGnFywMNy"
      }
    },
    {
      "cell_type": "code",
      "source": [
        "my_set = {1, 2, 3, 4, 5}\n",
        "my_set.clear()\n",
        "print(my_set)\n"
      ],
      "metadata": {
        "colab": {
          "base_uri": "https://localhost:8080/"
        },
        "id": "34VmtOuswVf4",
        "outputId": "d39121d5-a0aa-46bf-dacb-acecba1e7af3"
      },
      "execution_count": 18,
      "outputs": [
        {
          "output_type": "stream",
          "name": "stdout",
          "text": [
            "set()\n"
          ]
        }
      ]
    },
    {
      "cell_type": "markdown",
      "source": [
        "18. Write a code to remove the element 4 from the set {1, 2, 3, 4}"
      ],
      "metadata": {
        "id": "rG04Z-abwc6I"
      }
    },
    {
      "cell_type": "code",
      "source": [
        "\n",
        "my_set = {1, 2, 3, 4}\n",
        "my_set.remove(4)\n",
        "print(my_set)\n"
      ],
      "metadata": {
        "colab": {
          "base_uri": "https://localhost:8080/"
        },
        "id": "SHotue66whqi",
        "outputId": "c61377df-955e-4658-80f1-abfcbc726433"
      },
      "execution_count": 19,
      "outputs": [
        {
          "output_type": "stream",
          "name": "stdout",
          "text": [
            "{1, 2, 3}\n"
          ]
        }
      ]
    },
    {
      "cell_type": "markdown",
      "source": [
        "19. Write a code to find the union of two sets {1, 2, 3} and {3, 4, 5}."
      ],
      "metadata": {
        "id": "lhp83Bj7x0Gg"
      }
    },
    {
      "cell_type": "code",
      "source": [
        "set1 = {1, 2, 3}\n",
        "set2 = {3, 4, 5}\n",
        "union_set = set1.union(set2)\n",
        "print(union_set)\n"
      ],
      "metadata": {
        "colab": {
          "base_uri": "https://localhost:8080/"
        },
        "id": "1txmG7qVx4NE",
        "outputId": "5322a249-4e95-4f61-b2af-0e529e01599f"
      },
      "execution_count": 20,
      "outputs": [
        {
          "output_type": "stream",
          "name": "stdout",
          "text": [
            "{1, 2, 3, 4, 5}\n"
          ]
        }
      ]
    },
    {
      "cell_type": "markdown",
      "source": [
        "20.Write a code to find the intersection of two sets {1, 2, 3} and {2, 3, 4}."
      ],
      "metadata": {
        "id": "_49McRSCyDl_"
      }
    },
    {
      "cell_type": "code",
      "source": [
        "set1 = {1, 2, 3}\n",
        "set2 = {2, 3, 4}\n",
        "intersection_set = set1.intersection(set2)\n",
        "print(intersection_set)\n"
      ],
      "metadata": {
        "colab": {
          "base_uri": "https://localhost:8080/"
        },
        "id": "a4GNoNEUyC3B",
        "outputId": "600a569a-f4e1-40dd-fe69-2f160a463dd9"
      },
      "execution_count": 21,
      "outputs": [
        {
          "output_type": "stream",
          "name": "stdout",
          "text": [
            "{2, 3}\n"
          ]
        }
      ]
    },
    {
      "cell_type": "markdown",
      "source": [
        "21.Write a code to create a dictionary with the keys \"name\", \"age\", and \"city\", and print it."
      ],
      "metadata": {
        "id": "h1zTTlLPyS4C"
      }
    },
    {
      "cell_type": "code",
      "source": [
        "\n",
        "my_dict = {\n",
        "    \"name\": \"Rishabh\",\n",
        "    \"age\": 22,\n",
        "    \"city\": \"Bulandshahr\"\n",
        "}\n",
        "\n",
        "print(my_dict)\n"
      ],
      "metadata": {
        "colab": {
          "base_uri": "https://localhost:8080/"
        },
        "id": "Xu_MSWE-yQvF",
        "outputId": "3a9f4a20-6fcc-493a-fc93-78b64d5cfec6"
      },
      "execution_count": 22,
      "outputs": [
        {
          "output_type": "stream",
          "name": "stdout",
          "text": [
            "{'name': 'Rishabh', 'age': 22, 'city': 'Bulandshahr'}\n"
          ]
        }
      ]
    },
    {
      "cell_type": "markdown",
      "source": [
        "22.. Write a code to add a new key-value pair \"country\": \"USA\" to the dictionary {'name': 'John', 'age': 25}"
      ],
      "metadata": {
        "id": "WVx_cPdGy1-6"
      }
    },
    {
      "cell_type": "code",
      "source": [
        "my_dict = {'name': 'John', 'age': 25}\n",
        "my_dict['country'] = 'USA'\n",
        "\n",
        "# Print the updated dictionary\n",
        "print(my_dict)\n"
      ],
      "metadata": {
        "colab": {
          "base_uri": "https://localhost:8080/"
        },
        "id": "TQeP6sNPy6S6",
        "outputId": "0e861fdd-9b34-4638-ecff-95c8eababea5"
      },
      "execution_count": 23,
      "outputs": [
        {
          "output_type": "stream",
          "name": "stdout",
          "text": [
            "{'name': 'John', 'age': 25, 'country': 'USA'}\n"
          ]
        }
      ]
    },
    {
      "cell_type": "markdown",
      "source": [
        "23. Write a code to access the value associated with the key \"name\" in the dictionary {'name': 'Alice', 'age': 30}."
      ],
      "metadata": {
        "id": "2x5PuQizzRsp"
      }
    },
    {
      "cell_type": "code",
      "source": [
        "\n",
        "my_dict = {'name': 'Alice', 'age': 30}\n",
        "name_value = my_dict['name']\n",
        "print(name_value)\n"
      ],
      "metadata": {
        "colab": {
          "base_uri": "https://localhost:8080/"
        },
        "id": "hJ-A2oAsz06h",
        "outputId": "1112ff33-5999-45be-fd70-1923856f9258"
      },
      "execution_count": 24,
      "outputs": [
        {
          "output_type": "stream",
          "name": "stdout",
          "text": [
            "Alice\n"
          ]
        }
      ]
    },
    {
      "cell_type": "markdown",
      "source": [
        "24.  Write a code to remove the key \"age\" from the dictionary {'name': 'Bob', 'age': 22, 'city': 'New York'}."
      ],
      "metadata": {
        "id": "GmPA6QHP0JTN"
      }
    },
    {
      "cell_type": "code",
      "source": [
        "\n",
        "my_dict = {'name': 'Bob', 'age': 22, 'city': 'New York'}\n",
        "del my_dict['age']\n",
        "print(my_dict)\n"
      ],
      "metadata": {
        "colab": {
          "base_uri": "https://localhost:8080/"
        },
        "id": "SwUIzMvB0Pkw",
        "outputId": "50022995-6473-4078-a698-d45a83e5306f"
      },
      "execution_count": 25,
      "outputs": [
        {
          "output_type": "stream",
          "name": "stdout",
          "text": [
            "{'name': 'Bob', 'city': 'New York'}\n"
          ]
        }
      ]
    },
    {
      "cell_type": "markdown",
      "source": [
        "25. Write a code to check if the key \"city\" exists in the dictionary {'name': 'Alice', 'city': 'Paris'}."
      ],
      "metadata": {
        "id": "vAhEde160n_c"
      }
    },
    {
      "cell_type": "code",
      "source": [
        "\n",
        "my_dict = {'name': 'Alice', 'city': 'Paris'}\n",
        "key_exists = \"city\" in my_dict\n",
        "print(key_exists)\n"
      ],
      "metadata": {
        "colab": {
          "base_uri": "https://localhost:8080/"
        },
        "id": "f_K8_B1Y0mbF",
        "outputId": "646dfc29-9c2f-4722-adbf-b4bf4e7206cd"
      },
      "execution_count": 26,
      "outputs": [
        {
          "output_type": "stream",
          "name": "stdout",
          "text": [
            "True\n"
          ]
        }
      ]
    },
    {
      "cell_type": "markdown",
      "source": [
        "26. Write a code to create a list, a tuple, and a dictionary, and print them all.\n",
        "\n"
      ],
      "metadata": {
        "id": "U4Xmfxq302b1"
      }
    },
    {
      "cell_type": "code",
      "source": [
        "# Create a list\n",
        "my_list = [1, 2, 3, 4, 5]\n",
        "\n",
        "# Create a tuple\n",
        "my_tuple = ('apple', 'banana', 'cherry')\n",
        "\n",
        "# Create a dictionary\n",
        "my_dict = {'name': 'Alice', 'age': 25, 'city': 'New York'}\n",
        "\n",
        "# Print the list, tuple, and dictionary\n",
        "print(\"List:\", my_list)\n",
        "print(\"Tuple:\", my_tuple)\n",
        "print(\"Dictionary:\", my_dict)\n"
      ],
      "metadata": {
        "colab": {
          "base_uri": "https://localhost:8080/"
        },
        "id": "QnY38Ra31Eim",
        "outputId": "ddced9bf-a3ae-4330-e4af-6850934d7882"
      },
      "execution_count": 27,
      "outputs": [
        {
          "output_type": "stream",
          "name": "stdout",
          "text": [
            "List: [1, 2, 3, 4, 5]\n",
            "Tuple: ('apple', 'banana', 'cherry')\n",
            "Dictionary: {'name': 'Alice', 'age': 25, 'city': 'New York'}\n"
          ]
        }
      ]
    },
    {
      "cell_type": "markdown",
      "source": [
        "27.  Write a code to create a list of 5 random numbers between 1 and 100, sort it in ascending order, and print the\n",
        "result.(replaced)"
      ],
      "metadata": {
        "id": "wUtIg06b1MKZ"
      }
    },
    {
      "cell_type": "code",
      "source": [
        "import random\n",
        "random_numbers = [random.randint(1, 100) for _ in range(5)]\n",
        "random_numbers.sort()\n",
        "print(\"Sorted Random Numbers:\", random_numbers)\n"
      ],
      "metadata": {
        "colab": {
          "base_uri": "https://localhost:8080/"
        },
        "id": "u3m3E0tr1P9Q",
        "outputId": "ecaddc22-6d1a-4210-a6b2-414664cf30bc"
      },
      "execution_count": 28,
      "outputs": [
        {
          "output_type": "stream",
          "name": "stdout",
          "text": [
            "Sorted Random Numbers: [22, 30, 83, 86, 95]\n"
          ]
        }
      ]
    },
    {
      "cell_type": "markdown",
      "source": [
        "28. Write a code to create a list with strings and print the element at the third index."
      ],
      "metadata": {
        "id": "1UN7Qbha1buR"
      }
    },
    {
      "cell_type": "code",
      "source": [
        "\n",
        "my_list = [\"apple\", \"banana\", \"cherry\", \"date\", \"elderberry\"]\n",
        "print(my_list[3])\n"
      ],
      "metadata": {
        "colab": {
          "base_uri": "https://localhost:8080/"
        },
        "id": "Fj1_6UWS1i53",
        "outputId": "fef0b019-d285-4e44-8191-b8a21a820c77"
      },
      "execution_count": 29,
      "outputs": [
        {
          "output_type": "stream",
          "name": "stdout",
          "text": [
            "date\n"
          ]
        }
      ]
    },
    {
      "cell_type": "markdown",
      "source": [
        "29. Write a code to combine two dictionaries into one and print the result."
      ],
      "metadata": {
        "id": "2N0aR1Bx1tge"
      }
    },
    {
      "cell_type": "code",
      "source": [
        "dict1 = {'name': 'Alice', 'age': 25}\n",
        "dict2 = {'city': 'New York', 'country': 'USA'}\n",
        "\n",
        "dict1.update(dict2)\n",
        "\n",
        "print(dict1)\n"
      ],
      "metadata": {
        "colab": {
          "base_uri": "https://localhost:8080/"
        },
        "id": "vVXtTEEK12_t",
        "outputId": "449cf347-3c00-400f-bd3b-27a79155439f"
      },
      "execution_count": 30,
      "outputs": [
        {
          "output_type": "stream",
          "name": "stdout",
          "text": [
            "{'name': 'Alice', 'age': 25, 'city': 'New York', 'country': 'USA'}\n"
          ]
        }
      ]
    },
    {
      "cell_type": "markdown",
      "source": [
        "30. Write a code to convert a list of strings into a set."
      ],
      "metadata": {
        "id": "YqWUJJf72DQH"
      }
    },
    {
      "cell_type": "code",
      "source": [
        "my_list = [\"apple\", \"banana\", \"cherry\", \"apple\", \"banana\"]\n",
        "my_set = set(my_list)\n",
        "print(my_set)\n"
      ],
      "metadata": {
        "colab": {
          "base_uri": "https://localhost:8080/"
        },
        "id": "6Pjd2Tlb2Hmo",
        "outputId": "2c8851bf-ade6-4a6d-f650-d5b08d0c46d9"
      },
      "execution_count": 31,
      "outputs": [
        {
          "output_type": "stream",
          "name": "stdout",
          "text": [
            "{'banana', 'apple', 'cherry'}\n"
          ]
        }
      ]
    }
  ]
}