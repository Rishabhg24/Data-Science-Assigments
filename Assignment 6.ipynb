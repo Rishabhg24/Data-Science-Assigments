{
  "nbformat": 4,
  "nbformat_minor": 0,
  "metadata": {
    "colab": {
      "provenance": []
    },
    "kernelspec": {
      "name": "python3",
      "display_name": "Python 3"
    },
    "language_info": {
      "name": "python"
    }
  },
  "cells": [
    {
      "cell_type": "markdown",
      "source": [
        "#Theory Questions"
      ],
      "metadata": {
        "id": "DhZ0P8zjvAK5"
      }
    },
    {
      "cell_type": "markdown",
      "source": [
        "1. What is NumPy, and why is it widely used in Python?\n",
        "   - NumPy (Numerical Python) is a powerful open-source library in Python used primarily for numerical computing. It provides support for large, multi-dimensional arrays and matrices, along with a collection of high-level mathematical functions to operate on these arrays.\n",
        "\n",
        "    Why It’s Widely Used:\n",
        "\n",
        "    * Performance: NumPy is implemented in C, so it performs computations much faster than pure Python.\n",
        "\n",
        "    * Foundation for scientific libraries: Libraries like Pandas, SciPy, and machine learning tools (e.g., scikit-learn) rely on NumPy.\n",
        "\n",
        "    * Cleaner syntax: Vectorized operations make code easier to write and read.\n",
        "\n",
        "    * Great for data science and machine learning: Essential for manipulating numerical data efficiently."
      ],
      "metadata": {
        "id": "vRIsfhtOvLr9"
      }
    },
    {
      "cell_type": "markdown",
      "source": [
        "2. How does broadcasting work in NumPy?\n",
        "   - When performing operations like addition, subtraction, multiplication, etc., NumPy compares the shapes of the arrays element-wise. If the shapes are not the same, it tries to broadcast them to a common shape by following these rules:\n",
        "\n",
        " Broadcasting Rules:\n",
        "\n",
        " If the arrays have different numbers of dimensions, prepend 1s to the shape of the smaller array.\n",
        "\n",
        " Then compare shapes element-wise:\n",
        "\n",
        " If the dimensions are equal, or\n",
        "\n",
        " One of them is 1 → compatible.\n",
        "\n",
        " If they're compatible in all dimensions, NumPy broadcasts the smaller array."
      ],
      "metadata": {
        "id": "bW_xRRK6wh_J"
      }
    },
    {
      "cell_type": "markdown",
      "source": [
        "3. What is a Pandas DataFrame?\n",
        "   - A Pandas DataFrame is a 2-dimensional, tabular data structure in Python, similar to a spreadsheet or SQL table. It is one of the core components of the Pandas library, which is widely used for data analysis and manipulation."
      ],
      "metadata": {
        "id": "0eiyRr_XxDGT"
      }
    },
    {
      "cell_type": "markdown",
      "source": [
        "4. Explain the use of the groupby() method in Pandas?\n",
        "   - The groupby() method in Pandas is used to group data based on the values of one or more columns and then perform aggregate operations (like sum, mean, count, etc.) on each group."
      ],
      "metadata": {
        "id": "xa5tynvcxS3h"
      }
    },
    {
      "cell_type": "markdown",
      "source": [
        "5. Why is Seaborn preferred for statistical visualizations?\n",
        "   - Seaborn is preferred for statistical visualizations in Python because it offers a high-level interface built on top of Matplotlib that makes it easier to create informative and attractive statistical plots with minimal code.\n",
        "\n",
        "  1. Built-in Statistical Plots\n",
        "\n",
        "    Seaborn simplifies creating plots like:\n",
        "\n",
        "    Histograms, box plots, violin plots\n",
        "\n",
        "    Regression plots (with regplot() and lmplot())\n",
        "\n",
        "    Categorical plots (catplot())\n",
        "\n",
        "    Heatmaps for correlation matrices\n",
        "\n",
        "  2. Beautiful Defaults\n",
        "Seaborn applies aesthetic styles and color palettes by default, producing cleaner and more professional-looking plots without additional configuration.\n",
        "\n",
        "  3. DataFrame Integration\n",
        "Works directly with Pandas DataFrames, allowing you to use column names as arguments, which simplifies syntax and improves readability.\n",
        "\n",
        "  4. Automatic Aggregation\n",
        "Functions like barplot() and pointplot() can automatically compute and plot means and confidence intervals, making statistical analysis easier.\n",
        "\n",
        " 5. Easy Multi-plot Layouts\n",
        "The FacetGrid, pairplot(), and catplot() functions allow you to create multi-panel visualizations with just a few lines of code.\n",
        "\n"
      ],
      "metadata": {
        "id": "jH-f_897xkgx"
      }
    },
    {
      "cell_type": "markdown",
      "source": [
        "6. What are the differences between NumPy arrays and Python lists?\n",
        "   - NumPy arrays and Python lists are both used to store collections of data, but they differ significantly in terms of performance, functionality, and use cases. NumPy arrays are specifically designed for numerical computations and are much faster and more memory-efficient than Python lists, especially for large datasets. This is because NumPy arrays are implemented in C and store data in contiguous memory blocks, allowing for vectorized operations and optimized performance. Additionally, NumPy arrays are homogeneous, meaning all elements must be of the same data type, which contributes to their efficiency. In contrast, Python lists are more flexible and can hold heterogeneous data types, but this flexibility comes at the cost of speed and memory usage. NumPy arrays also offer a wide range of mathematical operations, support for broadcasting, and built-in functions for linear algebra, statistics, and other numerical tasks, which are either difficult or slow to perform with standard Python lists. Furthermore, while Python lists can handle multidimensional data through nested lists, NumPy provides built-in support for multi-dimensional arrays, making complex data manipulation far easier and more efficient."
      ],
      "metadata": {
        "id": "f8l7wFzdyc5x"
      }
    },
    {
      "cell_type": "markdown",
      "source": [
        "7. A What is a heatmap, and when should it be used?\n",
        "   - A heatmap is a data visualization technique that represents values in a matrix or 2D grid using color gradients. Each cell in the heatmap is colored based on its corresponding numerical value, making it easy to visually identify patterns, trends, or anomalies.\n",
        "\n",
        "When to Use a Heatmap:\n",
        "\n",
        "* To visualize correlations or relationships:- E.g., a correlation matrix showing relationships between variables in a dataset.\n",
        "\n",
        "* To detect patterns in large datasets:-E.g., time-series data across multiple sensors, activity across regions or users.\n",
        "\n",
        "* To highlight high and low values:-E.g., performance scores, heat intensity, or sales data by region.\n",
        "\n",
        "* For feature selection in machine learning:- Use a heatmap of correlation coefficients to identify redundant features."
      ],
      "metadata": {
        "id": "ompxt25Jy0xu"
      }
    },
    {
      "cell_type": "markdown",
      "source": [
        "8. What does the term “vectorized operation” mean in NumPy?\n",
        "   - In NumPy, a vectorized operation refers to performing operations on entire arrays (vectors, matrices, etc.) without using explicit loops in Python. Instead of iterating through elements one by one, NumPy applies the operation directly to the whole array using highly optimized C code behind the scenes."
      ],
      "metadata": {
        "id": "Da9r9YGKzfIU"
      }
    },
    {
      "cell_type": "markdown",
      "source": [
        "9. How does Matplotlib differ from Plotly?\n",
        "   - Matplotlib and Plotly are both popular Python libraries for data visualization but serve different purposes and offer distinct features. Matplotlib is primarily designed for creating static, publication-quality plots with extensive customization options, making it ideal for scientific and academic work where precise control over every element of the figure is needed. In contrast, Plotly focuses on interactive visualizations, providing built-in features like zooming, panning, and tooltips that enhance user engagement, which is especially useful for web applications and dashboards. While Matplotlib plots are generally static images that can be saved as files, Plotly visualizations are web-based and highly dynamic, allowing users to explore the data visually in real time. Matplotlib has a steeper learning curve due to its detailed customization syntax, whereas Plotly offers a more user-friendly interface with simpler code for creating visually appealing interactive charts. Ultimately, Matplotlib excels for detailed static visualizations, whereas Plotly shines when interactivity and ease of use are priorities."
      ],
      "metadata": {
        "id": "94rfBB5UztkN"
      }
    },
    {
      "cell_type": "markdown",
      "source": [
        "10. What is the significance of hierarchical indexing in Pandas?\n",
        "    - Significance of Hierarchical Indexing:\n",
        "Handles Complex Data Naturally\n",
        "It lets you organize data with multiple categorical variables or dimensions—like time series data across different regions and product categories—in a single DataFrame without flattening the structure.\n",
        "\n",
        " * Efficient Data Manipulation\n",
        "You can easily perform grouping, slicing, and aggregations across multiple levels, allowing powerful and flexible data analysis.\n",
        "\n",
        " * Improved Readability & Structure\n",
        "Keeps related data grouped logically and hierarchically, making it easier to understand relationships between different levels of data.\n",
        "\n",
        " * Compact Storage\n",
        "Instead of creating separate columns or DataFrames for each category, hierarchical indexing stores multi-dimensional data efficiently within one DataFrame.\n",
        "\n"
      ],
      "metadata": {
        "id": "LZ1C7Iml0G9D"
      }
    },
    {
      "cell_type": "markdown",
      "source": [
        "11. What is the role of Seaborn’s pairplot() function?\n",
        "    - Role of pairplot():\n",
        "\n",
        "      * Exploratory Data Analysis (EDA): Helps you quickly understand correlations, trends, and potential clusters among multiple variables.\n",
        "\n",
        "      * Visualize interactions: By plotting every variable against every other variable, it reveals patterns that might not be obvious when looking at variables individually.\n",
        "\n",
        "      * Identify outliers and distributions: The diagonal plots show variable distributions, aiding in spotting skewness or outliers.\n",
        "\n",
        "      * Easy grouping: You can specify a categorical variable to color points differently, helping visualize class separations or group differences.\n",
        "\n"
      ],
      "metadata": {
        "id": "TOMb5Lrh0a3f"
      }
    },
    {
      "cell_type": "markdown",
      "source": [
        "12. What is the purpose of the describe() function in Pandas?\n",
        "    - Purpose of describe():\n",
        "      \n",
        "       * Summarizes numerical data by default, including count, mean, standard deviation, minimum, maximum, and quartiles (25%, 50%, 75%).\n",
        "\n",
        "       * Can also summarize categorical data by showing counts, unique values, most frequent value (top), and frequency of the top value (freq) if you pass include=['object'] or include='all'.\n",
        "\n",
        "      * Helps in quick exploratory data analysis (EDA) to spot data quality issues like missing values or outliers.\n",
        "\n",
        "      * Provides a concise statistical snapshot without writing multiple commands."
      ],
      "metadata": {
        "id": "BpSYTJKA0xjm"
      }
    },
    {
      "cell_type": "markdown",
      "source": [
        "13. Why is handling missing data important in Pandas?\n",
        "    - Handling missing data in Pandas is crucial because missing or null values can significantly impact the accuracy, reliability, and performance of data analysis and machine learning models. If left unaddressed, missing data can lead to:\n",
        "\n",
        "      * Incorrect conclusions: Statistical measures like mean or correlation can be skewed.\n",
        "\n",
        "      * Errors or crashes: Some functions and algorithms can fail or raise exceptions when encountering missing values.\n",
        "\n",
        "      * Bias: Ignoring missing data might introduce bias if the missingness is systematic.\n",
        "\n",
        "      * Data integrity issues: Analyses based on incomplete data might not represent the true underlying patterns."
      ],
      "metadata": {
        "id": "hwISYy0g1O-u"
      }
    },
    {
      "cell_type": "markdown",
      "source": [
        "14. What are the benefits of using Plotly for data visualization?\n",
        "    - Plotly offers several key benefits for data visualization, making it a popular choice, especially for interactive and web-based analytics:\n",
        "\n",
        "      * Interactivity: Plotly visualizations are highly interactive by default, supporting zooming, panning, hovering tooltips, and clickable legends, which enhance data exploration and user engagement.\n",
        "\n",
        "      * Web-Ready Visuals: Since Plotly creates plots as HTML and JavaScript, its charts easily integrate into web applications, dashboards, and Jupyter notebooks without extra setup.\n",
        "\n",
        "      * Wide Range of Chart Types: Plotly supports many chart types—including scatter plots, line charts, bar charts, 3D plots, maps, and statistical charts—offering versatility for different use cases.\n",
        "\n",
        "      * Ease of Use: With high-level APIs like Plotly Express, users can create complex interactive plots with just a few lines of code, speeding up development.\n",
        "\n",
        "      * Cross-Language Support: Plotly works not only with Python but also with R, MATLAB, and JavaScript, allowing consistent visualization across different environments.\n",
        "\n",
        "      * Customization: Plotly provides extensive options to customize the appearance and behavior of plots, from colors and layouts to animations and annotations.\n",
        "\n",
        "      * Integration with Dash: Plotly integrates seamlessly with Dash, a Python framework for building interactive web apps, enabling rich data dashboards with minimal effort."
      ],
      "metadata": {
        "id": "d6yi-nXF1l5D"
      }
    },
    {
      "cell_type": "markdown",
      "source": [
        "15. How does NumPy handle multidimensional arrays?\n",
        "    - How NumPy manages multidimensional arrays:\n",
        "Shape and Dimensions: Each NumPy array has a shape attribute (a tuple) that defines the size along each dimension, and a ndim attribute indicating the number of dimensions (axes).\n",
        "\n",
        "    * Indexing and Slicing: You can access elements using multiple indices, one per dimension, allowing for easy extraction or modification of subarrays.\n",
        "\n",
        "    * Broadcasting: NumPy supports broadcasting rules that enable arithmetic operations between arrays of different shapes by automatically expanding dimensions as needed.\n",
        "\n",
        "    * Vectorized Operations: Operations apply element-wise across all dimensions without explicit loops.\n",
        "\n"
      ],
      "metadata": {
        "id": "OgWANvMN2kSN"
      }
    },
    {
      "cell_type": "markdown",
      "source": [
        "16. What is the role of Bokeh in data visualization?\n",
        "    - Key Roles of Bokeh in Data Visualization:\n",
        "  \n",
        "        * Interactive Visualizations: Bokeh excels at making plots interactive, allowing users to explore data dynamically within web browsers without needing to refresh or regenerate plots.\n",
        "\n",
        "        * Web Integration: It generates visualizations as HTML and JavaScript, which can be easily embedded into websites, dashboards, and web applications.\n",
        "\n",
        "        * Scalability: Bokeh supports large or streaming datasets efficiently, making it suitable for live data dashboards or complex analytical tools.\n",
        "\n",
        "        * Customizability: It offers fine-grained control over plot elements, layouts, widgets, and events, allowing developers to tailor visualizations to specific needs.\n",
        "\n",
        "        * Pythonic and Browser-Friendly: Users can create sophisticated interactive plots entirely in Python without writing JavaScript, but still produce browser-friendly outputs.\n",
        "\n",
        ""
      ],
      "metadata": {
        "id": "dG-W-FUx3EW8"
      }
    },
    {
      "cell_type": "markdown",
      "source": [
        "17. Explain the difference between apply() and map() in Pandas?\n",
        "    - map()\n",
        "       \n",
        "       * Primarily used on Series (one-dimensional data).\n",
        "       * Maps values of a Series according to an input correspondence (like a dictionary or function).\n",
        "       * Ideal for element-wise transformations or value substitutions.\n",
        "       * Returns a Series with the transformed values.\n",
        "       * Supports mapping with a dictionary, Series, or function.\n",
        "\n",
        "     apply()\n",
        "\n",
        "      * Can be used on both Series and DataFrames.\n",
        "      * Applies a function along an axis (e.g., to each element in a Series, or to rows/columns in a DataFrame).\n",
        "      * More flexible than map(), can handle more complex functions, including those that operate on multiple columns (for DataFrames).\n",
        "      * Useful for row-wise or column-wise operations in DataFrames.\n",
        "      * Returns a Series or DataFrame depending on the context and function."
      ],
      "metadata": {
        "id": "Dn8kwFHq4iKZ"
      }
    },
    {
      "cell_type": "markdown",
      "source": [
        "18. What are some advanced features of NumPy?\n",
        "    - NumPy is packed with advanced features that make it a powerhouse for scientific computing beyond basic array operations. Here are some of the standout advanced capabilities:\n",
        "\n",
        "      * Broadcasting: Enables arithmetic operations between arrays of different shapes by automatically expanding the smaller array along dimensions, allowing vectorized operations without explicit loops.\n",
        "\n",
        "      * Structured Arrays and Record Arrays: Support for heterogeneous data types within a single array, similar to database tables or spreadsheets, useful for handling complex datasets.\n",
        "\n",
        "      * Fancy Indexing and Boolean Masking: Allows selection, filtering, and modification of array elements using arrays of indices or boolean conditions, enabling powerful data manipulation.\n",
        "\n",
        "      * Memory Mapping: Load large binary data files on disk as arrays without reading the entire file into memory, useful for handling datasets that exceed RAM.\n",
        "\n",
        "      * Linear Algebra Functions: Comprehensive support for matrix operations, decompositions (SVD, QR), eigenvalues, and solving linear systems, optimized for performance.\n",
        "\n",
        "      * Random Number Generation: Sophisticated random sampling with customizable distributions, useful for simulations and probabilistic modeling.\n",
        "\n",
        "      * FFT (Fast Fourier Transform): Efficient computation of discrete Fourier transforms for signal processing and analysis.\n",
        "\n",
        "      * Universal Functions (ufuncs): Vectorized functions that operate element-wise on arrays, supporting broadcasting and type casting, and can be extended with custom ufuncs.\n",
        "\n",
        "      * Integration with C/C++/Fortran: Ability to interface with low-level languages for high-performance computing, including tools like Cython.\n",
        "\n",
        "      * Masked Arrays: Handling of arrays with missing or invalid data while maintaining array operations."
      ],
      "metadata": {
        "id": "2TRb2IZ15vFx"
      }
    },
    {
      "cell_type": "markdown",
      "source": [
        "19. How does Pandas simplify time series analysis?\n",
        "    - Pandas simplifies time series analysis by providing powerful, easy-to-use tools specifically designed to handle dates and times, making manipulation, indexing, and analysis of temporal data straightforward and efficient. Here’s how:\n",
        "\n",
        "      * DateTime Objects & Indexing: Pandas supports DatetimeIndex, Timestamp, and Period objects, allowing time-based indexing and slicing (e.g., selecting data for a specific date range) with intuitive syntax.\n",
        "\n",
        "      * Resampling: It offers built-in methods like .resample() to easily aggregate or downsample time series data to different frequencies (e.g., converting daily data to monthly averages).\n",
        "\n",
        "      * Time Shifts & Window Functions: Functions like .shift(), .rolling(), and .expanding() facilitate lagged calculations, moving averages, and cumulative statistics, which are common in time series analysis.\n",
        "\n",
        "      * Handling Missing Data & Time Zones: Pandas can handle missing timestamps, fill gaps, and manage time zones seamlessly, critical for real-world temporal datasets.\n",
        "\n",
        "      * Date Range Generation: Methods like date_range() help create sequences of dates for indexing or simulation.\n",
        "\n",
        "      * Frequency Conversion: You can easily convert between different time frequencies (e.g., daily to quarterly) without complex code."
      ],
      "metadata": {
        "id": "g6ARA63T6iIm"
      }
    },
    {
      "cell_type": "markdown",
      "source": [
        "20. What is the role of a pivot table in Pandas?\n",
        "    - Role of a Pivot Table in Pandas:\n",
        "     \n",
        "       * Data summarization: Condenses large datasets into meaningful summaries, showing aggregated values (e.g., total sales by region and product).\n",
        "\n",
        "       * Reshaping data: Converts long (tidy) data into a more readable matrix format, where rows and columns represent different categorical variables.\n",
        "\n",
        "       * Multi-dimensional analysis: Supports grouping by multiple fields simultaneously, allowing complex cross-tabulations.\n",
        "\n",
        "      * Easy aggregation: Automatically applies aggregation functions like sum, mean, count, min, max, etc., during the pivot.\n",
        "\n",
        "      * Exploratory data analysis: Helps quickly identify patterns, trends, and relationships in the data."
      ],
      "metadata": {
        "id": "BK829fLD7Bjq"
      }
    },
    {
      "cell_type": "markdown",
      "source": [
        "21. Why is NumPy’s array slicing faster than Python’s list slicing?\n",
        "    - NumPy’s array slicing is faster than Python’s list slicing mainly because of how the data is stored and accessed:\n",
        "\n",
        "      * Contiguous Memory Storage:\n",
        "      NumPy arrays store data in a continuous block of memory with a fixed data type. This allows slicing operations to create views on the original data without copying it, meaning they just adjust pointers to represent the slice. This reduces overhead and speeds up access.\n",
        "\n",
        "      * Homogeneous Data Types:\n",
        "      All elements in a NumPy array have the same type and size, so the slicing operation involves simple arithmetic on memory addresses, making it extremely efficient.\n",
        "\n",
        "      * No Python Object Overhead:\n",
        "      Python lists store references to objects scattered throughout memory, so slicing involves creating a new list with references copied from the original list, which takes more time and memory.\n",
        "\n",
        "      * Vectorized Operations:\n",
        "      NumPy is optimized for vectorized operations and low-level implementations (in C), making slicing and subsequent computations much faster.\n"
      ],
      "metadata": {
        "id": "YwOc4rtB7YiZ"
      }
    },
    {
      "cell_type": "markdown",
      "source": [
        "22. What are some common use cases for Seaborn?\n",
        "    - Seaborn is a Python data visualization library built on top of Matplotlib that specializes in statistical graphics. It provides high-level functions for creating attractive and informative plots with minimal code. Here are some common use cases for Seaborn:\n",
        "\n",
        " 1. Exploratory Data Analysis (EDA)\n",
        "Seaborn is widely used during EDA to quickly explore relationships, distributions, and patterns in data.\n",
        "pairplot(), heatmap(), and boxplot() are especially helpful in spotting correlations, outliers, or skewed distributions.\n",
        "\n",
        " 2. Visualizing Distributions\n",
        "Seaborn makes it easy to analyze the distribution of data.\n",
        "Use histplot(), kdeplot(), or distplot() (deprecated) to visualize histograms and kernel density estimates.\n",
        "\n",
        " 3. Categorical Data Visualization\n",
        "It's very effective for comparing groups or categories.\n",
        "Functions like boxplot(), violinplot(), stripplot(), and swarmplot() are great for examining categorical variables against numerical values.\n",
        "\n",
        " 4. Correlation Analysis\n",
        "Seaborn’s heatmap() is ideal for visualizing correlation matrices to understand relationships between variables.\n",
        "\n",
        " 5. Time Series and Trend Analysis\n",
        "While Seaborn isn't a full-fledged time series tool, it supports line plots (lineplot()) that can handle datetime objects and show trends over time.\n",
        "\n",
        " 6. Regression and Statistical Relationships\n",
        "Seaborn simplifies plotting and analyzing linear relationships between variables.\n",
        "regplot() and lmplot() show scatter plots with fitted regression lines and confidence intervals.\n",
        "\n",
        " 7. Multi-Variable Relationships\n",
        "Functions like pairplot() and FacetGrid() help explore interactions between multiple variables in a dataset.\n",
        "\n"
      ],
      "metadata": {
        "id": "P_WMcWF58Kto"
      }
    },
    {
      "cell_type": "markdown",
      "source": [
        "# practical questions"
      ],
      "metadata": {
        "id": "j2e5smCH84gB"
      }
    },
    {
      "cell_type": "markdown",
      "source": [
        "1.  How do you create a 2D NumPy array and calculate the sum of each row."
      ],
      "metadata": {
        "id": "zxCD8iOy9Ixz"
      }
    },
    {
      "cell_type": "code",
      "source": [
        "import numpy as np\n",
        "\n",
        "# Create a 2D NumPy array\n",
        "arr = np.array([\n",
        "    [1, 2, 3],\n",
        "    [4, 5, 6],\n",
        "    [7, 8, 9]\n",
        "])\n",
        "\n",
        "# Calculate the sum of each row\n",
        "row_sums = np.sum(arr, axis=1)\n",
        "\n",
        "print(\"2D Array:\\n\", arr)\n",
        "print(\"Sum of each row:\", row_sums)\n"
      ],
      "metadata": {
        "colab": {
          "base_uri": "https://localhost:8080/"
        },
        "id": "LcHdgPDK9NPS",
        "outputId": "f9be3d71-8aef-489f-e564-ea66598acb3c"
      },
      "execution_count": 2,
      "outputs": [
        {
          "output_type": "stream",
          "name": "stdout",
          "text": [
            "2D Array:\n",
            " [[1 2 3]\n",
            " [4 5 6]\n",
            " [7 8 9]]\n",
            "Sum of each row: [ 6 15 24]\n"
          ]
        }
      ]
    },
    {
      "cell_type": "markdown",
      "source": [
        "2. Write a Pandas script to find the mean of a specific column in a DataFrame."
      ],
      "metadata": {
        "id": "XW7QYQSG9afa"
      }
    },
    {
      "cell_type": "code",
      "source": [
        "import pandas as pd\n",
        "\n",
        "# Sample data\n",
        "data = {\n",
        "    'Name': ['Alice', 'Bob', 'Charlie', 'David'],\n",
        "    'Age': [25, 30, 35, 40],\n",
        "    'Score': [88, 92, 85, 90]\n",
        "}\n",
        "\n",
        "# Create DataFrame\n",
        "df = pd.DataFrame(data)\n",
        "\n",
        "# Calculate the mean of the 'Score' column\n",
        "mean_score = df['Score'].mean()\n",
        "\n",
        "print(\"Mean of 'Score' column:\", mean_score)\n"
      ],
      "metadata": {
        "colab": {
          "base_uri": "https://localhost:8080/"
        },
        "id": "gdWOjRvK9eiJ",
        "outputId": "fb45aa3d-070f-4085-9e4a-236f0bd35573"
      },
      "execution_count": 1,
      "outputs": [
        {
          "output_type": "stream",
          "name": "stdout",
          "text": [
            "Mean of 'Score' column: 88.75\n"
          ]
        }
      ]
    },
    {
      "cell_type": "markdown",
      "source": [
        "3.  Create a scatter plot using Matplotlib."
      ],
      "metadata": {
        "id": "QfyTmbOh9m9F"
      }
    },
    {
      "cell_type": "code",
      "source": [
        "import matplotlib.pyplot as plt\n",
        "\n",
        "# Sample data\n",
        "x = [10, 20, 30, 40, 50]\n",
        "y = [8, 15, 13, 25, 30]\n",
        "\n",
        "# Create scatter plot\n",
        "plt.scatter(x, y, color='blue', marker='o')\n",
        "\n",
        "# Add labels and title\n",
        "plt.xlabel('X-axis Label')\n",
        "plt.ylabel('Y-axis Label')\n",
        "plt.title('Simple Scatter Plot')\n",
        "\n",
        "# Show the plot\n",
        "plt.show()\n"
      ],
      "metadata": {
        "id": "kAhxkM5I9tIL"
      },
      "execution_count": null,
      "outputs": []
    },
    {
      "cell_type": "markdown",
      "source": [
        "4. How do you calculate the correlation matrix using Seaborn and visualize it with a heatmap.\n"
      ],
      "metadata": {
        "id": "czJCzbTlUOXZ"
      }
    },
    {
      "cell_type": "code",
      "source": [
        "import pandas as pd\n",
        "import seaborn as sns\n",
        "import matplotlib.pyplot as plt\n",
        "\n",
        "# Sample dataset\n",
        "data = {\n",
        "    'Math': [85, 90, 78, 92, 88],\n",
        "    'Science': [80, 85, 75, 95, 90],\n",
        "    'English': [78, 82, 74, 88, 84],\n",
        "    'History': [70, 75, 72, 85, 80]\n",
        "}\n",
        "\n",
        "# Create DataFrame\n",
        "df = pd.DataFrame(data)\n",
        "\n",
        "# Calculate correlation matrix\n",
        "corr_matrix = df.corr()\n",
        "\n",
        "# Plot heatmap\n",
        "plt.figure(figsize=(8, 6))\n",
        "sns.heatmap(corr_matrix, annot=True, cmap='coolwarm', linewidths=0.5)\n",
        "plt.title('Correlation Matrix Heatmap')\n",
        "plt.show()\n"
      ],
      "metadata": {
        "colab": {
          "base_uri": "https://localhost:8080/",
          "height": 545
        },
        "id": "BqbQMEwkUTE1",
        "outputId": "587e5152-acc6-4830-b814-e686dfd7d23c"
      },
      "execution_count": 1,
      "outputs": [
        {
          "output_type": "display_data",
          "data": {
            "text/plain": [
              "<Figure size 800x600 with 2 Axes>"
            ],
            "image/png": "[encoded data removed]"
          },
          "metadata": {}
        }
      ]
    },
    {
      "cell_type": "markdown",
      "source": [
        "5. Generate a bar plot using Plotly."
      ],
      "metadata": {
        "id": "EnECU1KrUbGn"
      }
    },
    {
      "cell_type": "code",
      "source": [
        "import plotly.express as px\n",
        "import pandas as pd\n",
        "\n",
        "# Sample data\n",
        "data = {\n",
        "    'Category': ['A', 'B', 'C', 'D'],\n",
        "    'Value': [23, 45, 12, 67]\n",
        "}\n",
        "\n",
        "df = pd.DataFrame(data)\n",
        "\n",
        "# Create bar plot\n",
        "fig = px.bar(df, x='Category', y='Value', title='Simple Bar Plot')\n",
        "\n",
        "# Show the plot\n",
        "fig.show()\n"
      ],
      "metadata": {
        "colab": {
          "base_uri": "https://localhost:8080/",
          "height": 542
        },
        "id": "pTx24tNuUfN-",
        "outputId": "6672e415-adb3-4b7e-830b-d44283b17f50"
      },
      "execution_count": 2,
      "outputs": [
        {
          "output_type": "display_data",
          "data": {
            "text/html": [
              "<html>\n",
              "<head><meta charset=\"utf-8\" /></head>\n",
              "<body>\n",
              "    <div>            <script src=\"https://cdnjs.cloudflare.com/ajax/libs/mathjax/2.7.5/MathJax.js?config=TeX-AMS-MML_SVG\"></script><script type=\"text/javascript\">if (window.MathJax && window.MathJax.Hub && window.MathJax.Hub.Config) {window.MathJax.Hub.Config({SVG: {font: \"STIX-Web\"}});}</script>                <script type=\"text/javascript\">window.PlotlyConfig = {MathJaxConfig: 'local'};</script>\n",
              "        <script charset=\"utf-8\" src=\"https://cdn.plot.ly/plotly-2.35.2.min.js\"></script>                <div id=\"b6a90d28-e2ed-44fe-bd95-c4086c55b94f\" class=\"plotly-graph-div\" style=\"height:525px; width:100%;\"></div>            <script type=\"text/javascript\">                                    window.PLOTLYENV=window.PLOTLYENV || {};                                    if (document.getElementById(\"b6a90d28-e2ed-44fe-bd95-c4086c55b94f\")) {                    Plotly.newPlot(                        \"b6a90d28-e2ed-44fe-bd95-c4086c55b94f\",                        [{\"alignmentgroup\":\"True\",\"hovertemplate\":\"Category=%{x}\\u003cbr\\u003eValue=%{y}\\u003cextra\\u003e\\u003c\\u002fextra\\u003e\",\"legendgroup\":\"\",\"marker\":{\"color\":\"#636efa\",\"pattern\":{\"shape\":\"\"}},\"name\":\"\",\"offsetgroup\":\"\",\"orientation\":\"v\",\"showlegend\":false,\"textposition\":\"auto\",\"x\":[\"A\",\"B\",\"C\",\"D\"],\"xaxis\":\"x\",\"y\":[23,45,12,67],\"yaxis\":\"y\",\"type\":\"bar\"}],                        {\"template\":{\"data\":{\"histogram2dcontour\":[{\"type\":\"histogram2dcontour\",\"colorbar\":{\"outlinewidth\":0,\"ticks\":\"\"},\"colorscale\":[[0.0,\"#0d0887\"],[0.1111111111111111,\"#46039f\"],[0.2222222222222222,\"#7201a8\"],[0.3333333333333333,\"#9c179e\"],[0.4444444444444444,\"#bd3786\"],[0.5555555555555556,\"#d8576b\"],[0.6666666666666666,\"#ed7953\"],[0.7777777777777778,\"#fb9f3a\"],[0.8888888888888888,\"#fdca26\"],[1.0,\"#f0f921\"]]}],\"choropleth\":[{\"type\":\"choropleth\",\"colorbar\":{\"outlinewidth\":0,\"ticks\":\"\"}}],\"histogram2d\":[{\"type\":\"histogram2d\",\"colorbar\":{\"outlinewidth\":0,\"ticks\":\"\"},\"colorscale\":[[0.0,\"#0d0887\"],[0.1111111111111111,\"#46039f\"],[0.2222222222222222,\"#7201a8\"],[0.3333333333333333,\"#9c179e\"],[0.4444444444444444,\"#bd3786\"],[0.5555555555555556,\"#d8576b\"],[0.6666666666666666,\"#ed7953\"],[0.7777777777777778,\"#fb9f3a\"],[0.8888888888888888,\"#fdca26\"],[1.0,\"#f0f921\"]]}],\"heatmap\":[{\"type\":\"heatmap\",\"colorbar\":{\"outlinewidth\":0,\"ticks\":\"\"},\"colorscale\":[[0.0,\"#0d0887\"],[0.1111111111111111,\"#46039f\"],[0.2222222222222222,\"#7201a8\"],[0.3333333333333333,\"#9c179e\"],[0.4444444444444444,\"#bd3786\"],[0.5555555555555556,\"#d8576b\"],[0.6666666666666666,\"#ed7953\"],[0.7777777777777778,\"#fb9f3a\"],[0.8888888888888888,\"#fdca26\"],[1.0,\"#f0f921\"]]}],\"heatmapgl\":[{\"type\":\"heatmapgl\",\"colorbar\":{\"outlinewidth\":0,\"ticks\":\"\"},\"colorscale\":[[0.0,\"#0d0887\"],[0.1111111111111111,\"#46039f\"],[0.2222222222222222,\"#7201a8\"],[0.3333333333333333,\"#9c179e\"],[0.4444444444444444,\"#bd3786\"],[0.5555555555555556,\"#d8576b\"],[0.6666666666666666,\"#ed7953\"],[0.7777777777777778,\"#fb9f3a\"],[0.8888888888888888,\"#fdca26\"],[1.0,\"#f0f921\"]]}],\"contourcarpet\":[{\"type\":\"contourcarpet\",\"colorbar\":{\"outlinewidth\":0,\"ticks\":\"\"}}],\"contour\":[{\"type\":\"contour\",\"colorbar\":{\"outlinewidth\":0,\"ticks\":\"\"},\"colorscale\":[[0.0,\"#0d0887\"],[0.1111111111111111,\"#46039f\"],[0.2222222222222222,\"#7201a8\"],[0.3333333333333333,\"#9c179e\"],[0.4444444444444444,\"#bd3786\"],[0.5555555555555556,\"#d8576b\"],[0.6666666666666666,\"#ed7953\"],[0.7777777777777778,\"#fb9f3a\"],[0.8888888888888888,\"#fdca26\"],[1.0,\"#f0f921\"]]}],\"surface\":[{\"type\":\"surface\",\"colorbar\":{\"outlinewidth\":0,\"ticks\":\"\"},\"colorscale\":[[0.0,\"#0d0887\"],[0.1111111111111111,\"#46039f\"],[0.2222222222222222,\"#7201a8\"],[0.3333333333333333,\"#9c179e\"],[0.4444444444444444,\"#bd3786\"],[0.5555555555555556,\"#d8576b\"],[0.6666666666666666,\"#ed7953\"],[0.7777777777777778,\"#fb9f3a\"],[0.8888888888888888,\"#fdca26\"],[1.0,\"#f0f921\"]]}],\"mesh3d\":[{\"type\":\"mesh3d\",\"colorbar\":{\"outlinewidth\":0,\"ticks\":\"\"}}],\"scatter\":[{\"fillpattern\":{\"fillmode\":\"overlay\",\"size\":10,\"solidity\":0.2},\"type\":\"scatter\"}],\"parcoords\":[{\"type\":\"parcoords\",\"line\":{\"colorbar\":{\"outlinewidth\":0,\"ticks\":\"\"}}}],\"scatterpolargl\":[{\"type\":\"scatterpolargl\",\"marker\":{\"colorbar\":{\"outlinewidth\":0,\"ticks\":\"\"}}}],\"bar\":[{\"error_x\":{\"color\":\"#2a3f5f\"},\"error_y\":{\"color\":\"#2a3f5f\"},\"marker\":{\"line\":{\"color\":\"#E5ECF6\",\"width\":0.5},\"pattern\":{\"fillmode\":\"overlay\",\"size\":10,\"solidity\":0.2}},\"type\":\"bar\"}],\"scattergeo\":[{\"type\":\"scattergeo\",\"marker\":{\"colorbar\":{\"outlinewidth\":0,\"ticks\":\"\"}}}],\"scatterpolar\":[{\"type\":\"scatterpolar\",\"marker\":{\"colorbar\":{\"outlinewidth\":0,\"ticks\":\"\"}}}],\"histogram\":[{\"marker\":{\"pattern\":{\"fillmode\":\"overlay\",\"size\":10,\"solidity\":0.2}},\"type\":\"histogram\"}],\"scattergl\":[{\"type\":\"scattergl\",\"marker\":{\"colorbar\":{\"outlinewidth\":0,\"ticks\":\"\"}}}],\"scatter3d\":[{\"type\":\"scatter3d\",\"line\":{\"colorbar\":{\"outlinewidth\":0,\"ticks\":\"\"}},\"marker\":{\"colorbar\":{\"outlinewidth\":0,\"ticks\":\"\"}}}],\"scattermapbox\":[{\"type\":\"scattermapbox\",\"marker\":{\"colorbar\":{\"outlinewidth\":0,\"ticks\":\"\"}}}],\"scatterternary\":[{\"type\":\"scatterternary\",\"marker\":{\"colorbar\":{\"outlinewidth\":0,\"ticks\":\"\"}}}],\"scattercarpet\":[{\"type\":\"scattercarpet\",\"marker\":{\"colorbar\":{\"outlinewidth\":0,\"ticks\":\"\"}}}],\"carpet\":[{\"aaxis\":{\"endlinecolor\":\"#2a3f5f\",\"gridcolor\":\"white\",\"linecolor\":\"white\",\"minorgridcolor\":\"white\",\"startlinecolor\":\"#2a3f5f\"},\"baxis\":{\"endlinecolor\":\"#2a3f5f\",\"gridcolor\":\"white\",\"linecolor\":\"white\",\"minorgridcolor\":\"white\",\"startlinecolor\":\"#2a3f5f\"},\"type\":\"carpet\"}],\"table\":[{\"cells\":{\"fill\":{\"color\":\"#EBF0F8\"},\"line\":{\"color\":\"white\"}},\"header\":{\"fill\":{\"color\":\"#C8D4E3\"},\"line\":{\"color\":\"white\"}},\"type\":\"table\"}],\"barpolar\":[{\"marker\":{\"line\":{\"color\":\"#E5ECF6\",\"width\":0.5},\"pattern\":{\"fillmode\":\"overlay\",\"size\":10,\"solidity\":0.2}},\"type\":\"barpolar\"}],\"pie\":[{\"automargin\":true,\"type\":\"pie\"}]},\"layout\":{\"autotypenumbers\":\"strict\",\"colorway\":[\"#636efa\",\"#EF553B\",\"#00cc96\",\"#ab63fa\",\"#FFA15A\",\"#19d3f3\",\"#FF6692\",\"#B6E880\",\"#FF97FF\",\"#FECB52\"],\"font\":{\"color\":\"#2a3f5f\"},\"hovermode\":\"closest\",\"hoverlabel\":{\"align\":\"left\"},\"paper_bgcolor\":\"white\",\"plot_bgcolor\":\"#E5ECF6\",\"polar\":{\"bgcolor\":\"#E5ECF6\",\"angularaxis\":{\"gridcolor\":\"white\",\"linecolor\":\"white\",\"ticks\":\"\"},\"radialaxis\":{\"gridcolor\":\"white\",\"linecolor\":\"white\",\"ticks\":\"\"}},\"ternary\":{\"bgcolor\":\"#E5ECF6\",\"aaxis\":{\"gridcolor\":\"white\",\"linecolor\":\"white\",\"ticks\":\"\"},\"baxis\":{\"gridcolor\":\"white\",\"linecolor\":\"white\",\"ticks\":\"\"},\"caxis\":{\"gridcolor\":\"white\",\"linecolor\":\"white\",\"ticks\":\"\"}},\"coloraxis\":{\"colorbar\":{\"outlinewidth\":0,\"ticks\":\"\"}},\"colorscale\":{\"sequential\":[[0.0,\"#0d0887\"],[0.1111111111111111,\"#46039f\"],[0.2222222222222222,\"#7201a8\"],[0.3333333333333333,\"#9c179e\"],[0.4444444444444444,\"#bd3786\"],[0.5555555555555556,\"#d8576b\"],[0.6666666666666666,\"#ed7953\"],[0.7777777777777778,\"#fb9f3a\"],[0.8888888888888888,\"#fdca26\"],[1.0,\"#f0f921\"]],\"sequentialminus\":[[0.0,\"#0d0887\"],[0.1111111111111111,\"#46039f\"],[0.2222222222222222,\"#7201a8\"],[0.3333333333333333,\"#9c179e\"],[0.4444444444444444,\"#bd3786\"],[0.5555555555555556,\"#d8576b\"],[0.6666666666666666,\"#ed7953\"],[0.7777777777777778,\"#fb9f3a\"],[0.8888888888888888,\"#fdca26\"],[1.0,\"#f0f921\"]],\"diverging\":[[0,\"#8e0152\"],[0.1,\"#c51b7d\"],[0.2,\"#de77ae\"],[0.3,\"#f1b6da\"],[0.4,\"#fde0ef\"],[0.5,\"#f7f7f7\"],[0.6,\"#e6f5d0\"],[0.7,\"#b8e186\"],[0.8,\"#7fbc41\"],[0.9,\"#4d9221\"],[1,\"#276419\"]]},\"xaxis\":{\"gridcolor\":\"white\",\"linecolor\":\"white\",\"ticks\":\"\",\"title\":{\"standoff\":15},\"zerolinecolor\":\"white\",\"automargin\":true,\"zerolinewidth\":2},\"yaxis\":{\"gridcolor\":\"white\",\"linecolor\":\"white\",\"ticks\":\"\",\"title\":{\"standoff\":15},\"zerolinecolor\":\"white\",\"automargin\":true,\"zerolinewidth\":2},\"scene\":{\"xaxis\":{\"backgroundcolor\":\"#E5ECF6\",\"gridcolor\":\"white\",\"linecolor\":\"white\",\"showbackground\":true,\"ticks\":\"\",\"zerolinecolor\":\"white\",\"gridwidth\":2},\"yaxis\":{\"backgroundcolor\":\"#E5ECF6\",\"gridcolor\":\"white\",\"linecolor\":\"white\",\"showbackground\":true,\"ticks\":\"\",\"zerolinecolor\":\"white\",\"gridwidth\":2},\"zaxis\":{\"backgroundcolor\":\"#E5ECF6\",\"gridcolor\":\"white\",\"linecolor\":\"white\",\"showbackground\":true,\"ticks\":\"\",\"zerolinecolor\":\"white\",\"gridwidth\":2}},\"shapedefaults\":{\"line\":{\"color\":\"#2a3f5f\"}},\"annotationdefaults\":{\"arrowcolor\":\"#2a3f5f\",\"arrowhead\":0,\"arrowwidth\":1},\"geo\":{\"bgcolor\":\"white\",\"landcolor\":\"#E5ECF6\",\"subunitcolor\":\"white\",\"showland\":true,\"showlakes\":true,\"lakecolor\":\"white\"},\"title\":{\"x\":0.05},\"mapbox\":{\"style\":\"light\"}}},\"xaxis\":{\"anchor\":\"y\",\"domain\":[0.0,1.0],\"title\":{\"text\":\"Category\"}},\"yaxis\":{\"anchor\":\"x\",\"domain\":[0.0,1.0],\"title\":{\"text\":\"Value\"}},\"legend\":{\"tracegroupgap\":0},\"title\":{\"text\":\"Simple Bar Plot\"},\"barmode\":\"relative\"},                        {\"responsive\": true}                    ).then(function(){\n",
              "                            \n",
              "var gd = document.getElementById('b6a90d28-e2ed-44fe-bd95-c4086c55b94f');\n",
              "var x = new MutationObserver(function (mutations, observer) {{\n",
              "        var display = window.getComputedStyle(gd).display;\n",
              "        if (!display || display === 'none') {{\n",
              "            console.log([gd, 'removed!']);\n",
              "            Plotly.purge(gd);\n",
              "            observer.disconnect();\n",
              "        }}\n",
              "}});\n",
              "\n",
              "// Listen for the removal of the full notebook cells\n",
              "var notebookContainer = gd.closest('#notebook-container');\n",
              "if (notebookContainer) {{\n",
              "    x.observe(notebookContainer, {childList: true});\n",
              "}}\n",
              "\n",
              "// Listen for the clearing of the current output cell\n",
              "var outputEl = gd.closest('.output');\n",
              "if (outputEl) {{\n",
              "    x.observe(outputEl, {childList: true});\n",
              "}}\n",
              "\n",
              "                        })                };                            </script>        </div>\n",
              "</body>\n",
              "</html>"
            ]
          },
          "metadata": {}
        }
      ]
    },
    {
      "cell_type": "markdown",
      "source": [
        "6. A Create a DataFrame and add a new column based on an existing column."
      ],
      "metadata": {
        "id": "9aKn5FeEUk4r"
      }
    },
    {
      "cell_type": "code",
      "source": [
        "import pandas as pd\n",
        "\n",
        "# Create a sample DataFrame\n",
        "data = {\n",
        "    'Name': ['Alice', 'Bob', 'Charlie', 'David'],\n",
        "    'Score': [85, 92, 78, 90]\n",
        "}\n",
        "\n",
        "df = pd.DataFrame(data)\n",
        "\n",
        "# Add a new column 'Passed' based on 'Score'\n",
        "df['Passed'] = df['Score'] >= 80\n",
        "\n",
        "# Show the DataFrame\n",
        "print(df)\n"
      ],
      "metadata": {
        "colab": {
          "base_uri": "https://localhost:8080/"
        },
        "id": "txLMSDxiUqds",
        "outputId": "8ca83139-ac9e-4f14-cee1-ee3617af55cc"
      },
      "execution_count": 3,
      "outputs": [
        {
          "output_type": "stream",
          "name": "stdout",
          "text": [
            "      Name  Score  Passed\n",
            "0    Alice     85    True\n",
            "1      Bob     92    True\n",
            "2  Charlie     78   False\n",
            "3    David     90    True\n"
          ]
        }
      ]
    },
    {
      "cell_type": "markdown",
      "source": [
        "7. Write a program to perform element-wise multiplication of two NumPy arrays."
      ],
      "metadata": {
        "id": "IhyrZmUrUwpA"
      }
    },
    {
      "cell_type": "code",
      "source": [
        "import numpy as np\n",
        "\n",
        "# Create two NumPy arrays\n",
        "array1 = np.array([1, 2, 3, 4])\n",
        "array2 = np.array([5, 6, 7, 8])\n",
        "\n",
        "# Perform element-wise multiplication\n",
        "result = array1 * array2\n",
        "\n",
        "# Print the result\n",
        "print(\"Array 1:\", array1)\n",
        "print(\"Array 2:\", array2)\n",
        "print(\"Element-wise Multiplication:\", result)\n"
      ],
      "metadata": {
        "colab": {
          "base_uri": "https://localhost:8080/"
        },
        "id": "EO70Om3NU0WD",
        "outputId": "47a9edbc-0914-4d92-d558-6319aecc9f1e"
      },
      "execution_count": 4,
      "outputs": [
        {
          "output_type": "stream",
          "name": "stdout",
          "text": [
            "Array 1: [1 2 3 4]\n",
            "Array 2: [5 6 7 8]\n",
            "Element-wise Multiplication: [ 5 12 21 32]\n"
          ]
        }
      ]
    },
    {
      "cell_type": "markdown",
      "source": [
        "8. A Create a line plot with multiple lines using Matplotlib."
      ],
      "metadata": {
        "id": "1VwRJdqoU6yM"
      }
    },
    {
      "cell_type": "code",
      "source": [
        "import matplotlib.pyplot as plt\n",
        "\n",
        "# Sample data\n",
        "x = [1, 2, 3, 4, 5]\n",
        "y1 = [2, 4, 6, 8, 10]\n",
        "y2 = [1, 3, 5, 7, 9]\n",
        "y3 = [5, 3, 4, 2, 1]\n",
        "\n",
        "# Create the plot\n",
        "plt.plot(x, y1, label='Line 1', color='blue', marker='o')\n",
        "plt.plot(x, y2, label='Line 2', color='green', linestyle='--')\n",
        "plt.plot(x, y3, label='Line 3', color='red', linestyle=':')\n",
        "\n",
        "# Add labels and title\n",
        "plt.xlabel('X-axis')\n",
        "plt.ylabel('Y-axis')\n",
        "plt.title('Line Plot with Multiple Lines')\n",
        "\n",
        "# Add legend\n",
        "plt.legend()\n",
        "\n",
        "# Show plot\n",
        "plt.grid(True)\n",
        "plt.show()\n"
      ],
      "metadata": {
        "colab": {
          "base_uri": "https://localhost:8080/",
          "height": 472
        },
        "id": "MFGZwcYKU-Tv",
        "outputId": "3cab681f-2ae9-4b3a-fc6b-7268fc5edb54"
      },
      "execution_count": 5,
      "outputs": [
        {
          "output_type": "display_data",
          "data": {
            "text/plain": [
              "<Figure size 640x480 with 1 Axes>"
            ],
            "image/png": "[encoded data removed]"
          },
          "metadata": {}
        }
      ]
    },
    {
      "cell_type": "markdown",
      "source": [
        "9. Generate a Pandas DataFrame and filter rows where a column value is greater than a threshold."
      ],
      "metadata": {
        "id": "ZRW0Cyd5VGmN"
      }
    },
    {
      "cell_type": "code",
      "source": [
        "import pandas as pd\n",
        "\n",
        "# Create sample DataFrame\n",
        "data = {\n",
        "    'Name': ['Alice', 'Bob', 'Charlie', 'David', 'Eva'],\n",
        "    'Score': [85, 72, 90, 65, 88]\n",
        "}\n",
        "\n",
        "df = pd.DataFrame(data)\n",
        "\n",
        "# Define threshold\n",
        "threshold = 80\n",
        "\n",
        "# Filter rows where 'Score' > threshold\n",
        "filtered_df = df[df['Score'] > threshold]\n",
        "\n",
        "# Display result\n",
        "print(\"Original DataFrame:\\n\", df)\n",
        "print(\"\\nFiltered DataFrame (Score > 80):\\n\", filtered_df)\n"
      ],
      "metadata": {
        "colab": {
          "base_uri": "https://localhost:8080/"
        },
        "id": "H_DK8zGNVRX-",
        "outputId": "e2bb4c7b-ad59-4823-f14a-bdf031e80d24"
      },
      "execution_count": 6,
      "outputs": [
        {
          "output_type": "stream",
          "name": "stdout",
          "text": [
            "Original DataFrame:\n",
            "       Name  Score\n",
            "0    Alice     85\n",
            "1      Bob     72\n",
            "2  Charlie     90\n",
            "3    David     65\n",
            "4      Eva     88\n",
            "\n",
            "Filtered DataFrame (Score > 80):\n",
            "       Name  Score\n",
            "0    Alice     85\n",
            "2  Charlie     90\n",
            "4      Eva     88\n"
          ]
        }
      ]
    },
    {
      "cell_type": "markdown",
      "source": [
        "10. Create a histogram using Seaborn to visualize a distribution"
      ],
      "metadata": {
        "id": "uxCDEJPSVZjy"
      }
    },
    {
      "cell_type": "code",
      "source": [
        "import seaborn as sns\n",
        "import matplotlib.pyplot as plt\n",
        "\n",
        "# Sample data\n",
        "data = [12, 15, 14, 10, 18, 20, 22, 19, 15, 17, 16, 14, 13, 18, 21]\n",
        "\n",
        "# Create histogram\n",
        "sns.histplot(data, bins=6, kde=True, color='skyblue')\n",
        "\n",
        "# Add title and labels\n",
        "plt.title('Histogram with KDE')\n",
        "plt.xlabel('Value')\n",
        "plt.ylabel('Frequency')\n",
        "\n",
        "# Show plot\n",
        "plt.show()\n"
      ],
      "metadata": {
        "colab": {
          "base_uri": "https://localhost:8080/",
          "height": 472
        },
        "id": "KaD_eYZ3VeqF",
        "outputId": "d9d2a4ae-8ea9-4cf0-80cb-e8c076589b76"
      },
      "execution_count": 7,
      "outputs": [
        {
          "output_type": "display_data",
          "data": {
            "text/plain": [
              "<Figure size 640x480 with 1 Axes>"
            ],
            "image/png": "[encoded data removed]"
          },
          "metadata": {}
        }
      ]
    },
    {
      "cell_type": "markdown",
      "source": [
        "11. Perform matrix multiplication using NumPy."
      ],
      "metadata": {
        "id": "07ueG53xVllV"
      }
    },
    {
      "cell_type": "code",
      "source": [
        "import numpy as np\n",
        "\n",
        "# Define two 2D arrays (matrices)\n",
        "A = np.array([[1, 2],\n",
        "              [3, 4]])\n",
        "\n",
        "B = np.array([[5, 6],\n",
        "              [7, 8]])\n",
        "\n",
        "# Perform matrix multiplication\n",
        "result = np.matmul(A, B)\n",
        "\n",
        "# Alternatively, you can use the @ operator:\n",
        "# result = A @ B\n",
        "\n",
        "print(\"Matrix A:\\n\", A)\n",
        "print(\"Matrix B:\\n\", B)\n",
        "print(\"Matrix multiplication result:\\n\", result)\n"
      ],
      "metadata": {
        "colab": {
          "base_uri": "https://localhost:8080/"
        },
        "id": "jPmQF7V2VpDx",
        "outputId": "312aaebd-d665-4233-897a-4c19919f7a27"
      },
      "execution_count": 8,
      "outputs": [
        {
          "output_type": "stream",
          "name": "stdout",
          "text": [
            "Matrix A:\n",
            " [[1 2]\n",
            " [3 4]]\n",
            "Matrix B:\n",
            " [[5 6]\n",
            " [7 8]]\n",
            "Matrix multiplication result:\n",
            " [[19 22]\n",
            " [43 50]]\n"
          ]
        }
      ]
    },
    {
      "cell_type": "markdown",
      "source": [
        "12.  Use Pandas to load a CSV file and display its first 5 rows."
      ],
      "metadata": {
        "id": "5ilJqapeVuMQ"
      }
    },
    {
      "cell_type": "code",
      "source": [
        "import pandas as pd\n",
        "\n",
        "# Load CSV file into a DataFrame\n",
        "df = pd.read_csv('your_file.csv')\n",
        "\n",
        "# Display the first 5 rows\n",
        "print(df.head())\n"
      ],
      "metadata": {
        "id": "vlC_J8nKVz4x"
      },
      "execution_count": null,
      "outputs": []
    },
    {
      "cell_type": "markdown",
      "source": [
        "13. Create a 3D scatter plot using Plotly."
      ],
      "metadata": {
        "id": "vHlV54vOV9LN"
      }
    },
    {
      "cell_type": "code",
      "source": [
        "import plotly.express as px\n",
        "import pandas as pd\n",
        "\n",
        "# Sample data\n",
        "data = {\n",
        "    'x': [1, 2, 3, 4, 5],\n",
        "    'y': [10, 11, 12, 13, 14],\n",
        "    'z': [5, 6, 7, 8, 9],\n",
        "    'category': ['A', 'B', 'A', 'B', 'A']\n",
        "}\n",
        "\n",
        "df = pd.DataFrame(data)\n",
        "\n",
        "# Create 3D scatter plot\n",
        "fig = px.scatter_3d(df, x='x', y='y', z='z', color='category', size='x',\n",
        "                    title='3D Scatter Plot Example')\n",
        "\n",
        "# Show plot\n",
        "fig.show()\n"
      ],
      "metadata": {
        "colab": {
          "base_uri": "https://localhost:8080/",
          "height": 542
        },
        "id": "3HT9IKQsWA2i",
        "outputId": "06ef0ba7-5de0-480c-aefa-5718a5353615"
      },
      "execution_count": 12,
      "outputs": [
        {
          "output_type": "display_data",
          "data": {
            "text/html": [
              "<html>\n",
              "<head><meta charset=\"utf-8\" /></head>\n",
              "<body>\n",
              "    <div>            <script src=\"https://cdnjs.cloudflare.com/ajax/libs/mathjax/2.7.5/MathJax.js?config=TeX-AMS-MML_SVG\"></script><script type=\"text/javascript\">if (window.MathJax && window.MathJax.Hub && window.MathJax.Hub.Config) {window.MathJax.Hub.Config({SVG: {font: \"STIX-Web\"}});}</script>                <script type=\"text/javascript\">window.PlotlyConfig = {MathJaxConfig: 'local'};</script>\n",
              "        <script charset=\"utf-8\" src=\"https://cdn.plot.ly/plotly-2.35.2.min.js\"></script>                <div id=\"2de48032-9478-4b4a-b198-bf8ba015e627\" class=\"plotly-graph-div\" style=\"height:525px; width:100%;\"></div>            <script type=\"text/javascript\">                                    window.PLOTLYENV=window.PLOTLYENV || {};                                    if (document.getElementById(\"2de48032-9478-4b4a-b198-bf8ba015e627\")) {                    Plotly.newPlot(                        \"2de48032-9478-4b4a-b198-bf8ba015e627\",                        [{\"hovertemplate\":\"category=A\\u003cbr\\u003ex=%{marker.size}\\u003cbr\\u003ey=%{y}\\u003cbr\\u003ez=%{z}\\u003cextra\\u003e\\u003c\\u002fextra\\u003e\",\"legendgroup\":\"A\",\"marker\":{\"color\":\"#636efa\",\"size\":[1,3,5],\"sizemode\":\"area\",\"sizeref\":0.0125,\"symbol\":\"circle\"},\"mode\":\"markers\",\"name\":\"A\",\"scene\":\"scene\",\"showlegend\":true,\"x\":[1,3,5],\"y\":[10,12,14],\"z\":[5,7,9],\"type\":\"scatter3d\"},{\"hovertemplate\":\"category=B\\u003cbr\\u003ex=%{marker.size}\\u003cbr\\u003ey=%{y}\\u003cbr\\u003ez=%{z}\\u003cextra\\u003e\\u003c\\u002fextra\\u003e\",\"legendgroup\":\"B\",\"marker\":{\"color\":\"#EF553B\",\"size\":[2,4],\"sizemode\":\"area\",\"sizeref\":0.0125,\"symbol\":\"circle\"},\"mode\":\"markers\",\"name\":\"B\",\"scene\":\"scene\",\"showlegend\":true,\"x\":[2,4],\"y\":[11,13],\"z\":[6,8],\"type\":\"scatter3d\"}],                        {\"template\":{\"data\":{\"histogram2dcontour\":[{\"type\":\"histogram2dcontour\",\"colorbar\":{\"outlinewidth\":0,\"ticks\":\"\"},\"colorscale\":[[0.0,\"#0d0887\"],[0.1111111111111111,\"#46039f\"],[0.2222222222222222,\"#7201a8\"],[0.3333333333333333,\"#9c179e\"],[0.4444444444444444,\"#bd3786\"],[0.5555555555555556,\"#d8576b\"],[0.6666666666666666,\"#ed7953\"],[0.7777777777777778,\"#fb9f3a\"],[0.8888888888888888,\"#fdca26\"],[1.0,\"#f0f921\"]]}],\"choropleth\":[{\"type\":\"choropleth\",\"colorbar\":{\"outlinewidth\":0,\"ticks\":\"\"}}],\"histogram2d\":[{\"type\":\"histogram2d\",\"colorbar\":{\"outlinewidth\":0,\"ticks\":\"\"},\"colorscale\":[[0.0,\"#0d0887\"],[0.1111111111111111,\"#46039f\"],[0.2222222222222222,\"#7201a8\"],[0.3333333333333333,\"#9c179e\"],[0.4444444444444444,\"#bd3786\"],[0.5555555555555556,\"#d8576b\"],[0.6666666666666666,\"#ed7953\"],[0.7777777777777778,\"#fb9f3a\"],[0.8888888888888888,\"#fdca26\"],[1.0,\"#f0f921\"]]}],\"heatmap\":[{\"type\":\"heatmap\",\"colorbar\":{\"outlinewidth\":0,\"ticks\":\"\"},\"colorscale\":[[0.0,\"#0d0887\"],[0.1111111111111111,\"#46039f\"],[0.2222222222222222,\"#7201a8\"],[0.3333333333333333,\"#9c179e\"],[0.4444444444444444,\"#bd3786\"],[0.5555555555555556,\"#d8576b\"],[0.6666666666666666,\"#ed7953\"],[0.7777777777777778,\"#fb9f3a\"],[0.8888888888888888,\"#fdca26\"],[1.0,\"#f0f921\"]]}],\"heatmapgl\":[{\"type\":\"heatmapgl\",\"colorbar\":{\"outlinewidth\":0,\"ticks\":\"\"},\"colorscale\":[[0.0,\"#0d0887\"],[0.1111111111111111,\"#46039f\"],[0.2222222222222222,\"#7201a8\"],[0.3333333333333333,\"#9c179e\"],[0.4444444444444444,\"#bd3786\"],[0.5555555555555556,\"#d8576b\"],[0.6666666666666666,\"#ed7953\"],[0.7777777777777778,\"#fb9f3a\"],[0.8888888888888888,\"#fdca26\"],[1.0,\"#f0f921\"]]}],\"contourcarpet\":[{\"type\":\"contourcarpet\",\"colorbar\":{\"outlinewidth\":0,\"ticks\":\"\"}}],\"contour\":[{\"type\":\"contour\",\"colorbar\":{\"outlinewidth\":0,\"ticks\":\"\"},\"colorscale\":[[0.0,\"#0d0887\"],[0.1111111111111111,\"#46039f\"],[0.2222222222222222,\"#7201a8\"],[0.3333333333333333,\"#9c179e\"],[0.4444444444444444,\"#bd3786\"],[0.5555555555555556,\"#d8576b\"],[0.6666666666666666,\"#ed7953\"],[0.7777777777777778,\"#fb9f3a\"],[0.8888888888888888,\"#fdca26\"],[1.0,\"#f0f921\"]]}],\"surface\":[{\"type\":\"surface\",\"colorbar\":{\"outlinewidth\":0,\"ticks\":\"\"},\"colorscale\":[[0.0,\"#0d0887\"],[0.1111111111111111,\"#46039f\"],[0.2222222222222222,\"#7201a8\"],[0.3333333333333333,\"#9c179e\"],[0.4444444444444444,\"#bd3786\"],[0.5555555555555556,\"#d8576b\"],[0.6666666666666666,\"#ed7953\"],[0.7777777777777778,\"#fb9f3a\"],[0.8888888888888888,\"#fdca26\"],[1.0,\"#f0f921\"]]}],\"mesh3d\":[{\"type\":\"mesh3d\",\"colorbar\":{\"outlinewidth\":0,\"ticks\":\"\"}}],\"scatter\":[{\"fillpattern\":{\"fillmode\":\"overlay\",\"size\":10,\"solidity\":0.2},\"type\":\"scatter\"}],\"parcoords\":[{\"type\":\"parcoords\",\"line\":{\"colorbar\":{\"outlinewidth\":0,\"ticks\":\"\"}}}],\"scatterpolargl\":[{\"type\":\"scatterpolargl\",\"marker\":{\"colorbar\":{\"outlinewidth\":0,\"ticks\":\"\"}}}],\"bar\":[{\"error_x\":{\"color\":\"#2a3f5f\"},\"error_y\":{\"color\":\"#2a3f5f\"},\"marker\":{\"line\":{\"color\":\"#E5ECF6\",\"width\":0.5},\"pattern\":{\"fillmode\":\"overlay\",\"size\":10,\"solidity\":0.2}},\"type\":\"bar\"}],\"scattergeo\":[{\"type\":\"scattergeo\",\"marker\":{\"colorbar\":{\"outlinewidth\":0,\"ticks\":\"\"}}}],\"scatterpolar\":[{\"type\":\"scatterpolar\",\"marker\":{\"colorbar\":{\"outlinewidth\":0,\"ticks\":\"\"}}}],\"histogram\":[{\"marker\":{\"pattern\":{\"fillmode\":\"overlay\",\"size\":10,\"solidity\":0.2}},\"type\":\"histogram\"}],\"scattergl\":[{\"type\":\"scattergl\",\"marker\":{\"colorbar\":{\"outlinewidth\":0,\"ticks\":\"\"}}}],\"scatter3d\":[{\"type\":\"scatter3d\",\"line\":{\"colorbar\":{\"outlinewidth\":0,\"ticks\":\"\"}},\"marker\":{\"colorbar\":{\"outlinewidth\":0,\"ticks\":\"\"}}}],\"scattermapbox\":[{\"type\":\"scattermapbox\",\"marker\":{\"colorbar\":{\"outlinewidth\":0,\"ticks\":\"\"}}}],\"scatterternary\":[{\"type\":\"scatterternary\",\"marker\":{\"colorbar\":{\"outlinewidth\":0,\"ticks\":\"\"}}}],\"scattercarpet\":[{\"type\":\"scattercarpet\",\"marker\":{\"colorbar\":{\"outlinewidth\":0,\"ticks\":\"\"}}}],\"carpet\":[{\"aaxis\":{\"endlinecolor\":\"#2a3f5f\",\"gridcolor\":\"white\",\"linecolor\":\"white\",\"minorgridcolor\":\"white\",\"startlinecolor\":\"#2a3f5f\"},\"baxis\":{\"endlinecolor\":\"#2a3f5f\",\"gridcolor\":\"white\",\"linecolor\":\"white\",\"minorgridcolor\":\"white\",\"startlinecolor\":\"#2a3f5f\"},\"type\":\"carpet\"}],\"table\":[{\"cells\":{\"fill\":{\"color\":\"#EBF0F8\"},\"line\":{\"color\":\"white\"}},\"header\":{\"fill\":{\"color\":\"#C8D4E3\"},\"line\":{\"color\":\"white\"}},\"type\":\"table\"}],\"barpolar\":[{\"marker\":{\"line\":{\"color\":\"#E5ECF6\",\"width\":0.5},\"pattern\":{\"fillmode\":\"overlay\",\"size\":10,\"solidity\":0.2}},\"type\":\"barpolar\"}],\"pie\":[{\"automargin\":true,\"type\":\"pie\"}]},\"layout\":{\"autotypenumbers\":\"strict\",\"colorway\":[\"#636efa\",\"#EF553B\",\"#00cc96\",\"#ab63fa\",\"#FFA15A\",\"#19d3f3\",\"#FF6692\",\"#B6E880\",\"#FF97FF\",\"#FECB52\"],\"font\":{\"color\":\"#2a3f5f\"},\"hovermode\":\"closest\",\"hoverlabel\":{\"align\":\"left\"},\"paper_bgcolor\":\"white\",\"plot_bgcolor\":\"#E5ECF6\",\"polar\":{\"bgcolor\":\"#E5ECF6\",\"angularaxis\":{\"gridcolor\":\"white\",\"linecolor\":\"white\",\"ticks\":\"\"},\"radialaxis\":{\"gridcolor\":\"white\",\"linecolor\":\"white\",\"ticks\":\"\"}},\"ternary\":{\"bgcolor\":\"#E5ECF6\",\"aaxis\":{\"gridcolor\":\"white\",\"linecolor\":\"white\",\"ticks\":\"\"},\"baxis\":{\"gridcolor\":\"white\",\"linecolor\":\"white\",\"ticks\":\"\"},\"caxis\":{\"gridcolor\":\"white\",\"linecolor\":\"white\",\"ticks\":\"\"}},\"coloraxis\":{\"colorbar\":{\"outlinewidth\":0,\"ticks\":\"\"}},\"colorscale\":{\"sequential\":[[0.0,\"#0d0887\"],[0.1111111111111111,\"#46039f\"],[0.2222222222222222,\"#7201a8\"],[0.3333333333333333,\"#9c179e\"],[0.4444444444444444,\"#bd3786\"],[0.5555555555555556,\"#d8576b\"],[0.6666666666666666,\"#ed7953\"],[0.7777777777777778,\"#fb9f3a\"],[0.8888888888888888,\"#fdca26\"],[1.0,\"#f0f921\"]],\"sequentialminus\":[[0.0,\"#0d0887\"],[0.1111111111111111,\"#46039f\"],[0.2222222222222222,\"#7201a8\"],[0.3333333333333333,\"#9c179e\"],[0.4444444444444444,\"#bd3786\"],[0.5555555555555556,\"#d8576b\"],[0.6666666666666666,\"#ed7953\"],[0.7777777777777778,\"#fb9f3a\"],[0.8888888888888888,\"#fdca26\"],[1.0,\"#f0f921\"]],\"diverging\":[[0,\"#8e0152\"],[0.1,\"#c51b7d\"],[0.2,\"#de77ae\"],[0.3,\"#f1b6da\"],[0.4,\"#fde0ef\"],[0.5,\"#f7f7f7\"],[0.6,\"#e6f5d0\"],[0.7,\"#b8e186\"],[0.8,\"#7fbc41\"],[0.9,\"#4d9221\"],[1,\"#276419\"]]},\"xaxis\":{\"gridcolor\":\"white\",\"linecolor\":\"white\",\"ticks\":\"\",\"title\":{\"standoff\":15},\"zerolinecolor\":\"white\",\"automargin\":true,\"zerolinewidth\":2},\"yaxis\":{\"gridcolor\":\"white\",\"linecolor\":\"white\",\"ticks\":\"\",\"title\":{\"standoff\":15},\"zerolinecolor\":\"white\",\"automargin\":true,\"zerolinewidth\":2},\"scene\":{\"xaxis\":{\"backgroundcolor\":\"#E5ECF6\",\"gridcolor\":\"white\",\"linecolor\":\"white\",\"showbackground\":true,\"ticks\":\"\",\"zerolinecolor\":\"white\",\"gridwidth\":2},\"yaxis\":{\"backgroundcolor\":\"#E5ECF6\",\"gridcolor\":\"white\",\"linecolor\":\"white\",\"showbackground\":true,\"ticks\":\"\",\"zerolinecolor\":\"white\",\"gridwidth\":2},\"zaxis\":{\"backgroundcolor\":\"#E5ECF6\",\"gridcolor\":\"white\",\"linecolor\":\"white\",\"showbackground\":true,\"ticks\":\"\",\"zerolinecolor\":\"white\",\"gridwidth\":2}},\"shapedefaults\":{\"line\":{\"color\":\"#2a3f5f\"}},\"annotationdefaults\":{\"arrowcolor\":\"#2a3f5f\",\"arrowhead\":0,\"arrowwidth\":1},\"geo\":{\"bgcolor\":\"white\",\"landcolor\":\"#E5ECF6\",\"subunitcolor\":\"white\",\"showland\":true,\"showlakes\":true,\"lakecolor\":\"white\"},\"title\":{\"x\":0.05},\"mapbox\":{\"style\":\"light\"}}},\"scene\":{\"domain\":{\"x\":[0.0,1.0],\"y\":[0.0,1.0]},\"xaxis\":{\"title\":{\"text\":\"x\"}},\"yaxis\":{\"title\":{\"text\":\"y\"}},\"zaxis\":{\"title\":{\"text\":\"z\"}}},\"legend\":{\"title\":{\"text\":\"category\"},\"tracegroupgap\":0,\"itemsizing\":\"constant\"},\"title\":{\"text\":\"3D Scatter Plot Example\"}},                        {\"responsive\": true}                    ).then(function(){\n",
              "                            \n",
              "var gd = document.getElementById('2de48032-9478-4b4a-b198-bf8ba015e627');\n",
              "var x = new MutationObserver(function (mutations, observer) {{\n",
              "        var display = window.getComputedStyle(gd).display;\n",
              "        if (!display || display === 'none') {{\n",
              "            console.log([gd, 'removed!']);\n",
              "            Plotly.purge(gd);\n",
              "            observer.disconnect();\n",
              "        }}\n",
              "}});\n",
              "\n",
              "// Listen for the removal of the full notebook cells\n",
              "var notebookContainer = gd.closest('#notebook-container');\n",
              "if (notebookContainer) {{\n",
              "    x.observe(notebookContainer, {childList: true});\n",
              "}}\n",
              "\n",
              "// Listen for the clearing of the current output cell\n",
              "var outputEl = gd.closest('.output');\n",
              "if (outputEl) {{\n",
              "    x.observe(outputEl, {childList: true});\n",
              "}}\n",
              "\n",
              "                        })                };                            </script>        </div>\n",
              "</body>\n",
              "</html>"
            ]
          },
          "metadata": {}
        }
      ]
    }
  ]
}