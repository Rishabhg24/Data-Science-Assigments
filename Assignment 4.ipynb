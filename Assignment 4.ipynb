{
  "nbformat": 4,
  "nbformat_minor": 0,
  "metadata": {
    "colab": {
      "provenance": []
    },
    "kernelspec": {
      "name": "python3",
      "display_name": "Python 3"
    },
    "language_info": {
      "name": "python"
    }
  },
  "cells": [
    {
      "cell_type": "markdown",
      "source": [
        "#Theory Questions"
      ],
      "metadata": {
        "id": "Let5k7EDFHi2"
      }
    },
    {
      "cell_type": "markdown",
      "source": [
        "1. What is Object-Oriented Programming (OOP)?\n",
        "   - Object-Oriented Programming (OOP) is a programming paradigm centered around the concept of \"objects\". These objects are instances of classes, which are user-defined data types that contain both data (attributes) and functions (methods).\n",
        "   Key Features of OOP:\n",
        "    * Class\n",
        "    * Object\n",
        "    * Encapsulation\n",
        "    * Abstraction\n",
        "    * Inheritance\n",
        "    * Polymorphism"
      ],
      "metadata": {
        "id": "JIR7yQKEGyqq"
      }
    },
    {
      "cell_type": "markdown",
      "source": [
        "2. What is a class in OOP+\n",
        "   - A class in OOP is a blueprint or template for creating objects. It defines the structure (attributes) and behavior (methods) that the objects created from the class will have."
      ],
      "metadata": {
        "id": "2ZdTseV5Hi2z"
      }
    },
    {
      "cell_type": "markdown",
      "source": [
        "3. What is an object in OOP?\n",
        "   - An object is a real-world instance of a class. It represents an actual \"thing\" created using the blueprint defined by the class."
      ],
      "metadata": {
        "id": "1aoY_3tHHwFN"
      }
    },
    {
      "cell_type": "markdown",
      "source": [
        "4.  What is the difference between abstraction and encapsulation?\n",
        "    - Abstraction = Hide details, show only what matters.Abstraction is the OOP concept of hiding unnecessary details and showing only the essential features of an object.\n",
        "    \n",
        "     Encapsulation = Protect data, allow safe access.Encapsulation is one of the fundamental principles of Object-Oriented Programming (OOP). It refers to bundling the data (attributes) and the methods (functions) that operate on that data into a single unit (a class) — and restricting direct access to some of an object's components."
      ],
      "metadata": {
        "id": "t3wS_aItH6ek"
      }
    },
    {
      "cell_type": "markdown",
      "source": [
        "5. What are dunder methods in Python?\n",
        "   - Dunder methods (short for \"double underscore methods\") are special, built-in methods in Python that have double underscores at the beginning and end of their names — like __init__, __str__, __add__, etc."
      ],
      "metadata": {
        "id": "ouQBlan4JQN3"
      }
    },
    {
      "cell_type": "markdown",
      "source": [
        "6. Explain the concept of inheritance in OOP?\n",
        "   - Inheritance is a core concept in OOP that allows a class (child or subclass) to inherit properties and behaviors (attributes and methods) from another class (parent or superclass)."
      ],
      "metadata": {
        "id": "JvCQ8L7aJh55"
      }
    },
    {
      "cell_type": "markdown",
      "source": [
        "7. What is polymorphism in OOP?\n",
        "   - Polymorphism is a concept in OOP that allows objects of different classes to be treated as if they were of the same class, especially when they share a common interface (like a method name).The word \"polymorphism\" means \"many forms\" — the same operation behaves differently on different classes."
      ],
      "metadata": {
        "id": "wNrvALLDJvY-"
      }
    },
    {
      "cell_type": "markdown",
      "source": [
        "8. How is encapsulation achieved in Python?\n",
        "   - In Python, encapsulation is mainly about restricting access to an object's internal data and controlling how it is accessed or modified.Python doesn’t enforce strict access controls like some other languages (e.g., private/public in Java), but it uses naming conventions and property methods to achieve encapsulation.\n",
        "   Example -\n",
        "             Using Naming Conventions\n",
        "             Using Getter and Setter Methods\n",
        "             Using @property Decorator (Pythonic way)\n"
      ],
      "metadata": {
        "id": "KTMInDTtJ_4d"
      }
    },
    {
      "cell_type": "markdown",
      "source": [
        "9. What is a constructor in Python+\n",
        "   - A constructor is a special method in a Python class that is automatically called when you create (instantiate) an object from that class. It’s mainly used to initialize the object's attributes with default or user-provided values.\n",
        "   "
      ],
      "metadata": {
        "id": "bt5Eyr7XKv73"
      }
    },
    {
      "cell_type": "markdown",
      "source": [
        "10. What are class and static methods in Python?\n",
        "    - Class Methods-\n",
        "        * A class method works with the class itself, not instances.\n",
        "        * It takes the class (cls) as the first parameter instead of the instance (self).\n",
        "        * You use the decorator @classmethod to define a class method.\n",
        "        * Commonly used for factory methods or to access/modify class-level data.\n",
        "\n",
        "     Static Methods\n",
        "\n",
        "        * A static method doesn't access instance or class data directly.\n",
        "        * It behaves like a regular function but lives inside the class namespace.\n",
        "        * You use the decorator @staticmethod to define a static method.\n",
        "        * Useful for utility functions related to the class but independent of instance/class data."
      ],
      "metadata": {
        "id": "JoHFpBpWK6-M"
      }
    },
    {
      "cell_type": "markdown",
      "source": [
        "11. What is method overloading in Python?\n",
        "    - Method overloading means defining multiple methods with the same name but different parameters (different type or number of arguments) within the same class.\n",
        "\n"
      ],
      "metadata": {
        "id": "_1b0bjH_L-r7"
      }
    },
    {
      "cell_type": "markdown",
      "source": [
        "12. What is method overriding in OOP?\n",
        "    - Method overriding is when a subclass (child class) provides its own version of a method that is already defined in its superclass (parent class). This allows the child class to change or extend the behavior of that method."
      ],
      "metadata": {
        "id": "c2nkaD3vMHOt"
      }
    },
    {
      "cell_type": "markdown",
      "source": [
        "13. What is a property decorator in Python?\n",
        "    - The @property decorator in Python is a built-in way to define methods that behave like attributes — allowing you to access, set, or delete class attributes using simple attribute syntax, but with method logic behind the scenes."
      ],
      "metadata": {
        "id": "1_SA0JmWMTX4"
      }
    },
    {
      "cell_type": "markdown",
      "source": [
        "14. Why is polymorphism important in OOP?\n",
        "    - Polymorphism is a fundamental concept in Object-Oriented Programming that enables flexibility, extensibility, and maintainability of code. Here’s why it’s so important:"
      ],
      "metadata": {
        "id": "e086GstOMdkv"
      }
    },
    {
      "cell_type": "markdown",
      "source": [
        "15. What is an abstract class in Python?\n",
        "    - An abstract class is a class that cannot be instantiated directly and is meant to be a blueprint for other classes. It defines a common interface (methods) that subclasses must implement.\n",
        "\n",
        "\n"
      ],
      "metadata": {
        "id": "S0Bv6ZofM7zy"
      }
    },
    {
      "cell_type": "markdown",
      "source": [
        "16. What are the advantages of OOP?\n",
        "    - OOP offers many benefits that make software development more manageable, flexible, and scalable. Here are the key advantages:\n",
        "       * Modularity\n",
        "       * Reusability\n",
        "       * Scalability and Maintainability\n",
        "       * Data Encapsulation\n",
        "       * Abstraction\n",
        "       * Polymorphism\n",
        "       * Improved Productivity\n",
        "       * Real-world Modeling\n",
        "       \n",
        "      \n",
        "      \n",
        "\n"
      ],
      "metadata": {
        "id": "044BYK1cNMRN"
      }
    },
    {
      "cell_type": "markdown",
      "source": [
        "17. What is the difference between a class variable and an instance variable?\n",
        "  - Class variables are shared across all instances.\n",
        "    \n",
        "     Instance variables are unique to each object."
      ],
      "metadata": {
        "id": "UtXL6ovHOJyD"
      }
    },
    {
      "cell_type": "markdown",
      "source": [
        "18. What is multiple inheritance in Python?\n",
        "    - Multiple inheritance is a feature in Python where a class can inherit attributes and methods from more than one parent class.\n",
        "\n"
      ],
      "metadata": {
        "id": "FCf8RnfXPB4c"
      }
    },
    {
      "cell_type": "markdown",
      "source": [
        "19. Explain the purpose of ‘’__str__’ and ‘__repr__’ ‘ methods in Python\n",
        "    - Both __str__ and __repr__ are special (dunder) methods in Python used to define how objects are represented as strings, but they serve slightly different purposes:\n",
        "     \n",
        "     __repr__ (Official String Representation)\n",
        "      \n",
        "       * Provides an unambiguous string representation of the object.\n",
        "       * Intended for developers/debugging.\n",
        "       * Should ideally return a string that, when passed to eval(), recreates the object (if possible).\n",
        "       * Used by the built-in function repr() and in interactive interpreter displays.\n",
        "\n",
        "      __str__ (Informal/String Representation)\n",
        "\n",
        "       * Provides a readable, user-friendly string representation of the object.\n",
        "       * Used by the built-in function str() and by the print() function.\n",
        "       * Meant for end-users."
      ],
      "metadata": {
        "id": "DHkGzRfgPQFT"
      }
    },
    {
      "cell_type": "markdown",
      "source": [
        "20.  What is the significance of the ‘super()’ function in Python\n",
        "     - The super() function in Python is used to call a method from a parent (super) class inside a subclass. It is especially useful in inheritance, enabling you to\n",
        "\n",
        "     Key Purposes of super():\n",
        "      \n",
        "      * Access Parent Class Methods:- Call methods from the parent class without explicitly naming it, which helps maintain flexibility, especially in multiple inheritance.\n",
        "\n",
        "      * Avoid Repeating Code:- When overriding a method, you can extend the parent class behavior by calling the original method via super() instead of rewriting it.\n",
        "\n",
        "      * Support Multiple Inheritance (MRO):- super() respects the Method Resolution Order (MRO) and calls the next method in the hierarchy properly, which is crucial in complex inheritance trees."
      ],
      "metadata": {
        "id": "3ONIT2GaQKfr"
      }
    },
    {
      "cell_type": "markdown",
      "source": [
        "21. What is the significance of the __del__ method in Python?\n",
        "    - The __del__ method in Python is a destructor — a special method that is called when an object is about to be destroyed (i.e., when it is garbage collected).\n",
        "\n"
      ],
      "metadata": {
        "id": "o5uxWJ6CQ_IT"
      }
    },
    {
      "cell_type": "markdown",
      "source": [
        "22. What is the difference between @staticmethod and @classmethod in Python?\n",
        "    - The difference between @staticmethod and @classmethod in Python lies in how they relate to the class and its instances. A @staticmethod is essentially a regular function placed inside a class’s namespace — it does not receive any implicit first argument, meaning it cannot access or modify the class state or instance data. It behaves like a plain function but is logically grouped within the class for organization or convenience. In contrast, a @classmethod receives the class itself (cls) as its first argument, which allows it to access and modify class-level data or call other class methods. This makes class methods useful for factory methods that create instances in alternative ways or for methods that need to work with the class as a whole rather than any particular instance. While both can be called on the class or instance, @classmethod is aware of the class context, whereas @staticmethod is not."
      ],
      "metadata": {
        "id": "J9YpF8J4RJXM"
      }
    },
    {
      "cell_type": "markdown",
      "source": [
        "23. How does polymorphism work in Python with inheritance?\n",
        "    - Polymorphism in Python with inheritance allows objects of different subclasses to be treated as instances of their parent class, while still exhibiting behavior specific to their own subclass. This works because subclasses can override methods defined in the parent class, and when a method is called on a parent class reference, Python uses dynamic method dispatch (also called runtime polymorphism) to invoke the subclass's version of the method. Essentially, the exact method that gets executed depends on the actual type of the object, not the reference type. This lets you write flexible and reusable code that can operate on a general class type but behave differently depending on the specific subclass object passed in.\n",
        "\n",
        "For example :- if you have a base class Animal with a method speak(), and subclasses like Dog and Cat that each override speak(), calling speak() on an Animal reference to a Dog or Cat object will produce different results based on the subclass implementation. This dynamic behavior is a core advantage of polymorphism combined with inheritance in Python."
      ],
      "metadata": {
        "id": "wOCdFVk3RrLZ"
      }
    },
    {
      "cell_type": "markdown",
      "source": [
        "24. What is method chaining in Python OOP?\n",
        "    - Method chaining is a programming technique in Python (and other languages) where multiple methods are called sequentially on the same object in a single expression. Each method returns the object itself (self), allowing the next method to be called directly on that returned object.\n",
        "\n"
      ],
      "metadata": {
        "id": "j9gH0f5xR-za"
      }
    },
    {
      "cell_type": "markdown",
      "source": [
        "25. What is the purpose of the __call__ method in Python?\n",
        "    - The __call__ method is a special (dunder) method in Python that allows an instance of a class to be called like a function. When you implement __call__ in a class, you can use the object itself with parentheses () and optional arguments, just like you would with a normal function.\n",
        "\n"
      ],
      "metadata": {
        "id": "RJEK196ISXi_"
      }
    },
    {
      "cell_type": "markdown",
      "source": [
        "#Practical Questions"
      ],
      "metadata": {
        "id": "HKDxAlRVShd2"
      }
    },
    {
      "cell_type": "markdown",
      "source": [
        "1. Create a parent class Animal with a method speak() that prints a generic message. Create a child class Dog\n",
        "that overrides the speak() method to print \"Bark!\"."
      ],
      "metadata": {
        "id": "Up6LtXL5Sn_3"
      }
    },
    {
      "cell_type": "code",
      "source": [
        "class Animal:\n",
        "    def speak(self):\n",
        "        print(\"This animal makes a sound.\")\n",
        "\n",
        "class Dog(Animal):\n",
        "    def speak(self):\n",
        "        print(\"Bark!\")\n",
        "\n",
        "# Example usage:\n",
        "animal = Animal()\n",
        "animal.speak()  # Output: This animal makes a sound.\n",
        "\n",
        "dog = Dog()\n",
        "dog.speak()     # Output: Bark!\n"
      ],
      "metadata": {
        "colab": {
          "base_uri": "https://localhost:8080/"
        },
        "id": "Q3tkecUTGxkX",
        "outputId": "eea4e01a-031b-46fe-cfb2-ac8cb791f1bf"
      },
      "execution_count": 3,
      "outputs": [
        {
          "output_type": "stream",
          "name": "stdout",
          "text": [
            "This animal makes a sound.\n",
            "Bark!\n"
          ]
        }
      ]
    },
    {
      "cell_type": "markdown",
      "source": [
        "2.  Write a program to create an abstract class Shape with a method area(). Derive classes Circle and Rectangle\n",
        "from it and implement the area() method in both.\n",
        "\n",
        "\n"
      ],
      "metadata": {
        "id": "daNyEN0HS5AV"
      }
    },
    {
      "cell_type": "code",
      "source": [
        "from abc import ABC, abstractmethod\n",
        "import math\n",
        "\n",
        "class Shape(ABC):\n",
        "    @abstractmethod\n",
        "    def area(self):\n",
        "        pass\n",
        "\n",
        "class Circle(Shape):\n",
        "    def __init__(self, radius):\n",
        "        self.radius = radius\n",
        "\n",
        "    def area(self):\n",
        "        return math.pi * self.radius ** 2\n",
        "\n",
        "class Rectangle(Shape):\n",
        "    def __init__(self, width, height):\n",
        "        self.width = width\n",
        "        self.height = height\n",
        "\n",
        "    def area(self):\n",
        "        return self.width * self.height\n",
        "\n",
        "# Example usage:\n",
        "circle = Circle(5)\n",
        "print(f\"Circle area: {circle.area():.2f}\")  # Circle area: 78.54\n",
        "\n",
        "rectangle = Rectangle(4, 7)\n",
        "print(f\"Rectangle area: {rectangle.area()}\")  # Rectangle area: 28\n"
      ],
      "metadata": {
        "colab": {
          "base_uri": "https://localhost:8080/"
        },
        "id": "S6rn8_8zS-sl",
        "outputId": "7e812e30-dbb9-4933-d967-af72d80b8ef5"
      },
      "execution_count": 2,
      "outputs": [
        {
          "output_type": "stream",
          "name": "stdout",
          "text": [
            "Circle area: 78.54\n",
            "Rectangle area: 28\n"
          ]
        }
      ]
    },
    {
      "cell_type": "markdown",
      "source": [
        "3.  Implement a multi-level inheritance scenario where a class Vehicle has an attribute type. Derive a class Car\n",
        "and further derive a class ElectricCar that adds a battery attribute."
      ],
      "metadata": {
        "id": "qA5OCFI3TDRJ"
      }
    },
    {
      "cell_type": "code",
      "source": [
        "class Vehicle:\n",
        "    def __init__(self, vehicle_type):\n",
        "        self.type = vehicle_type\n",
        "\n",
        "class Car(Vehicle):\n",
        "    def __init__(self, vehicle_type, brand):\n",
        "        super().__init__(vehicle_type)\n",
        "        self.brand = brand\n",
        "\n",
        "class ElectricCar(Car):\n",
        "    def __init__(self, vehicle_type, brand, battery_capacity):\n",
        "        super().__init__(vehicle_type, brand)\n",
        "        self.battery = battery_capacity\n",
        "\n",
        "    def display_info(self):\n",
        "        print(f\"Type: {self.type}\")\n",
        "        print(f\"Brand: {self.brand}\")\n",
        "        print(f\"Battery capacity: {self.battery} kWh\")\n",
        "\n",
        "# Example usage:\n",
        "tesla = ElectricCar(\"Car\", \"Tesla\", 100)\n",
        "tesla.display_info()\n",
        "\n"
      ],
      "metadata": {
        "colab": {
          "base_uri": "https://localhost:8080/"
        },
        "id": "ceaXDmytTH5f",
        "outputId": "d90bb0f8-433e-400b-efd3-208445190b65"
      },
      "execution_count": 1,
      "outputs": [
        {
          "output_type": "stream",
          "name": "stdout",
          "text": [
            "Type: Car\n",
            "Brand: Tesla\n",
            "Battery capacity: 100 kWh\n"
          ]
        }
      ]
    },
    {
      "cell_type": "markdown",
      "source": [
        "4. Demonstrate polymorphism by creating a base class Bird with a method fly(). Create two derived classes\n",
        "Sparrow and Penguin that override the fly() method.\n",
        "    \n"
      ],
      "metadata": {
        "id": "SyyM0p8JTV0y"
      }
    },
    {
      "cell_type": "code",
      "source": [
        "class Bird:\n",
        "    def fly(self):\n",
        "        print(\"Bird is flying\")\n",
        "\n",
        "class Sparrow(Bird):\n",
        "    def fly(self):\n",
        "        print(\"Sparrow can fly high\")\n",
        "\n",
        "class Penguin(Bird):\n",
        "    def fly(self):\n",
        "        print(\"Penguins cannot fly\")\n",
        "\n",
        "# Using polymorphism\n",
        "def make_bird_fly(bird):\n",
        "    bird.fly()\n",
        "\n",
        "sparrow = Sparrow()\n",
        "penguin = Penguin()\n",
        "\n",
        "make_bird_fly(sparrow)\n",
        "make_bird_fly(penguin)"
      ],
      "metadata": {
        "colab": {
          "base_uri": "https://localhost:8080/"
        },
        "id": "-bMMaXKNTukz",
        "outputId": "3d7a6276-684d-4456-92fd-842684201427"
      },
      "execution_count": 4,
      "outputs": [
        {
          "output_type": "stream",
          "name": "stdout",
          "text": [
            "Sparrow can fly high\n",
            "Penguins cannot fly\n"
          ]
        }
      ]
    },
    {
      "cell_type": "markdown",
      "source": [
        "5. Write a program to demonstrate encapsulation by creating a class BankAccount with private attributes\n",
        "balance and methods to deposit, withdraw, and check balance"
      ],
      "metadata": {
        "id": "CtGiEZHXTwjg"
      }
    },
    {
      "cell_type": "code",
      "source": [
        "class BankAccount:\n",
        "    def __init__(self, initial_balance=0):\n",
        "        self.__balance = initial_balance  # Private attribute\n",
        "\n",
        "    def deposit(self, amount):\n",
        "        if amount > 0:\n",
        "            self.__balance += amount\n",
        "            print(f\"Deposited: ${amount}\")\n",
        "        else:\n",
        "            print(\"Deposit amount must be positive.\")\n",
        "\n",
        "    def withdraw(self, amount):\n",
        "        if amount > self.__balance:\n",
        "            print(\"Insufficient balance!\")\n",
        "        elif amount <= 0:\n",
        "            print(\"Withdrawal amount must be positive.\")\n",
        "        else:\n",
        "            self.__balance -= amount\n",
        "            print(f\"Withdrawn: ${amount}\")\n",
        "\n",
        "    def check_balance(self):\n",
        "        print(f\"Current balance: ${self.__balance}\")\n",
        "\n",
        "\n",
        "account = BankAccount(100)\n",
        "account.check_balance()   # Current balance: $100\n",
        "account.deposit(50)       # Deposited: $50\n",
        "account.withdraw(30)      # Withdrawn: $30\n",
        "account.check_balance()   # Current balance: $120\n"
      ],
      "metadata": {
        "colab": {
          "base_uri": "https://localhost:8080/"
        },
        "id": "7vu1_qE9T2vU",
        "outputId": "4898d83e-5f1a-46e9-f81e-cce84f5c52db"
      },
      "execution_count": 5,
      "outputs": [
        {
          "output_type": "stream",
          "name": "stdout",
          "text": [
            "Current balance: $100\n",
            "Deposited: $50\n",
            "Withdrawn: $30\n",
            "Current balance: $120\n"
          ]
        }
      ]
    },
    {
      "cell_type": "markdown",
      "source": [
        "6.Demonstrate runtime polymorphism using a method play() in a base class Instrument. Derive classes Guitar\n",
        "and Piano that implement their own version of play().\n"
      ],
      "metadata": {
        "id": "buz-btG4UCHL"
      }
    },
    {
      "cell_type": "code",
      "source": [
        "class Instrument:\n",
        "    def play(self):\n",
        "        print(\"Playing some instrument\")\n",
        "\n",
        "class Guitar(Instrument):\n",
        "    def play(self):\n",
        "        print(\"Strumming the guitar\")\n",
        "\n",
        "class Piano(Instrument):\n",
        "    def play(self):\n",
        "        print(\"Playing the piano\")\n",
        "\n",
        "# Function that accepts any Instrument and calls play()\n",
        "def perform(instrument):\n",
        "    instrument.play()\n",
        "\n",
        "# Create instances\n",
        "guitar = Guitar()\n",
        "piano = Piano()\n",
        "\n",
        "# Runtime polymorphism: which play() method runs depends on the actual object type\n",
        "perform(guitar)  # Output: Strumming the guitar\n",
        "perform(piano)   # Output: Playing the piano\n"
      ],
      "metadata": {
        "colab": {
          "base_uri": "https://localhost:8080/"
        },
        "id": "9sbU6F_5UH0t",
        "outputId": "e7569747-9362-4292-914e-2af6155c784f"
      },
      "execution_count": 6,
      "outputs": [
        {
          "output_type": "stream",
          "name": "stdout",
          "text": [
            "Strumming the guitar\n",
            "Playing the piano\n"
          ]
        }
      ]
    },
    {
      "cell_type": "markdown",
      "source": [
        "7. Create a class MathOperations with a class method add_numbers() to add two numbers and a static\n",
        "method subtract_numbers() to subtract two numbers."
      ],
      "metadata": {
        "id": "JqVP4LEaUQyR"
      }
    },
    {
      "cell_type": "code",
      "source": [
        "class MathOperations:\n",
        "    @classmethod\n",
        "    def add_numbers(cls, a, b):\n",
        "        return a + b\n",
        "\n",
        "    @staticmethod\n",
        "    def subtract_numbers(a, b):\n",
        "        return a - b\n",
        "\n",
        "sum_result = MathOperations.add_numbers(10, 5)\n",
        "print(f\"Sum: {sum_result}\")  # Output: Sum: 15\n",
        "\n",
        "difference = MathOperations.subtract_numbers(10, 5)\n",
        "print(f\"Difference: {difference}\")  # Output: Difference: 5\n"
      ],
      "metadata": {
        "colab": {
          "base_uri": "https://localhost:8080/"
        },
        "id": "ZV0X-67zUcNV",
        "outputId": "a83ccd2d-a60c-4d51-ce38-cc5161f4f77e"
      },
      "execution_count": 7,
      "outputs": [
        {
          "output_type": "stream",
          "name": "stdout",
          "text": [
            "Sum: 15\n",
            "Difference: 5\n"
          ]
        }
      ]
    },
    {
      "cell_type": "markdown",
      "source": [
        "8.  Implement a class Person with a class method to count the total number of persons created"
      ],
      "metadata": {
        "id": "PM-9ziggUe0j"
      }
    },
    {
      "cell_type": "code",
      "source": [
        "class Person:\n",
        "    count = 0  # Class variable to keep track of person instances\n",
        "\n",
        "    def __init__(self, name):\n",
        "        self.name = name\n",
        "        Person.count += 1\n",
        "\n",
        "    @classmethod\n",
        "    def get_total_persons(cls):\n",
        "        return cls.count\n",
        "\n",
        "p1 = Person(\"Alice\")\n",
        "p2 = Person(\"Bob\")\n",
        "p3 = Person(\"Charlie\")\n",
        "\n",
        "print(f\"Total persons created: {Person.get_total_persons()}\")  # Output: 3\n"
      ],
      "metadata": {
        "colab": {
          "base_uri": "https://localhost:8080/"
        },
        "id": "MCgZ_cAzUi6r",
        "outputId": "24dd80ca-97c9-4090-c7f2-5edb87287390"
      },
      "execution_count": 8,
      "outputs": [
        {
          "output_type": "stream",
          "name": "stdout",
          "text": [
            "Total persons created: 3\n"
          ]
        }
      ]
    },
    {
      "cell_type": "markdown",
      "source": [
        "9.  Write a class Fraction with attributes numerator and denominator. Override the str method to display the\n",
        "fraction as \"numerator/denominator\".\n"
      ],
      "metadata": {
        "id": "38dsv7-nUpb0"
      }
    },
    {
      "cell_type": "code",
      "source": [
        "class Fraction:\n",
        "    def __init__(self, numerator, denominator):\n",
        "        self.numerator = numerator\n",
        "        self.denominator = denominator\n",
        "\n",
        "    def __str__(self):\n",
        "        return f\"{self.numerator}/{self.denominator}\"\n",
        "\n",
        "# Example usage:\n",
        "f1 = Fraction(3, 4)\n",
        "print(f1)  # Output: 3/4\n"
      ],
      "metadata": {
        "colab": {
          "base_uri": "https://localhost:8080/"
        },
        "id": "7HeDzgsgUuGD",
        "outputId": "7f89c8b7-6814-469b-b26e-903737b74386"
      },
      "execution_count": 9,
      "outputs": [
        {
          "output_type": "stream",
          "name": "stdout",
          "text": [
            "3/4\n"
          ]
        }
      ]
    },
    {
      "cell_type": "markdown",
      "source": [
        "10. Demonstrate operator overloading by creating a class Vector and overriding the add method to add two\n",
        "vectors"
      ],
      "metadata": {
        "id": "VtHsjRp6UzAn"
      }
    },
    {
      "cell_type": "code",
      "source": [
        "class Vector:\n",
        "    def __init__(self, x, y):\n",
        "        self.x = x\n",
        "        self.y = y\n",
        "\n",
        "    def __add__(self, other):\n",
        "        # Overloads the + operator to add two vectors\n",
        "        return Vector(self.x + other.x, self.y + other.y)\n",
        "\n",
        "    def __str__(self):\n",
        "        return f\"({self.x}, {self.y})\"\n",
        "\n",
        "# Example usage:\n",
        "v1 = Vector(2, 3)\n",
        "v2 = Vector(4, 5)\n",
        "v3 = v1 + v2  # This calls v1.__add__(v2)\n",
        "\n",
        "print(f\"v1: {v1}\")  # Output: (2,\n"
      ],
      "metadata": {
        "colab": {
          "base_uri": "https://localhost:8080/"
        },
        "id": "zfYt41l2U2T1",
        "outputId": "de737cc6-894d-4e5f-fd3f-be523dedb07f"
      },
      "execution_count": 10,
      "outputs": [
        {
          "output_type": "stream",
          "name": "stdout",
          "text": [
            "v1: (2, 3)\n"
          ]
        }
      ]
    },
    {
      "cell_type": "markdown",
      "source": [
        "11. . Create a class Person with attributes name and age. Add a method greet() that prints \"Hello, my name is\n",
        "{name} and I am {age} years old.\"\n",
        "\n",
        "\n"
      ],
      "metadata": {
        "id": "VnXUIrEOU8rZ"
      }
    },
    {
      "cell_type": "code",
      "source": [
        "class Person:\n",
        "    def __init__(self, name, age):\n",
        "        self.name = name\n",
        "        self.age = age\n",
        "\n",
        "    def greet(self):\n",
        "        print(f\"Hello, my name is {self.name} and I am {self.age} years old.\")\n",
        "\n",
        "# Example usage:\n",
        "p1 = Person(\"Alice\", 30)\n",
        "p1.greet()  # Output: Hello, my name is Alice and I am 30 years old.\n"
      ],
      "metadata": {
        "colab": {
          "base_uri": "https://localhost:8080/"
        },
        "id": "c8Tc3Bj6VCOd",
        "outputId": "2ca0c049-4f0f-463f-b7d5-a915e8fd2dc5"
      },
      "execution_count": 11,
      "outputs": [
        {
          "output_type": "stream",
          "name": "stdout",
          "text": [
            "Hello, my name is Alice and I am 30 years old.\n"
          ]
        }
      ]
    },
    {
      "cell_type": "markdown",
      "source": [
        "12.  Implement a class Student with attributes name and grades. Create a method average_grade() to compute\n",
        "the average of the grades."
      ],
      "metadata": {
        "id": "4dFn1PwSVE9N"
      }
    },
    {
      "cell_type": "code",
      "source": [
        "class Student:\n",
        "    def __init__(self, name, grades):\n",
        "        self.name = name\n",
        "        self.grades = grades  # grades should be a list of numbers\n",
        "\n",
        "    def average_grade(self):\n",
        "        if not self.grades:\n",
        "            return 0\n",
        "        return sum(self.grades) / len(self.grades)\n",
        "\n",
        "# Example usage:\n",
        "s1 = Student(\"John\", [85, 90, 78, 92])\n",
        "print(f\"{s1.name}'s average grade: {s1.average_grade():.2f}\")\n",
        "# Output: John's average grade: 86.25\n"
      ],
      "metadata": {
        "colab": {
          "base_uri": "https://localhost:8080/"
        },
        "id": "M9kbidC3VH41",
        "outputId": "e6074224-6001-4428-9e88-7e4658035e9c"
      },
      "execution_count": 12,
      "outputs": [
        {
          "output_type": "stream",
          "name": "stdout",
          "text": [
            "John's average grade: 86.25\n"
          ]
        }
      ]
    },
    {
      "cell_type": "markdown",
      "source": [
        "13.  Create a class Rectangle with methods set_dimensions() to set the dimensions and area() to calculate the\n",
        "area."
      ],
      "metadata": {
        "id": "xyPaqPjqVM2Z"
      }
    },
    {
      "cell_type": "code",
      "source": [
        "class Rectangle:\n",
        "    def __init__(self):\n",
        "        self.length = 0\n",
        "        self.width = 0\n",
        "\n",
        "    def set_dimensions(self, length, width):\n",
        "        self.length = length\n",
        "        self.width = width\n",
        "\n",
        "    def area(self):\n",
        "        return self.length * self.width\n",
        "\n",
        "# Example usage:\n",
        "rect = Rectangle()\n",
        "rect.set_dimensions(5, 3)\n",
        "print(f\"Area of rectangle: {rect.area()}\")  # Output: Area of rectangle: 15\n"
      ],
      "metadata": {
        "colab": {
          "base_uri": "https://localhost:8080/"
        },
        "id": "oObYYrzAVSDd",
        "outputId": "139e6709-6fcd-4cf7-afd8-216bde3211a3"
      },
      "execution_count": 13,
      "outputs": [
        {
          "output_type": "stream",
          "name": "stdout",
          "text": [
            "Area of rectangle: 15\n"
          ]
        }
      ]
    },
    {
      "cell_type": "markdown",
      "source": [
        "14. Create a class Employee with a method calculate_salary() that computes the salary based on hours worked\n",
        "and hourly rate. Create a derived class Manager that adds a bonus to the salary."
      ],
      "metadata": {
        "id": "n2qSkMifVUjD"
      }
    },
    {
      "cell_type": "code",
      "source": [
        "class Employee:\n",
        "    def __init__(self, name, hours_worked, hourly_rate):\n",
        "        self.name = name\n",
        "        self.hours_worked = hours_worked\n",
        "        self.hourly_rate = hourly_rate\n",
        "\n",
        "    def calculate_salary(self):\n",
        "        return self.hours_worked * self.hourly_rate\n",
        "\n",
        "class Manager(Employee):\n",
        "    def __init__(self, name, hours_worked, hourly_rate, bonus):\n",
        "        super().__init__(name, hours_worked, hourly_rate)\n",
        "        self.bonus = bonus\n",
        "\n",
        "    def calculate_salary(self):\n",
        "        base_salary = super().calculate_salary()\n",
        "        return base_salary + self.bonus\n",
        "\n",
        "# Example usage:\n",
        "emp = Employee(\"John\", 40, 20)\n",
        "print(f\"{emp.name}'s salary: ${emp.calculate_salary()}\")  # Output: John's salary: $800\n",
        "\n",
        "mgr = Manager(\"Alice\", 40, 30, 500)\n",
        "print(f\"{mgr.name}'s salary: ${mgr.calculate_salary()}\")  # Output: Alice's salary: $1700\n"
      ],
      "metadata": {
        "colab": {
          "base_uri": "https://localhost:8080/"
        },
        "id": "uX7Rwzh7VXnq",
        "outputId": "90d675ec-1b68-4412-dff3-cec0c488ed4c"
      },
      "execution_count": 14,
      "outputs": [
        {
          "output_type": "stream",
          "name": "stdout",
          "text": [
            "John's salary: $800\n",
            "Alice's salary: $1700\n"
          ]
        }
      ]
    },
    {
      "cell_type": "markdown",
      "source": [
        "15.  Create a class Product with attributes name, price, and quantity. Implement a method total_price() that\n",
        "calculates the total price of the product."
      ],
      "metadata": {
        "id": "miIzVXHiVeUv"
      }
    },
    {
      "cell_type": "code",
      "source": [
        "class Product:\n",
        "    def __init__(self, name, price, quantity):\n",
        "        self.name = name\n",
        "        self.price = price\n",
        "        self.quantity = quantity\n",
        "\n",
        "    def total_price(self):\n",
        "        return self.price * self.quantity\n",
        "\n",
        "# Example usage:\n",
        "item = Product(\"Laptop\", 800, 2)\n",
        "print(f\"Total price for {item.name}s: ${item.total_price()}\")  # Output: Total price for Laptops: $1600\n"
      ],
      "metadata": {
        "colab": {
          "base_uri": "https://localhost:8080/"
        },
        "id": "_-Kz8wrKVmrz",
        "outputId": "3861de91-9d87-40de-d479-a6e0813d3a71"
      },
      "execution_count": 15,
      "outputs": [
        {
          "output_type": "stream",
          "name": "stdout",
          "text": [
            "Total price for Laptops: $1600\n"
          ]
        }
      ]
    },
    {
      "cell_type": "markdown",
      "source": [
        "16.  Create a class Animal with an abstract method sound(). Create two derived classes Cow and Sheep that\n",
        "implement the sound() method."
      ],
      "metadata": {
        "id": "WE_agMEIVn6m"
      }
    },
    {
      "cell_type": "code",
      "source": [
        "from abc import ABC, abstractmethod\n",
        "\n",
        "class Animal(ABC):\n",
        "    @abstractmethod\n",
        "    def sound(self):\n",
        "        pass\n",
        "\n",
        "class Cow(Animal):\n",
        "    def sound(self):\n",
        "        print(\"Cow says Moo\")\n",
        "\n",
        "class Sheep(Animal):\n",
        "    def sound(self):\n",
        "        print(\"Sheep says Baa\")\n",
        "\n",
        "# Example usage:\n",
        "cow = Cow()\n",
        "sheep = Sheep()\n",
        "\n",
        "cow.sound()    # Output: Cow says Moo\n",
        "sheep.sound()  # Output: Sheep says Baa\n"
      ],
      "metadata": {
        "colab": {
          "base_uri": "https://localhost:8080/"
        },
        "id": "pEM2l6Y4VtGl",
        "outputId": "02cfc2cb-b191-425f-c601-dcbc995b71bf"
      },
      "execution_count": 16,
      "outputs": [
        {
          "output_type": "stream",
          "name": "stdout",
          "text": [
            "Cow says Moo\n",
            "Sheep says Baa\n"
          ]
        }
      ]
    },
    {
      "cell_type": "markdown",
      "source": [
        "17. . Create a class Book with attributes title, author, and year_published. Add a method get_book_info() that\n",
        "returns a formatted string with the book's details.\n",
        "\n",
        "\n"
      ],
      "metadata": {
        "id": "DlBvV9_6VxmY"
      }
    },
    {
      "cell_type": "code",
      "source": [
        "class Book:\n",
        "    def __init__(self, title, author, year_published):\n",
        "        self.title = title\n",
        "        self.author = author\n",
        "        self.year_published = year_published\n",
        "\n",
        "    def get_book_info(self):\n",
        "        return f\"'{self.title}' by {self.author}, published in {self.year_published}\"\n",
        "\n",
        "# Example usage:\n",
        "book = Book(\"1984\", \"George Orwell\", 1949)\n",
        "print(book.get_book_info())\n",
        "# Output: '1984' by George Orwell, published in 1949\n"
      ],
      "metadata": {
        "colab": {
          "base_uri": "https://localhost:8080/"
        },
        "id": "amOAhk_cV3Xy",
        "outputId": "a774cb22-8ee2-4b77-ac5e-b5a2de79b22f"
      },
      "execution_count": 17,
      "outputs": [
        {
          "output_type": "stream",
          "name": "stdout",
          "text": [
            "'1984' by George Orwell, published in 1949\n"
          ]
        }
      ]
    },
    {
      "cell_type": "markdown",
      "source": [
        "18. Create a class House with attributes address and price. Create a derived class Mansion that adds an\n",
        "attribute number_of_rooms."
      ],
      "metadata": {
        "id": "pjCQ07o7V58g"
      }
    },
    {
      "cell_type": "code",
      "source": [
        "class House:\n",
        "    def __init__(self, address, price):\n",
        "        self.address = address\n",
        "        self.price = price\n",
        "\n",
        "class Mansion(House):\n",
        "    def __init__(self, address, price, number_of_rooms):\n",
        "        super().__init__(address, price)\n",
        "        self.number_of_rooms = number_of_rooms\n",
        "\n",
        "# Example usage:\n",
        "house = House(\"123 Maple St\", 250000)\n",
        "mansion = Mansion(\"456 Oak Ave\", 1500000, 10)\n",
        "\n",
        "print(f\"House address: {house.address}, Price: ${house.price}\")\n",
        "print(f\"Mansion address: {mansion.address}, Price: ${mansion.price}, Rooms: {mansion.number_of_rooms}\")\n"
      ],
      "metadata": {
        "colab": {
          "base_uri": "https://localhost:8080/"
        },
        "id": "yFD7YcSfV92f",
        "outputId": "545e0911-2d21-4fdb-c799-356f89ea66ae"
      },
      "execution_count": 18,
      "outputs": [
        {
          "output_type": "stream",
          "name": "stdout",
          "text": [
            "House address: 123 Maple St, Price: $250000\n",
            "Mansion address: 456 Oak Ave, Price: $1500000, Rooms: 10\n"
          ]
        }
      ]
    }
  ]
}