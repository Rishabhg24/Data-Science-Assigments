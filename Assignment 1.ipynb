{
  "nbformat": 4,
  "nbformat_minor": 0,
  "metadata": {
    "colab": {
      "provenance": []
    },
    "kernelspec": {
      "name": "python3",
      "display_name": "Python 3"
    },
    "language_info": {
      "name": "python"
    }
  },
  "cells": [
    {
      "cell_type": "code",
      "execution_count": null,
      "metadata": {
        "id": "JQZkFQeIBNQ6"
      },
      "outputs": [],
      "source": []
    },
    {
      "cell_type": "markdown",
      "source": [
        "#Basic Python Questions"
      ],
      "metadata": {
        "id": "SNYYg4ldBhok"
      }
    },
    {
      "cell_type": "markdown",
      "source": [
        "1. What is Python, and why is it popular                          \n",
        "   - Python is a high-level, general-purpose programming language created by Guido van Rossum and first released in 1991. It emphasizes readability with its clean and straightforward syntax, making it easier for people to learn and use compared to many other programming languages.\n",
        "\n",
        "  - Here’s why Python is so popular:\n",
        "\n",
        "    + Easy to Learn and Use.\n",
        "\n",
        "    + Python’s syntax is simple and intuitive, which makes it a great first language for beginners.\n",
        "\n",
        "    + Versatile.\n",
        "\n",
        "    + It can be used for web development, data science, artificial intelligence (AI), machine learning (ML), automation, software development, game development, and more.\n",
        "\n",
        "    + Extensive Libraries and Frameworks\n",
        "\n",
        "    + Python has a massive collection of libraries and frameworks like Django (web), Pandas (data analysis), TensorFlow (machine learning), and Flask, which speed up development.\n",
        "\n",
        "    + Large Community.\n",
        "\n",
        "    + Millions of users worldwide mean lots of tutorials, guides, forums, and third-party support are available.\n",
        "\n",
        "    + Cross-Platform Compatibility\n",
        "\n",
        "    + Python works on Windows, macOS, Linux, and even mobile devices and embedded systems.\n",
        "\n",
        "    "
      ],
      "metadata": {
        "id": "rZotAlopBgTG"
      }
    },
    {
      "cell_type": "markdown",
      "source": [
        "2. What is an interpreter in Python\n",
        "   - In Python, an interpreter is a program that reads and executes your Python code line by line."
      ],
      "metadata": {
        "id": "ng7dzyRfExcE"
      }
    },
    {
      "cell_type": "markdown",
      "source": [
        "3. What are pre-defined keywords in Python\n",
        "   - Pre-defined keywords in Python are special reserved words that have a specific meaning to the Python interpreter.\n",
        "You cannot use these keywords as names for variables, functions, classes, or anything else — because they are part of the core language syntax.\n",
        "For example: if, else, for, while, def, class, return, True, False, None, import, from, etc."
      ],
      "metadata": {
        "id": "J2vM_cl-E4K9"
      }
    },
    {
      "cell_type": "markdown",
      "source": [
        "4. Can keywords be used as variable names  \n",
        "   - No, keywords cannot be used as variable names in Python."
      ],
      "metadata": {
        "id": "x4aArGL9FigX"
      }
    },
    {
      "cell_type": "markdown",
      "source": [
        "5. What is mutability in Python?  \n",
        "   - In Python, mutability refers to whether or not an object’s value can change after it has been created.\n",
        "\n",
        "    * If an object can be changed, it is called mutable.\n",
        "    \n",
        "    * If an object cannot be changed, it is called immutable."
      ],
      "metadata": {
        "id": "AjM4Sjd-GFFq"
      }
    },
    {
      "cell_type": "markdown",
      "source": [
        "6. Why are lists mutable, but tuples are immutable?\n",
        "   - Lists are mutable and tuples are immutable because they are designed for different purposes in Python.\n",
        "    Here’s why:\n",
        "    * Lists are Mutable Because\n",
        "      + Lists are meant to store collections of items that might change.\n",
        "      + You often need to add, remove, or update elements in a list.\n",
        "      + Python makes lists mutable so you can easily modify them without creating a whole new list.\n",
        "    * Tuples are Immutable\n",
        "      + Tuples are meant to store fixed collections of items — something that should not change.\n",
        "      + They are faster than lists.\n",
        "      + They can be used as keys in dictionaries (lists cannot because they can change).\n",
        "      + They help protect data by making sure it’s not accidentally modified."
      ],
      "metadata": {
        "id": "42BJEEQ2Gv47"
      }
    },
    {
      "cell_type": "markdown",
      "source": [
        "7. What is the difference between “==” and “is” operators in Python?\n",
        "   - In Python, == and is are very different:  \n",
        "   == checks if two variables have the same value.\n",
        "It compares the contents (what’s inside) of the objects.\n",
        "      Whereas is checks if two variables are the same object in memory.\n",
        "It checks whether they point to the exact same location in memory.\n"
      ],
      "metadata": {
        "id": "bqaSS08LIxSb"
      }
    },
    {
      "cell_type": "markdown",
      "source": [
        "8. What are logical operators in Python\n",
        "   - In Python, logical operators are used to combine multiple conditions (True/False values) and make decisions.\n",
        "\n",
        "    There are three main logical operators:\n",
        "    Operator\tMeaning\tExample\n",
        "    + and\tTrue if both are True\t(5 > 2) and (3 < 4) → True\n",
        "    + or\tTrue if at least one is True\t(5 > 2) or (3 > 5) → True\n",
        "    + not\tReverse the result (True → False, False → True)\tnot (5 > 2) → False"
      ],
      "metadata": {
        "id": "6sMfJbzaJbZM"
      }
    },
    {
      "cell_type": "markdown",
      "source": [
        "9. What is type casting in Python?  \n",
        "   - In Python, type casting means converting a value from one data type to another.\n",
        "\n",
        "    For example:\n",
        "      + Changing an integer to a string.\n",
        "      + Changing a string to a float.\n",
        "      + Changing a float to an integer.\n",
        "\n"
      ],
      "metadata": {
        "id": "1JTMVkBXKMHg"
      }
    },
    {
      "cell_type": "markdown",
      "source": [
        "10. What is the difference between implicit and explicit type casting?\n",
        "    - Implicit Type Casting :-\n",
        "Automatic conversion by Python.Python automatically converts one data type to another behind the scenes when it’s safe to do so.Happens during operations where types can be safely combined.           \n",
        "example :-\n",
        "           x = 5      # Integer\n",
        "           y = 2.5    # Float\n",
        "           z = x + y  # Python automatically converts x into float\n",
        "           print(z)   # Output: 7.5\n",
        "           print(type(z))  # <class 'float'>\n",
        "      \n",
        "   - Explicit Type Casting ;-\n",
        "Manual conversion by the programmer.You force a conversion from one type to another using functions like int(), float(), str(), etc.You do this when Python does not do it automatically, or you want specific control over types.   \n",
        "example :-\n",
        "           a = \"10\"   # String\n",
        "           b = int(a) # Manually convert to integer\n",
        "           print(b)   # Output: 10\n",
        "           print(type(b))  # <class 'int'>\n",
        "\n",
        "\n",
        "   "
      ],
      "metadata": {
        "id": "kdyHkRoXKv9L"
      }
    },
    {
      "cell_type": "markdown",
      "source": [
        "11. What is the purpose of conditional statements in Python  \n",
        "    -  The purpose of conditional statements are :-\n",
        "       + They control the flow of your program.\n",
        "       + They allow programs to respond differently to different inputs or situations.\n",
        "       + They make your programs smarter and dynamic, not just static instructions."
      ],
      "metadata": {
        "id": "SQyHcl3UMa9q"
      }
    },
    {
      "cell_type": "markdown",
      "source": [
        "12. How does the elif statement work?\n",
        "    - The elif statement in Python stands for \"else if\", and it’s used to check multiple conditions one after another. Here’s how it works:\n",
        "     + Python checks the first if condition.\n",
        "     + If it’s True, it runs that block and skips the rest.\n",
        "     + If it’s False, it moves to the first elif and checks that.\n",
        "     + If none of the if or elif conditions are True, the else block (if there is one) runs.   \n",
        "     example:-\n",
        "               temperature = 25\n",
        "               if temperature > 30:\n",
        "                 print(\"It's very hot!\")\n",
        "               elif temperature > 20:\n",
        "                 print(\"It's warm.\")\n",
        "               elif temperature > 10:\n",
        "                 print(\"It's cool.\")\n",
        "               else:\n",
        "                 print(\"It's cold.\")\n",
        "\n",
        "  "
      ],
      "metadata": {
        "id": "YtCwBB-ZNbD1"
      }
    },
    {
      "cell_type": "markdown",
      "source": [
        "13.  What is the difference between for and while loops?\n",
        "     - Here’s the main difference:\n",
        "        + for loop → Used when you know exactly how many times to repeat\n",
        "          It loops over a sequence (like a list, string, range, etc.).You use it when you have a fixed set of items or a known range.\n",
        "           Example:\n",
        "                    for i in range(5):\n",
        "                    print(i)\n",
        "\n",
        "        + while loop → Used when you don’t know how many times you’ll repeat\n",
        "It loops while a condition stays True.You use it when you’re not sure how many repetitions you need.\n",
        "          Example:\n",
        "                   count = 0\n",
        "                   while count < 5:\n",
        "                       print(count)\n",
        "                       count += 1\n",
        "\n",
        "         \n"
      ],
      "metadata": {
        "id": "41PE8p58OP2b"
      }
    },
    {
      "cell_type": "markdown",
      "source": [
        "14.  Describe a scenario where a while loop is more suitable than a for loop?\n",
        "     - You are building a password checker that keeps asking the user to enter the correct password until they get it right. In this case:\n",
        "        + You don’t know how many attempts the user will need.\n",
        "        + You need to keep looping until they enter the correct password.\n",
        "      Example :-\n",
        "                  correct_password = \"open123\"\n",
        "                  user_input = \"\"\n",
        "\n",
        "                  while user_input != correct_password:\n",
        "                     user_input = input(\"Enter your password: \")\n",
        "\n",
        "                  print(\"Access granted!\")\n"
      ],
      "metadata": {
        "id": "23g67MU0PhLX"
      }
    },
    {
      "cell_type": "markdown",
      "source": [
        "#Practicals Questions"
      ],
      "metadata": {
        "id": "jYVijPKhQdAN"
      }
    },
    {
      "cell_type": "markdown",
      "source": [
        "1. Write a Python program to print \"Hello, World!\""
      ],
      "metadata": {
        "id": "TQFkr1jLQxmn"
      }
    },
    {
      "cell_type": "code",
      "source": [
        "print(\"Hello, World!\")"
      ],
      "metadata": {
        "colab": {
          "base_uri": "https://localhost:8080/"
        },
        "id": "R8GbrV5qQ7md",
        "outputId": "90cc183a-b0ca-42ca-dd84-e3ab0b76c638"
      },
      "execution_count": 3,
      "outputs": [
        {
          "output_type": "stream",
          "name": "stdout",
          "text": [
            "Hello, World!\n"
          ]
        }
      ]
    },
    {
      "cell_type": "markdown",
      "source": [
        "2. Write a Python program that displays your name and age?"
      ],
      "metadata": {
        "id": "cXhNWBCuRF-K"
      }
    },
    {
      "cell_type": "code",
      "source": [
        "\n",
        "\n",
        "name = \"Rishabh Gupta\"\n",
        "age = 22\n",
        "\n",
        "print(\"My name is\", name)\n",
        "print(\"I am\", age, \"years old.\")\n"
      ],
      "metadata": {
        "colab": {
          "base_uri": "https://localhost:8080/"
        },
        "id": "r5ahL2tDRPOS",
        "outputId": "642bc308-258a-4325-834f-5e3806db0128"
      },
      "execution_count": 4,
      "outputs": [
        {
          "output_type": "stream",
          "name": "stdout",
          "text": [
            "My name is Rishabh Gupta\n",
            "I am 22 years old.\n"
          ]
        }
      ]
    },
    {
      "cell_type": "markdown",
      "source": [
        "3. Write code to print all the pre-defined keywords in Python using the keyword library"
      ],
      "metadata": {
        "id": "oMXmSkDYReck"
      }
    },
    {
      "cell_type": "code",
      "source": [
        "# Import the keyword library\n",
        "import keyword\n",
        "\n",
        "print(\"The predefined keywords in Python are:\")\n",
        "print(keyword.kwlist)\n"
      ],
      "metadata": {
        "colab": {
          "base_uri": "https://localhost:8080/"
        },
        "id": "Unx34ENvRmG1",
        "outputId": "65c62d51-3ea1-4ede-bf7c-56033c3516e6"
      },
      "execution_count": 5,
      "outputs": [
        {
          "output_type": "stream",
          "name": "stdout",
          "text": [
            "The predefined keywords in Python are:\n",
            "['False', 'None', 'True', 'and', 'as', 'assert', 'async', 'await', 'break', 'class', 'continue', 'def', 'del', 'elif', 'else', 'except', 'finally', 'for', 'from', 'global', 'if', 'import', 'in', 'is', 'lambda', 'nonlocal', 'not', 'or', 'pass', 'raise', 'return', 'try', 'while', 'with', 'yield']\n"
          ]
        }
      ]
    },
    {
      "cell_type": "markdown",
      "source": [
        "4. Write a program that checks if a given word is a Python keyword."
      ],
      "metadata": {
        "id": "zQ5k2LICR74n"
      }
    },
    {
      "cell_type": "code",
      "source": [
        "# Import the keyword module\n",
        "import keyword\n",
        "\n",
        "# Ask the user to enter a word\n",
        "word = input(\"Enter a word to check: \")\n",
        "\n",
        "# Check if the word is a Python keyword\n",
        "if keyword.iskeyword(word):\n",
        "    print(f\"'{word}' is a Python keyword.\")\n",
        "else:\n",
        "    print(f\"'{word}' is NOT a Python keyword.\")\n"
      ],
      "metadata": {
        "colab": {
          "base_uri": "https://localhost:8080/"
        },
        "id": "1rOYJm_TR5VW",
        "outputId": "3615f69f-883d-430d-9fab-7ab0f8bc26d4"
      },
      "execution_count": 8,
      "outputs": [
        {
          "output_type": "stream",
          "name": "stdout",
          "text": [
            "Enter a word to check: print\n",
            "'print' is NOT a Python keyword.\n"
          ]
        }
      ]
    },
    {
      "cell_type": "markdown",
      "source": [
        "5. Create a list and tuple in Python, and demonstrate how attempting to change an element works differently\n",
        "for each."
      ],
      "metadata": {
        "id": "48qs8CXUSjEh"
      }
    },
    {
      "cell_type": "code",
      "source": [
        "# Create a list\n",
        "my_list = [1, 2, 3, 4, 5]\n",
        "\n",
        "# Create a tuple\n",
        "my_tuple = (1, 2, 3, 4, 5)\n",
        "\n",
        "my_list[0] = 10\n",
        "print(\"Updated list:\", my_list)\n",
        "\n"
      ],
      "metadata": {
        "colab": {
          "base_uri": "https://localhost:8080/"
        },
        "id": "E6c1yPuiSK48",
        "outputId": "267c61f7-f402-44af-e522-5b4780c0364e"
      },
      "execution_count": 10,
      "outputs": [
        {
          "output_type": "stream",
          "name": "stdout",
          "text": [
            "Updated list: [10, 2, 3, 4, 5]\n"
          ]
        }
      ]
    },
    {
      "cell_type": "code",
      "source": [
        "my_tuple[0] = 10\n",
        "print(\"Updated tuple:\", my_tuple)\n"
      ],
      "metadata": {
        "colab": {
          "base_uri": "https://localhost:8080/",
          "height": 158
        },
        "id": "qkFY-AC-S-TG",
        "outputId": "8710683b-79ce-4d08-f423-8fb4881aa892"
      },
      "execution_count": 11,
      "outputs": [
        {
          "output_type": "error",
          "ename": "TypeError",
          "evalue": "'tuple' object does not support item assignment",
          "traceback": [
            "\u001b[0;31m---------------------------------------------------------------------------\u001b[0m",
            "\u001b[0;31mTypeError\u001b[0m                                 Traceback (most recent call last)",
            "\u001b[0;32m<ipython-input-11-f9afce1f0857>\u001b[0m in \u001b[0;36m<cell line: 0>\u001b[0;34m()\u001b[0m\n\u001b[0;32m----> 1\u001b[0;31m \u001b[0mmy_tuple\u001b[0m\u001b[0;34m[\u001b[0m\u001b[0;36m0\u001b[0m\u001b[0;34m]\u001b[0m \u001b[0;34m=\u001b[0m \u001b[0;36m10\u001b[0m\u001b[0;34m\u001b[0m\u001b[0;34m\u001b[0m\u001b[0m\n\u001b[0m\u001b[1;32m      2\u001b[0m \u001b[0mprint\u001b[0m\u001b[0;34m(\u001b[0m\u001b[0;34m\"Updated tuple:\"\u001b[0m\u001b[0;34m,\u001b[0m \u001b[0mmy_tuple\u001b[0m\u001b[0;34m)\u001b[0m\u001b[0;34m\u001b[0m\u001b[0;34m\u001b[0m\u001b[0m\n",
            "\u001b[0;31mTypeError\u001b[0m: 'tuple' object does not support item assignment"
          ]
        }
      ]
    },
    {
      "cell_type": "markdown",
      "source": [
        "6.  Write a function to demonstrate the behavior of mutable and immutable arguments."
      ],
      "metadata": {
        "id": "VYj3xFuMTOlk"
      }
    },
    {
      "cell_type": "code",
      "source": [
        "# Function to modify a list (mutable) and an integer (immutable)\n",
        "def modify(x, lst):\n",
        "    x = x + 10           # Try to modify the integer (immutable)\n",
        "    lst.append(100)       # Try to modify the list (mutable)\n",
        "    print(\"Inside function:\")\n",
        "    print(\"x:\", x)\n",
        "    print(\"lst:\", lst)\n",
        "\n",
        "# Define an integer and a list\n",
        "num = 5\n",
        "numbers = [1, 2, 3]\n",
        "\n",
        "# Call the function\n",
        "modify(num, numbers)\n",
        "\n",
        "print(\"\\nOutside function:\")\n",
        "print(\"num:\", num)         # Will NOT change\n",
        "print(\"numbers:\", numbers) # WILL change\n"
      ],
      "metadata": {
        "colab": {
          "base_uri": "https://localhost:8080/"
        },
        "id": "_cZCHEf7TZYp",
        "outputId": "2e736dfb-f313-4186-9aae-a7a3c96b002a"
      },
      "execution_count": 12,
      "outputs": [
        {
          "output_type": "stream",
          "name": "stdout",
          "text": [
            "Inside function:\n",
            "x: 15\n",
            "lst: [1, 2, 3, 100]\n",
            "\n",
            "Outside function:\n",
            "num: 5\n",
            "numbers: [1, 2, 3, 100]\n"
          ]
        }
      ]
    },
    {
      "cell_type": "markdown",
      "source": [
        "7. Write a program that performs basic arithmetic operations on two user-input numbers"
      ],
      "metadata": {
        "id": "p5j7qplgTbo7"
      }
    },
    {
      "cell_type": "code",
      "source": [
        "# Program to perform basic arithmetic operations\n",
        "\n",
        "# Get two numbers from the user\n",
        "num1 = float(input(\"Enter the first number: \"))\n",
        "num2 = float(input(\"Enter the second number: \"))\n",
        "\n",
        "# Perform arithmetic operations\n",
        "addition = num1 + num2\n",
        "subtraction = num1 - num2\n",
        "multiplication = num1 * num2\n",
        "\n",
        "# Check for division by zero\n",
        "if num2 != 0:\n",
        "    division = num1 / num2\n",
        "else:\n",
        "    division = \"Undefined (cannot divide by zero)\"\n",
        "\n",
        "# Display the results\n",
        "print(\"\\nResults:\")\n",
        "print(\"Addition:\", addition)\n",
        "print(\"Subtraction:\", subtraction)\n",
        "print(\"Multiplication:\", multiplication)\n",
        "print(\"Division:\", division)\n"
      ],
      "metadata": {
        "colab": {
          "base_uri": "https://localhost:8080/"
        },
        "id": "Vq2P_1AKTtud",
        "outputId": "c2c1ff9b-7e99-45f0-927e-06a1f5258796"
      },
      "execution_count": 13,
      "outputs": [
        {
          "output_type": "stream",
          "name": "stdout",
          "text": [
            "Enter the first number: 4\n",
            "Enter the second number: 5\n",
            "\n",
            "Results:\n",
            "Addition: 9.0\n",
            "Subtraction: -1.0\n",
            "Multiplication: 20.0\n",
            "Division: 0.8\n"
          ]
        }
      ]
    },
    {
      "cell_type": "markdown",
      "source": [
        "8.  Write a program to demonstrate the use of logical operators"
      ],
      "metadata": {
        "id": "mfyaaKqPT-GQ"
      }
    },
    {
      "cell_type": "code",
      "source": [
        "\n",
        "a = int(input(\"Enter first number: \"))\n",
        "b = int(input(\"Enter second number: \"))\n",
        "\n",
        "# Logical AND\n",
        "if a > 0 and b > 0:\n",
        "    print(\"Both numbers are positive.\")\n",
        "\n",
        "# Logical OR\n",
        "if a > 0 or b > 0:\n",
        "    print(\"At least one number is positive.\")\n",
        "\n",
        "# Logical NOT\n",
        "if not (a > 0 and b > 0):\n",
        "    print(\"Both numbers are not positive.\")\n"
      ],
      "metadata": {
        "colab": {
          "base_uri": "https://localhost:8080/"
        },
        "id": "S0LHwL_gT4KK",
        "outputId": "2de567e2-0a68-405a-fa38-e21aa2c9f744"
      },
      "execution_count": 14,
      "outputs": [
        {
          "output_type": "stream",
          "name": "stdout",
          "text": [
            "Enter first number: 4\n",
            "Enter second number: 5\n",
            "Both numbers are positive.\n",
            "At least one number is positive.\n"
          ]
        }
      ]
    },
    {
      "cell_type": "markdown",
      "source": [
        "9.  Write a Python program to convert user input from string to integer, float, and boolean types."
      ],
      "metadata": {
        "id": "rR3XChT2UOnO"
      }
    },
    {
      "cell_type": "code",
      "source": [
        "\n",
        "\n",
        "# Get user input as string\n",
        "user_input = input(\"Enter a value: \")\n",
        "\n",
        "# Convert to integer\n",
        "try:\n",
        "    integer_value = int(user_input)\n",
        "    print(f\"Integer: {integer_value}\")\n",
        "except ValueError:\n",
        "    print(\"Couldn't convert to integer.\")\n",
        "\n",
        "# Convert to float\n",
        "try:\n",
        "    float_value = float(user_input)\n",
        "    print(f\"Float: {float_value}\")\n",
        "except ValueError:\n",
        "    print(\"Couldn't convert to float.\")\n",
        "\n",
        "# Convert to boolean\n",
        "if user_input.lower() in ['true', '1']:\n",
        "    boolean_value = True\n",
        "elif user_input.lower() in ['false', '0']:\n",
        "    boolean_value = False\n",
        "else:\n",
        "    boolean_value = bool(user_input)  # For any other non-empty string, True\n",
        "print(f\"Boolean: {boolean_value}\")\n"
      ],
      "metadata": {
        "colab": {
          "base_uri": "https://localhost:8080/"
        },
        "id": "fqPtnkQ2UV-9",
        "outputId": "ed7eda0f-da7c-4507-edfb-a9e64270544a"
      },
      "execution_count": 15,
      "outputs": [
        {
          "output_type": "stream",
          "name": "stdout",
          "text": [
            "Enter a value: 5\n",
            "Integer: 5\n",
            "Float: 5.0\n",
            "Boolean: True\n"
          ]
        }
      ]
    },
    {
      "cell_type": "markdown",
      "source": [
        "10.  Write code to demonstrate type casting with list elements."
      ],
      "metadata": {
        "id": "NUbNckNFUcUo"
      }
    },
    {
      "cell_type": "code",
      "source": [
        "# List with string elements\n",
        "str_list = [\"1\", \"2\", \"3\", \"4\", \"5\"]\n",
        "\n",
        "# Convert the list elements from string to integer\n",
        "int_list = [int(x) for x in str_list]\n",
        "\n",
        "# Display the result\n",
        "print(\"Original list:\", str_list)\n",
        "print(\"Converted list (string to integer):\", int_list)\n",
        "\n"
      ],
      "metadata": {
        "colab": {
          "base_uri": "https://localhost:8080/"
        },
        "id": "DCoHm4o_UZps",
        "outputId": "872e4327-8546-42b5-c433-79532b48f917"
      },
      "execution_count": 16,
      "outputs": [
        {
          "output_type": "stream",
          "name": "stdout",
          "text": [
            "Original list: ['1', '2', '3', '4', '5']\n",
            "Converted list (string to integer): [1, 2, 3, 4, 5]\n"
          ]
        }
      ]
    },
    {
      "cell_type": "markdown",
      "source": [
        "11. . Write a program that checks if a number is positive, negative, or zero."
      ],
      "metadata": {
        "id": "7ZpOPRZgUpfi"
      }
    },
    {
      "cell_type": "code",
      "source": [
        "\n",
        "num = float(input(\"Enter a number: \"))\n",
        "\n",
        "# Check if the number is positive, negative, or zero\n",
        "if num > 0:\n",
        "    print(\"The number is positive.\")\n",
        "elif num < 0:\n",
        "    print(\"The number is negative.\")\n",
        "else:\n",
        "    print(\"The number is zero.\")\n"
      ],
      "metadata": {
        "colab": {
          "base_uri": "https://localhost:8080/"
        },
        "id": "zEXNP8m7UoFI",
        "outputId": "3a0cdca5-eda3-48a6-df0c-b3df04bbc7f0"
      },
      "execution_count": 17,
      "outputs": [
        {
          "output_type": "stream",
          "name": "stdout",
          "text": [
            "Enter a number: 34\n",
            "The number is positive.\n"
          ]
        }
      ]
    },
    {
      "cell_type": "markdown",
      "source": [
        "12.Write a for loop to print numbers from 1 to 10."
      ],
      "metadata": {
        "id": "iBwJF8HzU49e"
      }
    },
    {
      "cell_type": "code",
      "source": [
        "# For loop to print numbers from 1 to 10\n",
        "for i in range(1, 11):\n",
        "    print(i)\n"
      ],
      "metadata": {
        "colab": {
          "base_uri": "https://localhost:8080/"
        },
        "id": "ZZEeRavcU1ga",
        "outputId": "c9f53a45-6948-4981-baff-08c7c0bf5d5b"
      },
      "execution_count": 18,
      "outputs": [
        {
          "output_type": "stream",
          "name": "stdout",
          "text": [
            "1\n",
            "2\n",
            "3\n",
            "4\n",
            "5\n",
            "6\n",
            "7\n",
            "8\n",
            "9\n",
            "10\n"
          ]
        }
      ]
    },
    {
      "cell_type": "markdown",
      "source": [
        "13.  Write a Python program to find the sum of all even numbers between 1 and 50."
      ],
      "metadata": {
        "id": "rMcR9CoVVFrM"
      }
    },
    {
      "cell_type": "code",
      "source": [
        "\n",
        "sum_of_even_numbers = 0\n",
        "\n",
        "for num in range(2, 51, 2):\n",
        "    sum_of_even_numbers += num\n",
        "\n",
        "# Print the result\n",
        "print(\"Sum of all even numbers between 1 and 50:\", sum_of_even_numbers)\n"
      ],
      "metadata": {
        "colab": {
          "base_uri": "https://localhost:8080/"
        },
        "id": "RvYuWpyuVEDW",
        "outputId": "44c82029-3dd2-4406-abba-67d6d53237fb"
      },
      "execution_count": 19,
      "outputs": [
        {
          "output_type": "stream",
          "name": "stdout",
          "text": [
            "Sum of all even numbers between 1 and 50: 650\n"
          ]
        }
      ]
    },
    {
      "cell_type": "markdown",
      "source": [
        "14.  Write a program to reverse a string using a while loop"
      ],
      "metadata": {
        "id": "mAeXZwNJVVCJ"
      }
    },
    {
      "cell_type": "code",
      "source": [
        "\n",
        "string = input(\"Enter a string: \")\n",
        "\n",
        "# Initialize an empty string to store the reversed string\n",
        "reversed_string = \"\"\n",
        "\n",
        "index = len(string) - 1\n",
        "while index >= 0:\n",
        "    reversed_string += string[index]\n",
        "    index -= 1\n",
        "\n",
        "# Print the reversed string\n",
        "print(\"Reversed string:\", reversed_string)\n"
      ],
      "metadata": {
        "colab": {
          "base_uri": "https://localhost:8080/"
        },
        "id": "m2-l8sNfVS3v",
        "outputId": "e88c2652-fef7-4b60-e5e3-440ef93da12e"
      },
      "execution_count": 20,
      "outputs": [
        {
          "output_type": "stream",
          "name": "stdout",
          "text": [
            "Enter a string: rishabh\n",
            "Reversed string: hbahsir\n"
          ]
        }
      ]
    },
    {
      "cell_type": "markdown",
      "source": [
        " 15. Write a Python program to calculate the factorial of a number provided by the user using a while loop."
      ],
      "metadata": {
        "id": "Y_ceUYThVsRq"
      }
    },
    {
      "cell_type": "code",
      "source": [
        "\n",
        "num = int(input(\"Enter a number to calculate its factorial: \"))\n",
        "\n",
        "factorial = 1\n",
        "\n",
        "if num < 0:\n",
        "    print(\"Factorial is not defined for negative numbers.\")\n",
        "elif num == 0:\n",
        "    print(\"The factorial of 0 is 1.\")\n",
        "else:\n",
        "\n",
        "    i = 1\n",
        "    while i <= num:\n",
        "        factorial *= i\n",
        "        i += 1\n",
        "\n",
        "    print(f\"The factorial of {num} is {factorial}.\")\n"
      ],
      "metadata": {
        "colab": {
          "base_uri": "https://localhost:8080/"
        },
        "id": "uHY_HrNTVoOq",
        "outputId": "a6553059-edc3-43ab-fe81-6711920d79c7"
      },
      "execution_count": 21,
      "outputs": [
        {
          "output_type": "stream",
          "name": "stdout",
          "text": [
            "Enter a number to calculate its factorial: 5\n",
            "The factorial of 5 is 120.\n"
          ]
        }
      ]
    },
    {
      "cell_type": "code",
      "source": [],
      "metadata": {
        "id": "CxbeCfy_WFaw"
      },
      "execution_count": null,
      "outputs": []
    }
  ]
}